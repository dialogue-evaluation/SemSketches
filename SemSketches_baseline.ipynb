{
  "nbformat": 4,
  "nbformat_minor": 0,
  "metadata": {
    "accelerator": "GPU",
    "colab": {
      "name": "SemSketches baseline.ipynb",
      "provenance": [],
      "collapsed_sections": []
    },
    "kernelspec": {
      "display_name": "Python 3",
      "name": "python3"
    },
    "widgets": {
      "application/vnd.jupyter.widget-state+json": {
        "0eadda0269b94fea9157df4248df8364": {
          "model_module": "@jupyter-widgets/controls",
          "model_name": "HBoxModel",
          "state": {
            "_view_name": "HBoxView",
            "_dom_classes": [],
            "_model_name": "HBoxModel",
            "_view_module": "@jupyter-widgets/controls",
            "_model_module_version": "1.5.0",
            "_view_count": null,
            "_view_module_version": "1.5.0",
            "box_style": "",
            "layout": "IPY_MODEL_f7dbcd511ee248eb80e0a510497f8806",
            "_model_module": "@jupyter-widgets/controls",
            "children": [
              "IPY_MODEL_20b4db89f8834cc5abd4e8b27f42be7c",
              "IPY_MODEL_0a393f44027649619f2d98161c3ed5a0"
            ]
          }
        },
        "f7dbcd511ee248eb80e0a510497f8806": {
          "model_module": "@jupyter-widgets/base",
          "model_name": "LayoutModel",
          "state": {
            "_view_name": "LayoutView",
            "grid_template_rows": null,
            "right": null,
            "justify_content": null,
            "_view_module": "@jupyter-widgets/base",
            "overflow": null,
            "_model_module_version": "1.2.0",
            "_view_count": null,
            "flex_flow": null,
            "width": null,
            "min_width": null,
            "border": null,
            "align_items": null,
            "bottom": null,
            "_model_module": "@jupyter-widgets/base",
            "top": null,
            "grid_column": null,
            "overflow_y": null,
            "overflow_x": null,
            "grid_auto_flow": null,
            "grid_area": null,
            "grid_template_columns": null,
            "flex": null,
            "_model_name": "LayoutModel",
            "justify_items": null,
            "grid_row": null,
            "max_height": null,
            "align_content": null,
            "visibility": null,
            "align_self": null,
            "height": null,
            "min_height": null,
            "padding": null,
            "grid_auto_rows": null,
            "grid_gap": null,
            "max_width": null,
            "order": null,
            "_view_module_version": "1.2.0",
            "grid_template_areas": null,
            "object_position": null,
            "object_fit": null,
            "grid_auto_columns": null,
            "margin": null,
            "display": null,
            "left": null
          }
        },
        "20b4db89f8834cc5abd4e8b27f42be7c": {
          "model_module": "@jupyter-widgets/controls",
          "model_name": "FloatProgressModel",
          "state": {
            "_view_name": "ProgressView",
            "style": "IPY_MODEL_0173cffa4c7d4910b293f4d0eb13dfed",
            "_dom_classes": [],
            "description": "100%",
            "_model_name": "FloatProgressModel",
            "bar_style": "success",
            "max": 2000,
            "_view_module": "@jupyter-widgets/controls",
            "_model_module_version": "1.5.0",
            "value": 2000,
            "_view_count": null,
            "_view_module_version": "1.5.0",
            "orientation": "horizontal",
            "min": 0,
            "description_tooltip": null,
            "_model_module": "@jupyter-widgets/controls",
            "layout": "IPY_MODEL_affe7359076544a99fb4b19723a853bd"
          }
        },
        "0a393f44027649619f2d98161c3ed5a0": {
          "model_module": "@jupyter-widgets/controls",
          "model_name": "HTMLModel",
          "state": {
            "_view_name": "HTMLView",
            "style": "IPY_MODEL_2aeebbeac00f46109370f96604474cd1",
            "_dom_classes": [],
            "description": "",
            "_model_name": "HTMLModel",
            "placeholder": "​",
            "_view_module": "@jupyter-widgets/controls",
            "_model_module_version": "1.5.0",
            "value": " 2000/2000 [01:10&lt;00:00, 28.44it/s]",
            "_view_count": null,
            "_view_module_version": "1.5.0",
            "description_tooltip": null,
            "_model_module": "@jupyter-widgets/controls",
            "layout": "IPY_MODEL_157e6d251b5244be9b763e4776fccdfa"
          }
        },
        "0173cffa4c7d4910b293f4d0eb13dfed": {
          "model_module": "@jupyter-widgets/controls",
          "model_name": "ProgressStyleModel",
          "state": {
            "_view_name": "StyleView",
            "_model_name": "ProgressStyleModel",
            "description_width": "initial",
            "_view_module": "@jupyter-widgets/base",
            "_model_module_version": "1.5.0",
            "_view_count": null,
            "_view_module_version": "1.2.0",
            "bar_color": null,
            "_model_module": "@jupyter-widgets/controls"
          }
        },
        "affe7359076544a99fb4b19723a853bd": {
          "model_module": "@jupyter-widgets/base",
          "model_name": "LayoutModel",
          "state": {
            "_view_name": "LayoutView",
            "grid_template_rows": null,
            "right": null,
            "justify_content": null,
            "_view_module": "@jupyter-widgets/base",
            "overflow": null,
            "_model_module_version": "1.2.0",
            "_view_count": null,
            "flex_flow": null,
            "width": null,
            "min_width": null,
            "border": null,
            "align_items": null,
            "bottom": null,
            "_model_module": "@jupyter-widgets/base",
            "top": null,
            "grid_column": null,
            "overflow_y": null,
            "overflow_x": null,
            "grid_auto_flow": null,
            "grid_area": null,
            "grid_template_columns": null,
            "flex": null,
            "_model_name": "LayoutModel",
            "justify_items": null,
            "grid_row": null,
            "max_height": null,
            "align_content": null,
            "visibility": null,
            "align_self": null,
            "height": null,
            "min_height": null,
            "padding": null,
            "grid_auto_rows": null,
            "grid_gap": null,
            "max_width": null,
            "order": null,
            "_view_module_version": "1.2.0",
            "grid_template_areas": null,
            "object_position": null,
            "object_fit": null,
            "grid_auto_columns": null,
            "margin": null,
            "display": null,
            "left": null
          }
        },
        "2aeebbeac00f46109370f96604474cd1": {
          "model_module": "@jupyter-widgets/controls",
          "model_name": "DescriptionStyleModel",
          "state": {
            "_view_name": "StyleView",
            "_model_name": "DescriptionStyleModel",
            "description_width": "",
            "_view_module": "@jupyter-widgets/base",
            "_model_module_version": "1.5.0",
            "_view_count": null,
            "_view_module_version": "1.2.0",
            "_model_module": "@jupyter-widgets/controls"
          }
        },
        "157e6d251b5244be9b763e4776fccdfa": {
          "model_module": "@jupyter-widgets/base",
          "model_name": "LayoutModel",
          "state": {
            "_view_name": "LayoutView",
            "grid_template_rows": null,
            "right": null,
            "justify_content": null,
            "_view_module": "@jupyter-widgets/base",
            "overflow": null,
            "_model_module_version": "1.2.0",
            "_view_count": null,
            "flex_flow": null,
            "width": null,
            "min_width": null,
            "border": null,
            "align_items": null,
            "bottom": null,
            "_model_module": "@jupyter-widgets/base",
            "top": null,
            "grid_column": null,
            "overflow_y": null,
            "overflow_x": null,
            "grid_auto_flow": null,
            "grid_area": null,
            "grid_template_columns": null,
            "flex": null,
            "_model_name": "LayoutModel",
            "justify_items": null,
            "grid_row": null,
            "max_height": null,
            "align_content": null,
            "visibility": null,
            "align_self": null,
            "height": null,
            "min_height": null,
            "padding": null,
            "grid_auto_rows": null,
            "grid_gap": null,
            "max_width": null,
            "order": null,
            "_view_module_version": "1.2.0",
            "grid_template_areas": null,
            "object_position": null,
            "object_fit": null,
            "grid_auto_columns": null,
            "margin": null,
            "display": null,
            "left": null
          }
        },
        "318496f4e2a64000ac8689c3246c5093": {
          "model_module": "@jupyter-widgets/controls",
          "model_name": "HBoxModel",
          "state": {
            "_view_name": "HBoxView",
            "_dom_classes": [],
            "_model_name": "HBoxModel",
            "_view_module": "@jupyter-widgets/controls",
            "_model_module_version": "1.5.0",
            "_view_count": null,
            "_view_module_version": "1.5.0",
            "box_style": "",
            "layout": "IPY_MODEL_08abd3336313495bb505d85495ade092",
            "_model_module": "@jupyter-widgets/controls",
            "children": [
              "IPY_MODEL_30a425b706bf4d7b98e4db03a5f61a84",
              "IPY_MODEL_958a8fdee47f49be852f3a986fc70d0c"
            ]
          }
        },
        "08abd3336313495bb505d85495ade092": {
          "model_module": "@jupyter-widgets/base",
          "model_name": "LayoutModel",
          "state": {
            "_view_name": "LayoutView",
            "grid_template_rows": null,
            "right": null,
            "justify_content": null,
            "_view_module": "@jupyter-widgets/base",
            "overflow": null,
            "_model_module_version": "1.2.0",
            "_view_count": null,
            "flex_flow": null,
            "width": null,
            "min_width": null,
            "border": null,
            "align_items": null,
            "bottom": null,
            "_model_module": "@jupyter-widgets/base",
            "top": null,
            "grid_column": null,
            "overflow_y": null,
            "overflow_x": null,
            "grid_auto_flow": null,
            "grid_area": null,
            "grid_template_columns": null,
            "flex": null,
            "_model_name": "LayoutModel",
            "justify_items": null,
            "grid_row": null,
            "max_height": null,
            "align_content": null,
            "visibility": null,
            "align_self": null,
            "height": null,
            "min_height": null,
            "padding": null,
            "grid_auto_rows": null,
            "grid_gap": null,
            "max_width": null,
            "order": null,
            "_view_module_version": "1.2.0",
            "grid_template_areas": null,
            "object_position": null,
            "object_fit": null,
            "grid_auto_columns": null,
            "margin": null,
            "display": null,
            "left": null
          }
        },
        "30a425b706bf4d7b98e4db03a5f61a84": {
          "model_module": "@jupyter-widgets/controls",
          "model_name": "FloatProgressModel",
          "state": {
            "_view_name": "ProgressView",
            "style": "IPY_MODEL_cfbc5a42a0fc484eb8212bbf4da63fd2",
            "_dom_classes": [],
            "description": "100%",
            "_model_name": "FloatProgressModel",
            "bar_style": "success",
            "max": 623,
            "_view_module": "@jupyter-widgets/controls",
            "_model_module_version": "1.5.0",
            "value": 623,
            "_view_count": null,
            "_view_module_version": "1.5.0",
            "orientation": "horizontal",
            "min": 0,
            "description_tooltip": null,
            "_model_module": "@jupyter-widgets/controls",
            "layout": "IPY_MODEL_bc87882d20994737a3c9561ca7f9ba11"
          }
        },
        "958a8fdee47f49be852f3a986fc70d0c": {
          "model_module": "@jupyter-widgets/controls",
          "model_name": "HTMLModel",
          "state": {
            "_view_name": "HTMLView",
            "style": "IPY_MODEL_9185bb587ab3464c8dc158485ec3cc49",
            "_dom_classes": [],
            "description": "",
            "_model_name": "HTMLModel",
            "placeholder": "​",
            "_view_module": "@jupyter-widgets/controls",
            "_model_module_version": "1.5.0",
            "value": " 623/623 [05:13&lt;00:00,  1.98it/s]",
            "_view_count": null,
            "_view_module_version": "1.5.0",
            "description_tooltip": null,
            "_model_module": "@jupyter-widgets/controls",
            "layout": "IPY_MODEL_931801a374e54273b4b1406d66fa112a"
          }
        },
        "cfbc5a42a0fc484eb8212bbf4da63fd2": {
          "model_module": "@jupyter-widgets/controls",
          "model_name": "ProgressStyleModel",
          "state": {
            "_view_name": "StyleView",
            "_model_name": "ProgressStyleModel",
            "description_width": "initial",
            "_view_module": "@jupyter-widgets/base",
            "_model_module_version": "1.5.0",
            "_view_count": null,
            "_view_module_version": "1.2.0",
            "bar_color": null,
            "_model_module": "@jupyter-widgets/controls"
          }
        },
        "bc87882d20994737a3c9561ca7f9ba11": {
          "model_module": "@jupyter-widgets/base",
          "model_name": "LayoutModel",
          "state": {
            "_view_name": "LayoutView",
            "grid_template_rows": null,
            "right": null,
            "justify_content": null,
            "_view_module": "@jupyter-widgets/base",
            "overflow": null,
            "_model_module_version": "1.2.0",
            "_view_count": null,
            "flex_flow": null,
            "width": null,
            "min_width": null,
            "border": null,
            "align_items": null,
            "bottom": null,
            "_model_module": "@jupyter-widgets/base",
            "top": null,
            "grid_column": null,
            "overflow_y": null,
            "overflow_x": null,
            "grid_auto_flow": null,
            "grid_area": null,
            "grid_template_columns": null,
            "flex": null,
            "_model_name": "LayoutModel",
            "justify_items": null,
            "grid_row": null,
            "max_height": null,
            "align_content": null,
            "visibility": null,
            "align_self": null,
            "height": null,
            "min_height": null,
            "padding": null,
            "grid_auto_rows": null,
            "grid_gap": null,
            "max_width": null,
            "order": null,
            "_view_module_version": "1.2.0",
            "grid_template_areas": null,
            "object_position": null,
            "object_fit": null,
            "grid_auto_columns": null,
            "margin": null,
            "display": null,
            "left": null
          }
        },
        "9185bb587ab3464c8dc158485ec3cc49": {
          "model_module": "@jupyter-widgets/controls",
          "model_name": "DescriptionStyleModel",
          "state": {
            "_view_name": "StyleView",
            "_model_name": "DescriptionStyleModel",
            "description_width": "",
            "_view_module": "@jupyter-widgets/base",
            "_model_module_version": "1.5.0",
            "_view_count": null,
            "_view_module_version": "1.2.0",
            "_model_module": "@jupyter-widgets/controls"
          }
        },
        "931801a374e54273b4b1406d66fa112a": {
          "model_module": "@jupyter-widgets/base",
          "model_name": "LayoutModel",
          "state": {
            "_view_name": "LayoutView",
            "grid_template_rows": null,
            "right": null,
            "justify_content": null,
            "_view_module": "@jupyter-widgets/base",
            "overflow": null,
            "_model_module_version": "1.2.0",
            "_view_count": null,
            "flex_flow": null,
            "width": null,
            "min_width": null,
            "border": null,
            "align_items": null,
            "bottom": null,
            "_model_module": "@jupyter-widgets/base",
            "top": null,
            "grid_column": null,
            "overflow_y": null,
            "overflow_x": null,
            "grid_auto_flow": null,
            "grid_area": null,
            "grid_template_columns": null,
            "flex": null,
            "_model_name": "LayoutModel",
            "justify_items": null,
            "grid_row": null,
            "max_height": null,
            "align_content": null,
            "visibility": null,
            "align_self": null,
            "height": null,
            "min_height": null,
            "padding": null,
            "grid_auto_rows": null,
            "grid_gap": null,
            "max_width": null,
            "order": null,
            "_view_module_version": "1.2.0",
            "grid_template_areas": null,
            "object_position": null,
            "object_fit": null,
            "grid_auto_columns": null,
            "margin": null,
            "display": null,
            "left": null
          }
        },
        "f8519b04fa7741b38f90228e9671418b": {
          "model_module": "@jupyter-widgets/controls",
          "model_name": "HBoxModel",
          "state": {
            "_view_name": "HBoxView",
            "_dom_classes": [],
            "_model_name": "HBoxModel",
            "_view_module": "@jupyter-widgets/controls",
            "_model_module_version": "1.5.0",
            "_view_count": null,
            "_view_module_version": "1.5.0",
            "box_style": "",
            "layout": "IPY_MODEL_d5163ddf1c404b7492367ceea550385b",
            "_model_module": "@jupyter-widgets/controls",
            "children": [
              "IPY_MODEL_3884f3a5bccb46dbbe97c1408b8739df",
              "IPY_MODEL_ec20a9fcff4149f0bb46a2de437bc9cb"
            ]
          }
        },
        "d5163ddf1c404b7492367ceea550385b": {
          "model_module": "@jupyter-widgets/base",
          "model_name": "LayoutModel",
          "state": {
            "_view_name": "LayoutView",
            "grid_template_rows": null,
            "right": null,
            "justify_content": null,
            "_view_module": "@jupyter-widgets/base",
            "overflow": null,
            "_model_module_version": "1.2.0",
            "_view_count": null,
            "flex_flow": null,
            "width": null,
            "min_width": null,
            "border": null,
            "align_items": null,
            "bottom": null,
            "_model_module": "@jupyter-widgets/base",
            "top": null,
            "grid_column": null,
            "overflow_y": null,
            "overflow_x": null,
            "grid_auto_flow": null,
            "grid_area": null,
            "grid_template_columns": null,
            "flex": null,
            "_model_name": "LayoutModel",
            "justify_items": null,
            "grid_row": null,
            "max_height": null,
            "align_content": null,
            "visibility": null,
            "align_self": null,
            "height": null,
            "min_height": null,
            "padding": null,
            "grid_auto_rows": null,
            "grid_gap": null,
            "max_width": null,
            "order": null,
            "_view_module_version": "1.2.0",
            "grid_template_areas": null,
            "object_position": null,
            "object_fit": null,
            "grid_auto_columns": null,
            "margin": null,
            "display": null,
            "left": null
          }
        },
        "3884f3a5bccb46dbbe97c1408b8739df": {
          "model_module": "@jupyter-widgets/controls",
          "model_name": "FloatProgressModel",
          "state": {
            "_view_name": "ProgressView",
            "style": "IPY_MODEL_fac26a052f054392aea44873945c706a",
            "_dom_classes": [],
            "description": "100%",
            "_model_name": "FloatProgressModel",
            "bar_style": "success",
            "max": 20,
            "_view_module": "@jupyter-widgets/controls",
            "_model_module_version": "1.5.0",
            "value": 20,
            "_view_count": null,
            "_view_module_version": "1.5.0",
            "orientation": "horizontal",
            "min": 0,
            "description_tooltip": null,
            "_model_module": "@jupyter-widgets/controls",
            "layout": "IPY_MODEL_17ecf53b1cc84d2aa9be6667f805ad30"
          }
        },
        "ec20a9fcff4149f0bb46a2de437bc9cb": {
          "model_module": "@jupyter-widgets/controls",
          "model_name": "HTMLModel",
          "state": {
            "_view_name": "HTMLView",
            "style": "IPY_MODEL_e094855d2a964449b9523225d8c3f81e",
            "_dom_classes": [],
            "description": "",
            "_model_name": "HTMLModel",
            "placeholder": "​",
            "_view_module": "@jupyter-widgets/controls",
            "_model_module_version": "1.5.0",
            "value": " 20/20 [00:22&lt;00:00,  1.13s/it]",
            "_view_count": null,
            "_view_module_version": "1.5.0",
            "description_tooltip": null,
            "_model_module": "@jupyter-widgets/controls",
            "layout": "IPY_MODEL_d94f7128a4a04419b91e602b7f97e439"
          }
        },
        "fac26a052f054392aea44873945c706a": {
          "model_module": "@jupyter-widgets/controls",
          "model_name": "ProgressStyleModel",
          "state": {
            "_view_name": "StyleView",
            "_model_name": "ProgressStyleModel",
            "description_width": "initial",
            "_view_module": "@jupyter-widgets/base",
            "_model_module_version": "1.5.0",
            "_view_count": null,
            "_view_module_version": "1.2.0",
            "bar_color": null,
            "_model_module": "@jupyter-widgets/controls"
          }
        },
        "17ecf53b1cc84d2aa9be6667f805ad30": {
          "model_module": "@jupyter-widgets/base",
          "model_name": "LayoutModel",
          "state": {
            "_view_name": "LayoutView",
            "grid_template_rows": null,
            "right": null,
            "justify_content": null,
            "_view_module": "@jupyter-widgets/base",
            "overflow": null,
            "_model_module_version": "1.2.0",
            "_view_count": null,
            "flex_flow": null,
            "width": null,
            "min_width": null,
            "border": null,
            "align_items": null,
            "bottom": null,
            "_model_module": "@jupyter-widgets/base",
            "top": null,
            "grid_column": null,
            "overflow_y": null,
            "overflow_x": null,
            "grid_auto_flow": null,
            "grid_area": null,
            "grid_template_columns": null,
            "flex": null,
            "_model_name": "LayoutModel",
            "justify_items": null,
            "grid_row": null,
            "max_height": null,
            "align_content": null,
            "visibility": null,
            "align_self": null,
            "height": null,
            "min_height": null,
            "padding": null,
            "grid_auto_rows": null,
            "grid_gap": null,
            "max_width": null,
            "order": null,
            "_view_module_version": "1.2.0",
            "grid_template_areas": null,
            "object_position": null,
            "object_fit": null,
            "grid_auto_columns": null,
            "margin": null,
            "display": null,
            "left": null
          }
        },
        "e094855d2a964449b9523225d8c3f81e": {
          "model_module": "@jupyter-widgets/controls",
          "model_name": "DescriptionStyleModel",
          "state": {
            "_view_name": "StyleView",
            "_model_name": "DescriptionStyleModel",
            "description_width": "",
            "_view_module": "@jupyter-widgets/base",
            "_model_module_version": "1.5.0",
            "_view_count": null,
            "_view_module_version": "1.2.0",
            "_model_module": "@jupyter-widgets/controls"
          }
        },
        "d94f7128a4a04419b91e602b7f97e439": {
          "model_module": "@jupyter-widgets/base",
          "model_name": "LayoutModel",
          "state": {
            "_view_name": "LayoutView",
            "grid_template_rows": null,
            "right": null,
            "justify_content": null,
            "_view_module": "@jupyter-widgets/base",
            "overflow": null,
            "_model_module_version": "1.2.0",
            "_view_count": null,
            "flex_flow": null,
            "width": null,
            "min_width": null,
            "border": null,
            "align_items": null,
            "bottom": null,
            "_model_module": "@jupyter-widgets/base",
            "top": null,
            "grid_column": null,
            "overflow_y": null,
            "overflow_x": null,
            "grid_auto_flow": null,
            "grid_area": null,
            "grid_template_columns": null,
            "flex": null,
            "_model_name": "LayoutModel",
            "justify_items": null,
            "grid_row": null,
            "max_height": null,
            "align_content": null,
            "visibility": null,
            "align_self": null,
            "height": null,
            "min_height": null,
            "padding": null,
            "grid_auto_rows": null,
            "grid_gap": null,
            "max_width": null,
            "order": null,
            "_view_module_version": "1.2.0",
            "grid_template_areas": null,
            "object_position": null,
            "object_fit": null,
            "grid_auto_columns": null,
            "margin": null,
            "display": null,
            "left": null
          }
        },
        "40e7bcdd5f324897919a395a139eeb29": {
          "model_module": "@jupyter-widgets/controls",
          "model_name": "HBoxModel",
          "state": {
            "_view_name": "HBoxView",
            "_dom_classes": [],
            "_model_name": "HBoxModel",
            "_view_module": "@jupyter-widgets/controls",
            "_model_module_version": "1.5.0",
            "_view_count": null,
            "_view_module_version": "1.5.0",
            "box_style": "",
            "layout": "IPY_MODEL_5d06f8c05be3446c9bbf7782068dd39b",
            "_model_module": "@jupyter-widgets/controls",
            "children": [
              "IPY_MODEL_a33bedb2f9be4a758e4d0bcf78c6090a",
              "IPY_MODEL_3a06e50fb68f46a8b2fdaf8382f75897"
            ]
          }
        },
        "5d06f8c05be3446c9bbf7782068dd39b": {
          "model_module": "@jupyter-widgets/base",
          "model_name": "LayoutModel",
          "state": {
            "_view_name": "LayoutView",
            "grid_template_rows": null,
            "right": null,
            "justify_content": null,
            "_view_module": "@jupyter-widgets/base",
            "overflow": null,
            "_model_module_version": "1.2.0",
            "_view_count": null,
            "flex_flow": null,
            "width": null,
            "min_width": null,
            "border": null,
            "align_items": null,
            "bottom": null,
            "_model_module": "@jupyter-widgets/base",
            "top": null,
            "grid_column": null,
            "overflow_y": null,
            "overflow_x": null,
            "grid_auto_flow": null,
            "grid_area": null,
            "grid_template_columns": null,
            "flex": null,
            "_model_name": "LayoutModel",
            "justify_items": null,
            "grid_row": null,
            "max_height": null,
            "align_content": null,
            "visibility": null,
            "align_self": null,
            "height": null,
            "min_height": null,
            "padding": null,
            "grid_auto_rows": null,
            "grid_gap": null,
            "max_width": null,
            "order": null,
            "_view_module_version": "1.2.0",
            "grid_template_areas": null,
            "object_position": null,
            "object_fit": null,
            "grid_auto_columns": null,
            "margin": null,
            "display": null,
            "left": null
          }
        },
        "a33bedb2f9be4a758e4d0bcf78c6090a": {
          "model_module": "@jupyter-widgets/controls",
          "model_name": "FloatProgressModel",
          "state": {
            "_view_name": "ProgressView",
            "style": "IPY_MODEL_3c9c2aded6c943e0aa7b616249f8c200",
            "_dom_classes": [],
            "description": "100%",
            "_model_name": "FloatProgressModel",
            "bar_style": "success",
            "max": 20,
            "_view_module": "@jupyter-widgets/controls",
            "_model_module_version": "1.5.0",
            "value": 20,
            "_view_count": null,
            "_view_module_version": "1.5.0",
            "orientation": "horizontal",
            "min": 0,
            "description_tooltip": null,
            "_model_module": "@jupyter-widgets/controls",
            "layout": "IPY_MODEL_452bef0577c7484cacd893d622c90071"
          }
        },
        "3a06e50fb68f46a8b2fdaf8382f75897": {
          "model_module": "@jupyter-widgets/controls",
          "model_name": "HTMLModel",
          "state": {
            "_view_name": "HTMLView",
            "style": "IPY_MODEL_d551e40e5b0949f8936802336a500e2e",
            "_dom_classes": [],
            "description": "",
            "_model_name": "HTMLModel",
            "placeholder": "​",
            "_view_module": "@jupyter-widgets/controls",
            "_model_module_version": "1.5.0",
            "value": " 20/20 [11:10&lt;00:00, 33.52s/it]",
            "_view_count": null,
            "_view_module_version": "1.5.0",
            "description_tooltip": null,
            "_model_module": "@jupyter-widgets/controls",
            "layout": "IPY_MODEL_d236a4ccf8c840d1ba0dc592ddf4554a"
          }
        },
        "3c9c2aded6c943e0aa7b616249f8c200": {
          "model_module": "@jupyter-widgets/controls",
          "model_name": "ProgressStyleModel",
          "state": {
            "_view_name": "StyleView",
            "_model_name": "ProgressStyleModel",
            "description_width": "initial",
            "_view_module": "@jupyter-widgets/base",
            "_model_module_version": "1.5.0",
            "_view_count": null,
            "_view_module_version": "1.2.0",
            "bar_color": null,
            "_model_module": "@jupyter-widgets/controls"
          }
        },
        "452bef0577c7484cacd893d622c90071": {
          "model_module": "@jupyter-widgets/base",
          "model_name": "LayoutModel",
          "state": {
            "_view_name": "LayoutView",
            "grid_template_rows": null,
            "right": null,
            "justify_content": null,
            "_view_module": "@jupyter-widgets/base",
            "overflow": null,
            "_model_module_version": "1.2.0",
            "_view_count": null,
            "flex_flow": null,
            "width": null,
            "min_width": null,
            "border": null,
            "align_items": null,
            "bottom": null,
            "_model_module": "@jupyter-widgets/base",
            "top": null,
            "grid_column": null,
            "overflow_y": null,
            "overflow_x": null,
            "grid_auto_flow": null,
            "grid_area": null,
            "grid_template_columns": null,
            "flex": null,
            "_model_name": "LayoutModel",
            "justify_items": null,
            "grid_row": null,
            "max_height": null,
            "align_content": null,
            "visibility": null,
            "align_self": null,
            "height": null,
            "min_height": null,
            "padding": null,
            "grid_auto_rows": null,
            "grid_gap": null,
            "max_width": null,
            "order": null,
            "_view_module_version": "1.2.0",
            "grid_template_areas": null,
            "object_position": null,
            "object_fit": null,
            "grid_auto_columns": null,
            "margin": null,
            "display": null,
            "left": null
          }
        },
        "d551e40e5b0949f8936802336a500e2e": {
          "model_module": "@jupyter-widgets/controls",
          "model_name": "DescriptionStyleModel",
          "state": {
            "_view_name": "StyleView",
            "_model_name": "DescriptionStyleModel",
            "description_width": "",
            "_view_module": "@jupyter-widgets/base",
            "_model_module_version": "1.5.0",
            "_view_count": null,
            "_view_module_version": "1.2.0",
            "_model_module": "@jupyter-widgets/controls"
          }
        },
        "d236a4ccf8c840d1ba0dc592ddf4554a": {
          "model_module": "@jupyter-widgets/base",
          "model_name": "LayoutModel",
          "state": {
            "_view_name": "LayoutView",
            "grid_template_rows": null,
            "right": null,
            "justify_content": null,
            "_view_module": "@jupyter-widgets/base",
            "overflow": null,
            "_model_module_version": "1.2.0",
            "_view_count": null,
            "flex_flow": null,
            "width": null,
            "min_width": null,
            "border": null,
            "align_items": null,
            "bottom": null,
            "_model_module": "@jupyter-widgets/base",
            "top": null,
            "grid_column": null,
            "overflow_y": null,
            "overflow_x": null,
            "grid_auto_flow": null,
            "grid_area": null,
            "grid_template_columns": null,
            "flex": null,
            "_model_name": "LayoutModel",
            "justify_items": null,
            "grid_row": null,
            "max_height": null,
            "align_content": null,
            "visibility": null,
            "align_self": null,
            "height": null,
            "min_height": null,
            "padding": null,
            "grid_auto_rows": null,
            "grid_gap": null,
            "max_width": null,
            "order": null,
            "_view_module_version": "1.2.0",
            "grid_template_areas": null,
            "object_position": null,
            "object_fit": null,
            "grid_auto_columns": null,
            "margin": null,
            "display": null,
            "left": null
          }
        }
      }
    }
  },
  "cells": [
    {
      "cell_type": "markdown",
      "metadata": {
        "id": "d30lDRF9QHm2"
      },
      "source": [
        "\r\n",
        "# Baseline for the first problem of the SemSketches competition\r\n",
        "\r\n",
        "**Main points of the algorithm:**\r\n",
        "\r\n",
        "1) Semantic parsing is performed on a sentence with a context. Direct dependent predicates are masked.\r\n",
        "\r\n",
        "2) With help of RuBert the predictions are made for the masked words.\r\n",
        "\r\n",
        "3) The number of matches between the sketch and 1000 of Bert's predictions is evaluated.\r\n",
        "\r\n",
        "In the end of this notebook sketches scores are vizualized and prediction is given in the expected format."
      ]
    },
    {
      "cell_type": "markdown",
      "metadata": {
        "id": "anh48IaA2vnW"
      },
      "source": [
        "## Installing the required libraries and models\r\n",
        "\r\n",
        "\r\n",
        "In this module, we will install DeepPavlov's RuBERT, the udpipe parser for the Russian language (russian-syntagrus-ud-2.5) and some other libraries."
      ]
    },
    {
      "cell_type": "markdown",
      "metadata": {
        "id": "N2d7WvPd9ITv"
      },
      "source": [
        "### Load RuBERT (`model`, `tokenizer` vars)"
      ]
    },
    {
      "cell_type": "code",
      "metadata": {
        "id": "ugWzYeIc_j-E"
      },
      "source": [
        "# set up torch `DEVICE` constant\r\n",
        "import torch\r\n",
        "DEVICE = torch.device('cuda' if torch.cuda.is_available() else 'cpu')"
      ],
      "execution_count": null,
      "outputs": []
    },
    {
      "cell_type": "code",
      "metadata": {
        "id": "LN5PgRTh2SXr"
      },
      "source": [
        "# Russian Bert installation \r\n",
        "!wget -q --show-progress -c \"http://files.deeppavlov.ai/deeppavlov_data/bert/rubert_cased_L-12_H-768_A-12_pt.tar.gz\"\r\n",
        "!tar -zxf rubert_cased_L-12_H-768_A-12_pt.tar.gz\r\n",
        "\r\n",
        "BERT_MODEL_PATH = \"rubert_cased_L-12_H-768_A-12_pt\"\r\n",
        "!cp {BERT_MODEL_PATH}/bert_config.json {BERT_MODEL_PATH}/config.json"
      ],
      "execution_count": null,
      "outputs": []
    },
    {
      "cell_type": "code",
      "metadata": {
        "colab": {
          "base_uri": "https://localhost:8080/"
        },
        "id": "BOggQD9A9Dcw",
        "outputId": "479818e3-eebb-4a51-e86d-0f927531de36"
      },
      "source": [
        "from transformers import BertTokenizer, BertForMaskedLM\r\n",
        "\r\n",
        "tokenizer = BertTokenizer.from_pretrained(BERT_MODEL_PATH)\r\n",
        "model = BertForMaskedLM.from_pretrained(BERT_MODEL_PATH).to(DEVICE)"
      ],
      "execution_count": null,
      "outputs": [
        {
          "output_type": "stream",
          "text": [
            "Some weights of the model checkpoint at rubert_cased_L-12_H-768_A-12_pt were not used when initializing BertForMaskedLM: ['cls.seq_relationship.weight', 'cls.seq_relationship.bias']\n",
            "- This IS expected if you are initializing BertForMaskedLM from the checkpoint of a model trained on another task or with another architecture (e.g. initializing a BertForSequenceClassification model from a BertForPreTraining model).\n",
            "- This IS NOT expected if you are initializing BertForMaskedLM from the checkpoint of a model that you expect to be exactly identical (initializing a BertForSequenceClassification model from a BertForSequenceClassification model).\n"
          ],
          "name": "stderr"
        }
      ]
    },
    {
      "cell_type": "markdown",
      "metadata": {
        "id": "otUD9kc19a0M"
      },
      "source": [
        "### Load udpipe model (model_ud, pipeline vars)"
      ]
    },
    {
      "cell_type": "code",
      "metadata": {
        "colab": {
          "base_uri": "https://localhost:8080/"
        },
        "id": "Yh7BxzsI3lJe",
        "outputId": "70788a13-6b48-44a7-a1b5-9f3bc39e85d1"
      },
      "source": [
        "# Installing libraries for parsing\r\n",
        "!wget -q --show-progress -c \"https://lindat.mff.cuni.cz/repository/xmlui/bitstream/handle/11234/1-3131/russian-syntagrus-ud-2.5-191206.udpipe\"\r\n",
        "UDPIPE_MODEL_PATH = \"russian-syntagrus-ud-2.5-191206.udpipe\""
      ],
      "execution_count": null,
      "outputs": [
        {
          "output_type": "stream",
          "text": [
            "russian-syntagrus-u 100%[===================>]  43.73M  18.6MB/s    in 2.3s    \n"
          ],
          "name": "stdout"
        }
      ]
    },
    {
      "cell_type": "code",
      "metadata": {
        "colab": {
          "base_uri": "https://localhost:8080/"
        },
        "id": "Mij6NhCH9qBV",
        "outputId": "c4e6fdc9-21b9-45f0-f3a0-e36ef2fe01e4"
      },
      "source": [
        "!pip install --progress-bar off --quiet transformers pymorphy2[fast] ufal.udpipe conllu graphviz\r\n",
        "\r\n",
        "from ufal.udpipe import Model, Pipeline\r\n",
        "\r\n",
        "model_ud = Model.load(UDPIPE_MODEL_PATH)\r\n",
        "assert model_ud is not None, \"Model failed to load\"\r\n",
        "pipeline = Pipeline(model_ud, 'generic_tokenizer', '', '', '')#"
      ],
      "execution_count": null,
      "outputs": [
        {
          "output_type": "stream",
          "text": [
            "\u001b[?25l\n",
            "\u001b[?25h  Building wheel for ufal.udpipe (setup.py) ... \u001b[?25l\u001b[?25hdone\n"
          ],
          "name": "stdout"
        }
      ]
    },
    {
      "cell_type": "code",
      "metadata": {
        "id": "XprqH-St3T28"
      },
      "source": [
        "from collections import OrderedDict\r\n",
        "from tqdm.auto import tqdm\r\n",
        "from copy import deepcopy\r\n",
        "from pprint import pprint\r\n",
        "import pandas as pd\r\n",
        "import numpy as np\r\n",
        "import torch \r\n",
        "import json\r\n",
        "import itertools\r\n",
        "from collections import defaultdict\r\n",
        "\r\n",
        "import numpy as np  \r\n",
        "import math\r\n",
        "import pandas as pd\r\n",
        "\r\n",
        "from conllu import parse\r\n",
        "from nltk import DependencyGraph\r\n",
        "from ufal.udpipe import Model, Pipeline"
      ],
      "execution_count": null,
      "outputs": []
    },
    {
      "cell_type": "markdown",
      "metadata": {
        "id": "cYK35FbN4RL_"
      },
      "source": [
        "## Loading data"
      ]
    },
    {
      "cell_type": "code",
      "metadata": {
        "colab": {
          "base_uri": "https://localhost:8080/"
        },
        "id": "kOnV51gp4QlJ",
        "outputId": "ecf19ab9-920d-459a-9a6f-59390cce229e"
      },
      "source": [
        "# Downloading data from github\r\n",
        "!git clone https://github.com/dialogue-evaluation/SemSketches.git\r\n",
        "%cd SemSketches"
      ],
      "execution_count": null,
      "outputs": [
        {
          "output_type": "stream",
          "text": [
            "Cloning into 'SemSketches'...\n",
            "remote: Enumerating objects: 30, done.\u001b[K\n",
            "remote: Counting objects: 100% (30/30), done.\u001b[K\n",
            "remote: Compressing objects: 100% (23/23), done.\u001b[K\n",
            "remote: Total 30 (delta 3), reused 29 (delta 2), pack-reused 0\u001b[K\n",
            "Unpacking objects: 100% (30/30), done.\n",
            "/content/SemSketches\n"
          ],
          "name": "stdout"
        }
      ]
    },
    {
      "cell_type": "code",
      "metadata": {
        "colab": {
          "base_uri": "https://localhost:8080/"
        },
        "id": "HJBnFymD-f1m",
        "outputId": "dda689f6-ba73-4690-efdd-f18bcc13b5ce"
      },
      "source": [
        "!ls data"
      ],
      "execution_count": null,
      "outputs": [
        {
          "output_type": "stream",
          "text": [
            "dev  trial\n"
          ],
          "name": "stdout"
        }
      ]
    },
    {
      "cell_type": "markdown",
      "metadata": {
        "id": "Pol7mvMo-kVR"
      },
      "source": [
        "We need to score our baseline, so only `trial` data split is relevant "
      ]
    },
    {
      "cell_type": "code",
      "metadata": {
        "colab": {
          "base_uri": "https://localhost:8080/"
        },
        "id": "tZJFVhAy-gwZ",
        "outputId": "bc6825c3-c741-4a98-acb6-9416c46f060c"
      },
      "source": [
        "!head -n 3 data/trial/*"
      ],
      "execution_count": null,
      "outputs": [
        {
          "output_type": "stream",
          "text": [
            "==> data/trial/contexts_trial.data <==\n",
            "{\n",
            "    \"trial.sent.rus.0\": {\n",
            "        \"instance\": \"стать\",\n",
            "\n",
            "==> data/trial/sketches_trial.data <==\n",
            "{\n",
            "    \"trial.sketch.rus.0\": {\n",
            "        \"Sphere_Special\": [\n",
            "\n",
            "==> data/trial/trial.gold <==\n",
            "{\n",
            "    \"trial.sent.rus.0\": \"trial.sketch.rus.8\",\n",
            "    \"trial.sent.rus.1\": \"trial.sketch.rus.4\",\n"
          ],
          "name": "stdout"
        }
      ]
    },
    {
      "cell_type": "code",
      "metadata": {
        "id": "qNartp3D4Qa-"
      },
      "source": [
        "CONTEXTS_TRIAL = \"data/trial/contexts_trial.data\"\r\n",
        "SKETCHES_TRIAL = \"data/trial/sketches_trial.data\"\r\n",
        "TRIAL = \"data/trial/trial.gold\""
      ],
      "execution_count": null,
      "outputs": []
    },
    {
      "cell_type": "code",
      "metadata": {
        "colab": {
          "base_uri": "https://localhost:8080/"
        },
        "id": "YH_5bJQV5m_B",
        "outputId": "b1c3507a-8b92-4dd0-dd25-46e3fa9ba6ea"
      },
      "source": [
        "# Let's look at sketches\r\n",
        "sketches_dfs = dict()\r\n",
        "\r\n",
        "sketches_trial_data = json.load(open(SKETCHES_TRIAL))\r\n",
        "for sketch_name, sketch_columns_di in sketches_trial_data.items():\r\n",
        "    colnames = [None] * len(sketch_columns_di)\r\n",
        "    columns = [None] * len(sketch_columns_di)\r\n",
        "    for colname, (col_ix, col_cells) in sketch_columns_di.items():\r\n",
        "        colnames[col_ix] = colname\r\n",
        "        columns[col_ix] = col_cells\r\n",
        "    columns_ordered_dict = OrderedDict(zip(colnames, columns))\r\n",
        "    sketches_dfs[sketch_name] = pd.DataFrame(columns_ordered_dict)\r\n",
        "\r\n",
        "print('\\n'.join(str(sketches_dfs).splitlines()[:12]))"
      ],
      "execution_count": null,
      "outputs": [
        {
          "output_type": "stream",
          "text": [
            "{'trial.sketch.rus.0':     Sphere_Special                 Time  ...     ContrAgent Ch_Evaluation\n",
            "0          в карты            в детстве  ...       с детьми       классно\n",
            "1        в шахматы  на большой перемене  ...  с мальчишками       неплохо\n",
            "2         в футбол           по вечерам  ...    с читателем       недурно\n",
            "3  в азартные игры          каждый день  ...      с собакой   превосходно\n",
            "4           в игры             допоздна  ...        с сыном      прилично\n",
            "5         в прятки          в молодости  ...     с ребятами  замечательно\n",
            "\n",
            "[6 rows x 6 columns], 'trial.sketch.rus.1':                      Locative_FinalPoint  ... Ch_EvaluationOfHumanTemperAndActivity\n",
            "0                                к людям  ...                           скептически\n",
            "1                           к литературе  ...                            критически\n",
            "2                               к стихам  ...                            философски\n"
          ],
          "name": "stdout"
        }
      ]
    },
    {
      "cell_type": "code",
      "metadata": {
        "colab": {
          "base_uri": "https://localhost:8080/",
          "height": 109
        },
        "id": "3Foi5CIN6im_",
        "outputId": "d392598e-4cfd-4b21-fe72-d19ece23ad58"
      },
      "source": [
        "# Table with context \"name\", predicate (to be compared with sketch), \r\n",
        "# starting index of the predicate in the sentence,  starting index and sentence itself.\r\n",
        "contexts_trial_df = pd.read_json(CONTEXTS_TRIAL).transpose()\r\n",
        "contexts_trial_df.head(2)"
      ],
      "execution_count": null,
      "outputs": [
        {
          "output_type": "execute_result",
          "data": {
            "text/html": [
              "<div>\n",
              "<style scoped>\n",
              "    .dataframe tbody tr th:only-of-type {\n",
              "        vertical-align: middle;\n",
              "    }\n",
              "\n",
              "    .dataframe tbody tr th {\n",
              "        vertical-align: top;\n",
              "    }\n",
              "\n",
              "    .dataframe thead th {\n",
              "        text-align: right;\n",
              "    }\n",
              "</style>\n",
              "<table border=\"1\" class=\"dataframe\">\n",
              "  <thead>\n",
              "    <tr style=\"text-align: right;\">\n",
              "      <th></th>\n",
              "      <th>instance</th>\n",
              "      <th>start</th>\n",
              "      <th>end</th>\n",
              "      <th>sentence</th>\n",
              "    </tr>\n",
              "  </thead>\n",
              "  <tbody>\n",
              "    <tr>\n",
              "      <th>trial.sent.rus.0</th>\n",
              "      <td>стать</td>\n",
              "      <td>63</td>\n",
              "      <td>68</td>\n",
              "      <td>Старый я, песенка моя спета, и нет у меня боль...</td>\n",
              "    </tr>\n",
              "    <tr>\n",
              "      <th>trial.sent.rus.1</th>\n",
              "      <td>вызвала</td>\n",
              "      <td>6</td>\n",
              "      <td>13</td>\n",
              "      <td>Но не вызвала</td>\n",
              "    </tr>\n",
              "  </tbody>\n",
              "</table>\n",
              "</div>"
            ],
            "text/plain": [
              "                 instance  ...                                           sentence\n",
              "trial.sent.rus.0    стать  ...  Старый я, песенка моя спета, и нет у меня боль...\n",
              "trial.sent.rus.1  вызвала  ...                                      Но не вызвала\n",
              "\n",
              "[2 rows x 4 columns]"
            ]
          },
          "metadata": {
            "tags": []
          },
          "execution_count": 15
        }
      ]
    },
    {
      "cell_type": "code",
      "metadata": {
        "colab": {
          "base_uri": "https://localhost:8080/"
        },
        "id": "42ULtlBv5m8Q",
        "outputId": "497fa9a8-a690-4aca-90c6-dc40e6e02808"
      },
      "source": [
        "# Dictionary with pairs: sentence - sketch\r\n",
        "sent2sketch = json.load(open(TRIAL))\r\n",
        "print(sent2sketch)"
      ],
      "execution_count": null,
      "outputs": [
        {
          "output_type": "stream",
          "text": [
            "{'trial.sent.rus.0': 'trial.sketch.rus.8', 'trial.sent.rus.1': 'trial.sketch.rus.4', 'trial.sent.rus.2': 'trial.sketch.rus.6', 'trial.sent.rus.3': 'trial.sketch.rus.2', 'trial.sent.rus.4': 'trial.sketch.rus.15', 'trial.sent.rus.5': 'trial.sketch.rus.8', 'trial.sent.rus.6': 'trial.sketch.rus.14', 'trial.sent.rus.7': 'trial.sketch.rus.13', 'trial.sent.rus.8': 'trial.sketch.rus.6', 'trial.sent.rus.9': 'trial.sketch.rus.16', 'trial.sent.rus.10': 'trial.sketch.rus.1', 'trial.sent.rus.11': 'trial.sketch.rus.6', 'trial.sent.rus.12': 'trial.sketch.rus.0', 'trial.sent.rus.13': 'trial.sketch.rus.17', 'trial.sent.rus.14': 'trial.sketch.rus.4', 'trial.sent.rus.15': 'trial.sketch.rus.4', 'trial.sent.rus.16': 'trial.sketch.rus.0', 'trial.sent.rus.17': 'trial.sketch.rus.14', 'trial.sent.rus.18': 'trial.sketch.rus.19', 'trial.sent.rus.19': 'trial.sketch.rus.19', 'trial.sent.rus.20': 'trial.sketch.rus.19', 'trial.sent.rus.21': 'trial.sketch.rus.15', 'trial.sent.rus.22': 'trial.sketch.rus.0', 'trial.sent.rus.23': 'trial.sketch.rus.16', 'trial.sent.rus.24': 'trial.sketch.rus.11', 'trial.sent.rus.25': 'trial.sketch.rus.15', 'trial.sent.rus.26': 'trial.sketch.rus.5', 'trial.sent.rus.27': 'trial.sketch.rus.2', 'trial.sent.rus.28': 'trial.sketch.rus.15', 'trial.sent.rus.29': 'trial.sketch.rus.19', 'trial.sent.rus.30': 'trial.sketch.rus.0', 'trial.sent.rus.31': 'trial.sketch.rus.11', 'trial.sent.rus.32': 'trial.sketch.rus.4', 'trial.sent.rus.33': 'trial.sketch.rus.1', 'trial.sent.rus.34': 'trial.sketch.rus.2', 'trial.sent.rus.35': 'trial.sketch.rus.6', 'trial.sent.rus.36': 'trial.sketch.rus.2', 'trial.sent.rus.37': 'trial.sketch.rus.0', 'trial.sent.rus.38': 'trial.sketch.rus.4', 'trial.sent.rus.39': 'trial.sketch.rus.9', 'trial.sent.rus.40': 'trial.sketch.rus.11', 'trial.sent.rus.41': 'trial.sketch.rus.3', 'trial.sent.rus.42': 'trial.sketch.rus.14', 'trial.sent.rus.43': 'trial.sketch.rus.9', 'trial.sent.rus.44': 'trial.sketch.rus.19', 'trial.sent.rus.45': 'trial.sketch.rus.14', 'trial.sent.rus.46': 'trial.sketch.rus.19', 'trial.sent.rus.47': 'trial.sketch.rus.9', 'trial.sent.rus.48': 'trial.sketch.rus.10', 'trial.sent.rus.49': 'trial.sketch.rus.18', 'trial.sent.rus.50': 'trial.sketch.rus.5', 'trial.sent.rus.51': 'trial.sketch.rus.12', 'trial.sent.rus.52': 'trial.sketch.rus.5', 'trial.sent.rus.53': 'trial.sketch.rus.8', 'trial.sent.rus.54': 'trial.sketch.rus.15', 'trial.sent.rus.55': 'trial.sketch.rus.3', 'trial.sent.rus.56': 'trial.sketch.rus.10', 'trial.sent.rus.57': 'trial.sketch.rus.7', 'trial.sent.rus.58': 'trial.sketch.rus.12', 'trial.sent.rus.59': 'trial.sketch.rus.7', 'trial.sent.rus.60': 'trial.sketch.rus.18', 'trial.sent.rus.61': 'trial.sketch.rus.1', 'trial.sent.rus.62': 'trial.sketch.rus.1', 'trial.sent.rus.63': 'trial.sketch.rus.1', 'trial.sent.rus.64': 'trial.sketch.rus.3', 'trial.sent.rus.65': 'trial.sketch.rus.4', 'trial.sent.rus.66': 'trial.sketch.rus.12', 'trial.sent.rus.67': 'trial.sketch.rus.18', 'trial.sent.rus.68': 'trial.sketch.rus.1', 'trial.sent.rus.69': 'trial.sketch.rus.7', 'trial.sent.rus.70': 'trial.sketch.rus.1', 'trial.sent.rus.71': 'trial.sketch.rus.14', 'trial.sent.rus.72': 'trial.sketch.rus.19', 'trial.sent.rus.73': 'trial.sketch.rus.15', 'trial.sent.rus.74': 'trial.sketch.rus.0', 'trial.sent.rus.75': 'trial.sketch.rus.8', 'trial.sent.rus.76': 'trial.sketch.rus.8', 'trial.sent.rus.77': 'trial.sketch.rus.18', 'trial.sent.rus.78': 'trial.sketch.rus.10', 'trial.sent.rus.79': 'trial.sketch.rus.9', 'trial.sent.rus.80': 'trial.sketch.rus.9', 'trial.sent.rus.81': 'trial.sketch.rus.4', 'trial.sent.rus.82': 'trial.sketch.rus.8', 'trial.sent.rus.83': 'trial.sketch.rus.5', 'trial.sent.rus.84': 'trial.sketch.rus.2', 'trial.sent.rus.85': 'trial.sketch.rus.17', 'trial.sent.rus.86': 'trial.sketch.rus.3', 'trial.sent.rus.87': 'trial.sketch.rus.8', 'trial.sent.rus.88': 'trial.sketch.rus.17', 'trial.sent.rus.89': 'trial.sketch.rus.17', 'trial.sent.rus.90': 'trial.sketch.rus.16', 'trial.sent.rus.91': 'trial.sketch.rus.12', 'trial.sent.rus.92': 'trial.sketch.rus.0', 'trial.sent.rus.93': 'trial.sketch.rus.0', 'trial.sent.rus.94': 'trial.sketch.rus.11', 'trial.sent.rus.95': 'trial.sketch.rus.3', 'trial.sent.rus.96': 'trial.sketch.rus.14', 'trial.sent.rus.97': 'trial.sketch.rus.16', 'trial.sent.rus.98': 'trial.sketch.rus.5', 'trial.sent.rus.99': 'trial.sketch.rus.18', 'trial.sent.rus.100': 'trial.sketch.rus.8', 'trial.sent.rus.101': 'trial.sketch.rus.7', 'trial.sent.rus.102': 'trial.sketch.rus.3', 'trial.sent.rus.103': 'trial.sketch.rus.17', 'trial.sent.rus.104': 'trial.sketch.rus.7', 'trial.sent.rus.105': 'trial.sketch.rus.3', 'trial.sent.rus.106': 'trial.sketch.rus.17', 'trial.sent.rus.107': 'trial.sketch.rus.18', 'trial.sent.rus.108': 'trial.sketch.rus.13', 'trial.sent.rus.109': 'trial.sketch.rus.15', 'trial.sent.rus.110': 'trial.sketch.rus.10', 'trial.sent.rus.111': 'trial.sketch.rus.18', 'trial.sent.rus.112': 'trial.sketch.rus.5', 'trial.sent.rus.113': 'trial.sketch.rus.16', 'trial.sent.rus.114': 'trial.sketch.rus.18', 'trial.sent.rus.115': 'trial.sketch.rus.6', 'trial.sent.rus.116': 'trial.sketch.rus.13', 'trial.sent.rus.117': 'trial.sketch.rus.1', 'trial.sent.rus.118': 'trial.sketch.rus.0', 'trial.sent.rus.119': 'trial.sketch.rus.14', 'trial.sent.rus.120': 'trial.sketch.rus.11', 'trial.sent.rus.121': 'trial.sketch.rus.8', 'trial.sent.rus.122': 'trial.sketch.rus.1', 'trial.sent.rus.123': 'trial.sketch.rus.6', 'trial.sent.rus.124': 'trial.sketch.rus.9', 'trial.sent.rus.125': 'trial.sketch.rus.12', 'trial.sent.rus.126': 'trial.sketch.rus.6', 'trial.sent.rus.127': 'trial.sketch.rus.17', 'trial.sent.rus.128': 'trial.sketch.rus.0', 'trial.sent.rus.129': 'trial.sketch.rus.16', 'trial.sent.rus.130': 'trial.sketch.rus.13', 'trial.sent.rus.131': 'trial.sketch.rus.14', 'trial.sent.rus.132': 'trial.sketch.rus.12', 'trial.sent.rus.133': 'trial.sketch.rus.16', 'trial.sent.rus.134': 'trial.sketch.rus.1', 'trial.sent.rus.135': 'trial.sketch.rus.4', 'trial.sent.rus.136': 'trial.sketch.rus.0', 'trial.sent.rus.137': 'trial.sketch.rus.14', 'trial.sent.rus.138': 'trial.sketch.rus.16', 'trial.sent.rus.139': 'trial.sketch.rus.19', 'trial.sent.rus.140': 'trial.sketch.rus.1', 'trial.sent.rus.141': 'trial.sketch.rus.8', 'trial.sent.rus.142': 'trial.sketch.rus.19', 'trial.sent.rus.143': 'trial.sketch.rus.12', 'trial.sent.rus.144': 'trial.sketch.rus.12', 'trial.sent.rus.145': 'trial.sketch.rus.16', 'trial.sent.rus.146': 'trial.sketch.rus.16', 'trial.sent.rus.147': 'trial.sketch.rus.13', 'trial.sent.rus.148': 'trial.sketch.rus.9', 'trial.sent.rus.149': 'trial.sketch.rus.2', 'trial.sent.rus.150': 'trial.sketch.rus.12', 'trial.sent.rus.151': 'trial.sketch.rus.17', 'trial.sent.rus.152': 'trial.sketch.rus.9', 'trial.sent.rus.153': 'trial.sketch.rus.13', 'trial.sent.rus.154': 'trial.sketch.rus.5', 'trial.sent.rus.155': 'trial.sketch.rus.18', 'trial.sent.rus.156': 'trial.sketch.rus.15', 'trial.sent.rus.157': 'trial.sketch.rus.15', 'trial.sent.rus.158': 'trial.sketch.rus.19', 'trial.sent.rus.159': 'trial.sketch.rus.12', 'trial.sent.rus.160': 'trial.sketch.rus.14', 'trial.sent.rus.161': 'trial.sketch.rus.9', 'trial.sent.rus.162': 'trial.sketch.rus.1', 'trial.sent.rus.163': 'trial.sketch.rus.1', 'trial.sent.rus.164': 'trial.sketch.rus.0', 'trial.sent.rus.165': 'trial.sketch.rus.16', 'trial.sent.rus.166': 'trial.sketch.rus.1', 'trial.sent.rus.167': 'trial.sketch.rus.4', 'trial.sent.rus.168': 'trial.sketch.rus.17', 'trial.sent.rus.169': 'trial.sketch.rus.1', 'trial.sent.rus.170': 'trial.sketch.rus.7', 'trial.sent.rus.171': 'trial.sketch.rus.16', 'trial.sent.rus.172': 'trial.sketch.rus.5', 'trial.sent.rus.173': 'trial.sketch.rus.9', 'trial.sent.rus.174': 'trial.sketch.rus.14', 'trial.sent.rus.175': 'trial.sketch.rus.8', 'trial.sent.rus.176': 'trial.sketch.rus.1', 'trial.sent.rus.177': 'trial.sketch.rus.9', 'trial.sent.rus.178': 'trial.sketch.rus.19', 'trial.sent.rus.179': 'trial.sketch.rus.17', 'trial.sent.rus.180': 'trial.sketch.rus.6', 'trial.sent.rus.181': 'trial.sketch.rus.6', 'trial.sent.rus.182': 'trial.sketch.rus.7', 'trial.sent.rus.183': 'trial.sketch.rus.1', 'trial.sent.rus.184': 'trial.sketch.rus.9', 'trial.sent.rus.185': 'trial.sketch.rus.7', 'trial.sent.rus.186': 'trial.sketch.rus.9', 'trial.sent.rus.187': 'trial.sketch.rus.7', 'trial.sent.rus.188': 'trial.sketch.rus.14', 'trial.sent.rus.189': 'trial.sketch.rus.5', 'trial.sent.rus.190': 'trial.sketch.rus.14', 'trial.sent.rus.191': 'trial.sketch.rus.3', 'trial.sent.rus.192': 'trial.sketch.rus.10', 'trial.sent.rus.193': 'trial.sketch.rus.13', 'trial.sent.rus.194': 'trial.sketch.rus.15', 'trial.sent.rus.195': 'trial.sketch.rus.8', 'trial.sent.rus.196': 'trial.sketch.rus.15', 'trial.sent.rus.197': 'trial.sketch.rus.13', 'trial.sent.rus.198': 'trial.sketch.rus.12', 'trial.sent.rus.199': 'trial.sketch.rus.19', 'trial.sent.rus.200': 'trial.sketch.rus.0', 'trial.sent.rus.201': 'trial.sketch.rus.12', 'trial.sent.rus.202': 'trial.sketch.rus.0', 'trial.sent.rus.203': 'trial.sketch.rus.3', 'trial.sent.rus.204': 'trial.sketch.rus.13', 'trial.sent.rus.205': 'trial.sketch.rus.3', 'trial.sent.rus.206': 'trial.sketch.rus.12', 'trial.sent.rus.207': 'trial.sketch.rus.3', 'trial.sent.rus.208': 'trial.sketch.rus.6', 'trial.sent.rus.209': 'trial.sketch.rus.18', 'trial.sent.rus.210': 'trial.sketch.rus.18', 'trial.sent.rus.211': 'trial.sketch.rus.12', 'trial.sent.rus.212': 'trial.sketch.rus.3', 'trial.sent.rus.213': 'trial.sketch.rus.16', 'trial.sent.rus.214': 'trial.sketch.rus.5', 'trial.sent.rus.215': 'trial.sketch.rus.2', 'trial.sent.rus.216': 'trial.sketch.rus.16', 'trial.sent.rus.217': 'trial.sketch.rus.14', 'trial.sent.rus.218': 'trial.sketch.rus.5', 'trial.sent.rus.219': 'trial.sketch.rus.1', 'trial.sent.rus.220': 'trial.sketch.rus.7', 'trial.sent.rus.221': 'trial.sketch.rus.14', 'trial.sent.rus.222': 'trial.sketch.rus.9', 'trial.sent.rus.223': 'trial.sketch.rus.19', 'trial.sent.rus.224': 'trial.sketch.rus.9', 'trial.sent.rus.225': 'trial.sketch.rus.7', 'trial.sent.rus.226': 'trial.sketch.rus.11', 'trial.sent.rus.227': 'trial.sketch.rus.8', 'trial.sent.rus.228': 'trial.sketch.rus.6', 'trial.sent.rus.229': 'trial.sketch.rus.17', 'trial.sent.rus.230': 'trial.sketch.rus.10', 'trial.sent.rus.231': 'trial.sketch.rus.4', 'trial.sent.rus.232': 'trial.sketch.rus.14', 'trial.sent.rus.233': 'trial.sketch.rus.5', 'trial.sent.rus.234': 'trial.sketch.rus.14', 'trial.sent.rus.235': 'trial.sketch.rus.9', 'trial.sent.rus.236': 'trial.sketch.rus.9', 'trial.sent.rus.237': 'trial.sketch.rus.6', 'trial.sent.rus.238': 'trial.sketch.rus.17', 'trial.sent.rus.239': 'trial.sketch.rus.1', 'trial.sent.rus.240': 'trial.sketch.rus.12', 'trial.sent.rus.241': 'trial.sketch.rus.14', 'trial.sent.rus.242': 'trial.sketch.rus.6', 'trial.sent.rus.243': 'trial.sketch.rus.11', 'trial.sent.rus.244': 'trial.sketch.rus.9', 'trial.sent.rus.245': 'trial.sketch.rus.4', 'trial.sent.rus.246': 'trial.sketch.rus.6', 'trial.sent.rus.247': 'trial.sketch.rus.10', 'trial.sent.rus.248': 'trial.sketch.rus.16', 'trial.sent.rus.249': 'trial.sketch.rus.4', 'trial.sent.rus.250': 'trial.sketch.rus.8', 'trial.sent.rus.251': 'trial.sketch.rus.12', 'trial.sent.rus.252': 'trial.sketch.rus.17', 'trial.sent.rus.253': 'trial.sketch.rus.15', 'trial.sent.rus.254': 'trial.sketch.rus.10', 'trial.sent.rus.255': 'trial.sketch.rus.13', 'trial.sent.rus.256': 'trial.sketch.rus.13', 'trial.sent.rus.257': 'trial.sketch.rus.11', 'trial.sent.rus.258': 'trial.sketch.rus.0', 'trial.sent.rus.259': 'trial.sketch.rus.1', 'trial.sent.rus.260': 'trial.sketch.rus.16', 'trial.sent.rus.261': 'trial.sketch.rus.0', 'trial.sent.rus.262': 'trial.sketch.rus.6', 'trial.sent.rus.263': 'trial.sketch.rus.6', 'trial.sent.rus.264': 'trial.sketch.rus.2', 'trial.sent.rus.265': 'trial.sketch.rus.2', 'trial.sent.rus.266': 'trial.sketch.rus.1', 'trial.sent.rus.267': 'trial.sketch.rus.2', 'trial.sent.rus.268': 'trial.sketch.rus.16', 'trial.sent.rus.269': 'trial.sketch.rus.5', 'trial.sent.rus.270': 'trial.sketch.rus.12', 'trial.sent.rus.271': 'trial.sketch.rus.6', 'trial.sent.rus.272': 'trial.sketch.rus.19', 'trial.sent.rus.273': 'trial.sketch.rus.12', 'trial.sent.rus.274': 'trial.sketch.rus.13', 'trial.sent.rus.275': 'trial.sketch.rus.14', 'trial.sent.rus.276': 'trial.sketch.rus.16', 'trial.sent.rus.277': 'trial.sketch.rus.5', 'trial.sent.rus.278': 'trial.sketch.rus.9', 'trial.sent.rus.279': 'trial.sketch.rus.15', 'trial.sent.rus.280': 'trial.sketch.rus.0', 'trial.sent.rus.281': 'trial.sketch.rus.12', 'trial.sent.rus.282': 'trial.sketch.rus.13', 'trial.sent.rus.283': 'trial.sketch.rus.0', 'trial.sent.rus.284': 'trial.sketch.rus.11', 'trial.sent.rus.285': 'trial.sketch.rus.13', 'trial.sent.rus.286': 'trial.sketch.rus.16', 'trial.sent.rus.287': 'trial.sketch.rus.11', 'trial.sent.rus.288': 'trial.sketch.rus.19', 'trial.sent.rus.289': 'trial.sketch.rus.5', 'trial.sent.rus.290': 'trial.sketch.rus.15', 'trial.sent.rus.291': 'trial.sketch.rus.3', 'trial.sent.rus.292': 'trial.sketch.rus.3', 'trial.sent.rus.293': 'trial.sketch.rus.14', 'trial.sent.rus.294': 'trial.sketch.rus.14', 'trial.sent.rus.295': 'trial.sketch.rus.6', 'trial.sent.rus.296': 'trial.sketch.rus.5', 'trial.sent.rus.297': 'trial.sketch.rus.1', 'trial.sent.rus.298': 'trial.sketch.rus.13', 'trial.sent.rus.299': 'trial.sketch.rus.1', 'trial.sent.rus.300': 'trial.sketch.rus.7', 'trial.sent.rus.301': 'trial.sketch.rus.6', 'trial.sent.rus.302': 'trial.sketch.rus.6', 'trial.sent.rus.303': 'trial.sketch.rus.1', 'trial.sent.rus.304': 'trial.sketch.rus.16', 'trial.sent.rus.305': 'trial.sketch.rus.16', 'trial.sent.rus.306': 'trial.sketch.rus.7', 'trial.sent.rus.307': 'trial.sketch.rus.18', 'trial.sent.rus.308': 'trial.sketch.rus.13', 'trial.sent.rus.309': 'trial.sketch.rus.19', 'trial.sent.rus.310': 'trial.sketch.rus.10', 'trial.sent.rus.311': 'trial.sketch.rus.11', 'trial.sent.rus.312': 'trial.sketch.rus.13', 'trial.sent.rus.313': 'trial.sketch.rus.11', 'trial.sent.rus.314': 'trial.sketch.rus.18', 'trial.sent.rus.315': 'trial.sketch.rus.2', 'trial.sent.rus.316': 'trial.sketch.rus.19', 'trial.sent.rus.317': 'trial.sketch.rus.3', 'trial.sent.rus.318': 'trial.sketch.rus.17', 'trial.sent.rus.319': 'trial.sketch.rus.12', 'trial.sent.rus.320': 'trial.sketch.rus.12', 'trial.sent.rus.321': 'trial.sketch.rus.5', 'trial.sent.rus.322': 'trial.sketch.rus.18', 'trial.sent.rus.323': 'trial.sketch.rus.1', 'trial.sent.rus.324': 'trial.sketch.rus.1', 'trial.sent.rus.325': 'trial.sketch.rus.8', 'trial.sent.rus.326': 'trial.sketch.rus.10', 'trial.sent.rus.327': 'trial.sketch.rus.17', 'trial.sent.rus.328': 'trial.sketch.rus.0', 'trial.sent.rus.329': 'trial.sketch.rus.6', 'trial.sent.rus.330': 'trial.sketch.rus.12', 'trial.sent.rus.331': 'trial.sketch.rus.12', 'trial.sent.rus.332': 'trial.sketch.rus.8', 'trial.sent.rus.333': 'trial.sketch.rus.16', 'trial.sent.rus.334': 'trial.sketch.rus.18', 'trial.sent.rus.335': 'trial.sketch.rus.4', 'trial.sent.rus.336': 'trial.sketch.rus.17', 'trial.sent.rus.337': 'trial.sketch.rus.11', 'trial.sent.rus.338': 'trial.sketch.rus.16', 'trial.sent.rus.339': 'trial.sketch.rus.11', 'trial.sent.rus.340': 'trial.sketch.rus.9', 'trial.sent.rus.341': 'trial.sketch.rus.4', 'trial.sent.rus.342': 'trial.sketch.rus.14', 'trial.sent.rus.343': 'trial.sketch.rus.5', 'trial.sent.rus.344': 'trial.sketch.rus.12', 'trial.sent.rus.345': 'trial.sketch.rus.17', 'trial.sent.rus.346': 'trial.sketch.rus.2', 'trial.sent.rus.347': 'trial.sketch.rus.18', 'trial.sent.rus.348': 'trial.sketch.rus.10', 'trial.sent.rus.349': 'trial.sketch.rus.14', 'trial.sent.rus.350': 'trial.sketch.rus.4', 'trial.sent.rus.351': 'trial.sketch.rus.10', 'trial.sent.rus.352': 'trial.sketch.rus.10', 'trial.sent.rus.353': 'trial.sketch.rus.12', 'trial.sent.rus.354': 'trial.sketch.rus.2', 'trial.sent.rus.355': 'trial.sketch.rus.2', 'trial.sent.rus.356': 'trial.sketch.rus.11', 'trial.sent.rus.357': 'trial.sketch.rus.15', 'trial.sent.rus.358': 'trial.sketch.rus.17', 'trial.sent.rus.359': 'trial.sketch.rus.2', 'trial.sent.rus.360': 'trial.sketch.rus.4', 'trial.sent.rus.361': 'trial.sketch.rus.5', 'trial.sent.rus.362': 'trial.sketch.rus.0', 'trial.sent.rus.363': 'trial.sketch.rus.0', 'trial.sent.rus.364': 'trial.sketch.rus.8', 'trial.sent.rus.365': 'trial.sketch.rus.3', 'trial.sent.rus.366': 'trial.sketch.rus.8', 'trial.sent.rus.367': 'trial.sketch.rus.9', 'trial.sent.rus.368': 'trial.sketch.rus.17', 'trial.sent.rus.369': 'trial.sketch.rus.19', 'trial.sent.rus.370': 'trial.sketch.rus.2', 'trial.sent.rus.371': 'trial.sketch.rus.16', 'trial.sent.rus.372': 'trial.sketch.rus.17', 'trial.sent.rus.373': 'trial.sketch.rus.1', 'trial.sent.rus.374': 'trial.sketch.rus.1', 'trial.sent.rus.375': 'trial.sketch.rus.11', 'trial.sent.rus.376': 'trial.sketch.rus.3', 'trial.sent.rus.377': 'trial.sketch.rus.11', 'trial.sent.rus.378': 'trial.sketch.rus.17', 'trial.sent.rus.379': 'trial.sketch.rus.3', 'trial.sent.rus.380': 'trial.sketch.rus.7', 'trial.sent.rus.381': 'trial.sketch.rus.2', 'trial.sent.rus.382': 'trial.sketch.rus.8', 'trial.sent.rus.383': 'trial.sketch.rus.9', 'trial.sent.rus.384': 'trial.sketch.rus.2', 'trial.sent.rus.385': 'trial.sketch.rus.19', 'trial.sent.rus.386': 'trial.sketch.rus.12', 'trial.sent.rus.387': 'trial.sketch.rus.0', 'trial.sent.rus.388': 'trial.sketch.rus.7', 'trial.sent.rus.389': 'trial.sketch.rus.11', 'trial.sent.rus.390': 'trial.sketch.rus.11', 'trial.sent.rus.391': 'trial.sketch.rus.3', 'trial.sent.rus.392': 'trial.sketch.rus.6', 'trial.sent.rus.393': 'trial.sketch.rus.5', 'trial.sent.rus.394': 'trial.sketch.rus.13', 'trial.sent.rus.395': 'trial.sketch.rus.12', 'trial.sent.rus.396': 'trial.sketch.rus.9', 'trial.sent.rus.397': 'trial.sketch.rus.4', 'trial.sent.rus.398': 'trial.sketch.rus.17', 'trial.sent.rus.399': 'trial.sketch.rus.6', 'trial.sent.rus.400': 'trial.sketch.rus.0', 'trial.sent.rus.401': 'trial.sketch.rus.10', 'trial.sent.rus.402': 'trial.sketch.rus.0', 'trial.sent.rus.403': 'trial.sketch.rus.9', 'trial.sent.rus.404': 'trial.sketch.rus.10', 'trial.sent.rus.405': 'trial.sketch.rus.17', 'trial.sent.rus.406': 'trial.sketch.rus.15', 'trial.sent.rus.407': 'trial.sketch.rus.6', 'trial.sent.rus.408': 'trial.sketch.rus.3', 'trial.sent.rus.409': 'trial.sketch.rus.0', 'trial.sent.rus.410': 'trial.sketch.rus.11', 'trial.sent.rus.411': 'trial.sketch.rus.9', 'trial.sent.rus.412': 'trial.sketch.rus.9', 'trial.sent.rus.413': 'trial.sketch.rus.6', 'trial.sent.rus.414': 'trial.sketch.rus.13', 'trial.sent.rus.415': 'trial.sketch.rus.17', 'trial.sent.rus.416': 'trial.sketch.rus.17', 'trial.sent.rus.417': 'trial.sketch.rus.3', 'trial.sent.rus.418': 'trial.sketch.rus.6', 'trial.sent.rus.419': 'trial.sketch.rus.16', 'trial.sent.rus.420': 'trial.sketch.rus.4', 'trial.sent.rus.421': 'trial.sketch.rus.16', 'trial.sent.rus.422': 'trial.sketch.rus.4', 'trial.sent.rus.423': 'trial.sketch.rus.1', 'trial.sent.rus.424': 'trial.sketch.rus.7', 'trial.sent.rus.425': 'trial.sketch.rus.0', 'trial.sent.rus.426': 'trial.sketch.rus.10', 'trial.sent.rus.427': 'trial.sketch.rus.0', 'trial.sent.rus.428': 'trial.sketch.rus.14', 'trial.sent.rus.429': 'trial.sketch.rus.16', 'trial.sent.rus.430': 'trial.sketch.rus.5', 'trial.sent.rus.431': 'trial.sketch.rus.10', 'trial.sent.rus.432': 'trial.sketch.rus.17', 'trial.sent.rus.433': 'trial.sketch.rus.16', 'trial.sent.rus.434': 'trial.sketch.rus.10', 'trial.sent.rus.435': 'trial.sketch.rus.8', 'trial.sent.rus.436': 'trial.sketch.rus.6', 'trial.sent.rus.437': 'trial.sketch.rus.10', 'trial.sent.rus.438': 'trial.sketch.rus.12', 'trial.sent.rus.439': 'trial.sketch.rus.12', 'trial.sent.rus.440': 'trial.sketch.rus.0', 'trial.sent.rus.441': 'trial.sketch.rus.10', 'trial.sent.rus.442': 'trial.sketch.rus.2', 'trial.sent.rus.443': 'trial.sketch.rus.19', 'trial.sent.rus.444': 'trial.sketch.rus.3', 'trial.sent.rus.445': 'trial.sketch.rus.16', 'trial.sent.rus.446': 'trial.sketch.rus.19', 'trial.sent.rus.447': 'trial.sketch.rus.6', 'trial.sent.rus.448': 'trial.sketch.rus.10', 'trial.sent.rus.449': 'trial.sketch.rus.0', 'trial.sent.rus.450': 'trial.sketch.rus.10', 'trial.sent.rus.451': 'trial.sketch.rus.15', 'trial.sent.rus.452': 'trial.sketch.rus.8', 'trial.sent.rus.453': 'trial.sketch.rus.7', 'trial.sent.rus.454': 'trial.sketch.rus.6', 'trial.sent.rus.455': 'trial.sketch.rus.0', 'trial.sent.rus.456': 'trial.sketch.rus.17', 'trial.sent.rus.457': 'trial.sketch.rus.17', 'trial.sent.rus.458': 'trial.sketch.rus.0', 'trial.sent.rus.459': 'trial.sketch.rus.10', 'trial.sent.rus.460': 'trial.sketch.rus.5', 'trial.sent.rus.461': 'trial.sketch.rus.16', 'trial.sent.rus.462': 'trial.sketch.rus.5', 'trial.sent.rus.463': 'trial.sketch.rus.11', 'trial.sent.rus.464': 'trial.sketch.rus.13', 'trial.sent.rus.465': 'trial.sketch.rus.8', 'trial.sent.rus.466': 'trial.sketch.rus.5', 'trial.sent.rus.467': 'trial.sketch.rus.13', 'trial.sent.rus.468': 'trial.sketch.rus.8', 'trial.sent.rus.469': 'trial.sketch.rus.11', 'trial.sent.rus.470': 'trial.sketch.rus.0', 'trial.sent.rus.471': 'trial.sketch.rus.1', 'trial.sent.rus.472': 'trial.sketch.rus.3', 'trial.sent.rus.473': 'trial.sketch.rus.12', 'trial.sent.rus.474': 'trial.sketch.rus.16', 'trial.sent.rus.475': 'trial.sketch.rus.9', 'trial.sent.rus.476': 'trial.sketch.rus.13', 'trial.sent.rus.477': 'trial.sketch.rus.13', 'trial.sent.rus.478': 'trial.sketch.rus.4', 'trial.sent.rus.479': 'trial.sketch.rus.9', 'trial.sent.rus.480': 'trial.sketch.rus.1', 'trial.sent.rus.481': 'trial.sketch.rus.19', 'trial.sent.rus.482': 'trial.sketch.rus.1', 'trial.sent.rus.483': 'trial.sketch.rus.7', 'trial.sent.rus.484': 'trial.sketch.rus.17', 'trial.sent.rus.485': 'trial.sketch.rus.3', 'trial.sent.rus.486': 'trial.sketch.rus.11', 'trial.sent.rus.487': 'trial.sketch.rus.14', 'trial.sent.rus.488': 'trial.sketch.rus.15', 'trial.sent.rus.489': 'trial.sketch.rus.11', 'trial.sent.rus.490': 'trial.sketch.rus.11', 'trial.sent.rus.491': 'trial.sketch.rus.0', 'trial.sent.rus.492': 'trial.sketch.rus.16', 'trial.sent.rus.493': 'trial.sketch.rus.0', 'trial.sent.rus.494': 'trial.sketch.rus.8', 'trial.sent.rus.495': 'trial.sketch.rus.12', 'trial.sent.rus.496': 'trial.sketch.rus.3', 'trial.sent.rus.497': 'trial.sketch.rus.6', 'trial.sent.rus.498': 'trial.sketch.rus.19', 'trial.sent.rus.499': 'trial.sketch.rus.3', 'trial.sent.rus.500': 'trial.sketch.rus.15', 'trial.sent.rus.501': 'trial.sketch.rus.0', 'trial.sent.rus.502': 'trial.sketch.rus.8', 'trial.sent.rus.503': 'trial.sketch.rus.2', 'trial.sent.rus.504': 'trial.sketch.rus.4', 'trial.sent.rus.505': 'trial.sketch.rus.8', 'trial.sent.rus.506': 'trial.sketch.rus.12', 'trial.sent.rus.507': 'trial.sketch.rus.13', 'trial.sent.rus.508': 'trial.sketch.rus.11', 'trial.sent.rus.509': 'trial.sketch.rus.9', 'trial.sent.rus.510': 'trial.sketch.rus.18', 'trial.sent.rus.511': 'trial.sketch.rus.2', 'trial.sent.rus.512': 'trial.sketch.rus.17', 'trial.sent.rus.513': 'trial.sketch.rus.18', 'trial.sent.rus.514': 'trial.sketch.rus.5', 'trial.sent.rus.515': 'trial.sketch.rus.14', 'trial.sent.rus.516': 'trial.sketch.rus.11', 'trial.sent.rus.517': 'trial.sketch.rus.17', 'trial.sent.rus.518': 'trial.sketch.rus.3', 'trial.sent.rus.519': 'trial.sketch.rus.3', 'trial.sent.rus.520': 'trial.sketch.rus.12', 'trial.sent.rus.521': 'trial.sketch.rus.13', 'trial.sent.rus.522': 'trial.sketch.rus.13', 'trial.sent.rus.523': 'trial.sketch.rus.17', 'trial.sent.rus.524': 'trial.sketch.rus.2', 'trial.sent.rus.525': 'trial.sketch.rus.16', 'trial.sent.rus.526': 'trial.sketch.rus.15', 'trial.sent.rus.527': 'trial.sketch.rus.8', 'trial.sent.rus.528': 'trial.sketch.rus.3', 'trial.sent.rus.529': 'trial.sketch.rus.11', 'trial.sent.rus.530': 'trial.sketch.rus.11', 'trial.sent.rus.531': 'trial.sketch.rus.0', 'trial.sent.rus.532': 'trial.sketch.rus.4', 'trial.sent.rus.533': 'trial.sketch.rus.3', 'trial.sent.rus.534': 'trial.sketch.rus.13', 'trial.sent.rus.535': 'trial.sketch.rus.4', 'trial.sent.rus.536': 'trial.sketch.rus.7', 'trial.sent.rus.537': 'trial.sketch.rus.5', 'trial.sent.rus.538': 'trial.sketch.rus.18', 'trial.sent.rus.539': 'trial.sketch.rus.4', 'trial.sent.rus.540': 'trial.sketch.rus.13', 'trial.sent.rus.541': 'trial.sketch.rus.15', 'trial.sent.rus.542': 'trial.sketch.rus.0', 'trial.sent.rus.543': 'trial.sketch.rus.15', 'trial.sent.rus.544': 'trial.sketch.rus.8', 'trial.sent.rus.545': 'trial.sketch.rus.4', 'trial.sent.rus.546': 'trial.sketch.rus.14', 'trial.sent.rus.547': 'trial.sketch.rus.2', 'trial.sent.rus.548': 'trial.sketch.rus.4', 'trial.sent.rus.549': 'trial.sketch.rus.15', 'trial.sent.rus.550': 'trial.sketch.rus.19', 'trial.sent.rus.551': 'trial.sketch.rus.17', 'trial.sent.rus.552': 'trial.sketch.rus.5', 'trial.sent.rus.553': 'trial.sketch.rus.9', 'trial.sent.rus.554': 'trial.sketch.rus.15', 'trial.sent.rus.555': 'trial.sketch.rus.18', 'trial.sent.rus.556': 'trial.sketch.rus.12', 'trial.sent.rus.557': 'trial.sketch.rus.7', 'trial.sent.rus.558': 'trial.sketch.rus.6', 'trial.sent.rus.559': 'trial.sketch.rus.17', 'trial.sent.rus.560': 'trial.sketch.rus.16', 'trial.sent.rus.561': 'trial.sketch.rus.12', 'trial.sent.rus.562': 'trial.sketch.rus.1', 'trial.sent.rus.563': 'trial.sketch.rus.1', 'trial.sent.rus.564': 'trial.sketch.rus.6', 'trial.sent.rus.565': 'trial.sketch.rus.7', 'trial.sent.rus.566': 'trial.sketch.rus.3', 'trial.sent.rus.567': 'trial.sketch.rus.7', 'trial.sent.rus.568': 'trial.sketch.rus.18', 'trial.sent.rus.569': 'trial.sketch.rus.12', 'trial.sent.rus.570': 'trial.sketch.rus.10', 'trial.sent.rus.571': 'trial.sketch.rus.15', 'trial.sent.rus.572': 'trial.sketch.rus.4', 'trial.sent.rus.573': 'trial.sketch.rus.8', 'trial.sent.rus.574': 'trial.sketch.rus.5', 'trial.sent.rus.575': 'trial.sketch.rus.13', 'trial.sent.rus.576': 'trial.sketch.rus.19', 'trial.sent.rus.577': 'trial.sketch.rus.14', 'trial.sent.rus.578': 'trial.sketch.rus.10', 'trial.sent.rus.579': 'trial.sketch.rus.1', 'trial.sent.rus.580': 'trial.sketch.rus.6', 'trial.sent.rus.581': 'trial.sketch.rus.15', 'trial.sent.rus.582': 'trial.sketch.rus.7', 'trial.sent.rus.583': 'trial.sketch.rus.2', 'trial.sent.rus.584': 'trial.sketch.rus.10', 'trial.sent.rus.585': 'trial.sketch.rus.15', 'trial.sent.rus.586': 'trial.sketch.rus.11', 'trial.sent.rus.587': 'trial.sketch.rus.18', 'trial.sent.rus.588': 'trial.sketch.rus.9', 'trial.sent.rus.589': 'trial.sketch.rus.2', 'trial.sent.rus.590': 'trial.sketch.rus.10', 'trial.sent.rus.591': 'trial.sketch.rus.5', 'trial.sent.rus.592': 'trial.sketch.rus.5', 'trial.sent.rus.593': 'trial.sketch.rus.2', 'trial.sent.rus.594': 'trial.sketch.rus.17', 'trial.sent.rus.595': 'trial.sketch.rus.13', 'trial.sent.rus.596': 'trial.sketch.rus.18', 'trial.sent.rus.597': 'trial.sketch.rus.6', 'trial.sent.rus.598': 'trial.sketch.rus.11', 'trial.sent.rus.599': 'trial.sketch.rus.15', 'trial.sent.rus.600': 'trial.sketch.rus.3', 'trial.sent.rus.601': 'trial.sketch.rus.13', 'trial.sent.rus.602': 'trial.sketch.rus.5', 'trial.sent.rus.603': 'trial.sketch.rus.14', 'trial.sent.rus.604': 'trial.sketch.rus.3', 'trial.sent.rus.605': 'trial.sketch.rus.8', 'trial.sent.rus.606': 'trial.sketch.rus.10', 'trial.sent.rus.607': 'trial.sketch.rus.16', 'trial.sent.rus.608': 'trial.sketch.rus.7', 'trial.sent.rus.609': 'trial.sketch.rus.15', 'trial.sent.rus.610': 'trial.sketch.rus.9', 'trial.sent.rus.611': 'trial.sketch.rus.4', 'trial.sent.rus.612': 'trial.sketch.rus.9', 'trial.sent.rus.613': 'trial.sketch.rus.18', 'trial.sent.rus.614': 'trial.sketch.rus.15', 'trial.sent.rus.615': 'trial.sketch.rus.2', 'trial.sent.rus.616': 'trial.sketch.rus.10', 'trial.sent.rus.617': 'trial.sketch.rus.18', 'trial.sent.rus.618': 'trial.sketch.rus.4', 'trial.sent.rus.619': 'trial.sketch.rus.11', 'trial.sent.rus.620': 'trial.sketch.rus.14', 'trial.sent.rus.621': 'trial.sketch.rus.19', 'trial.sent.rus.622': 'trial.sketch.rus.16', 'trial.sent.rus.623': 'trial.sketch.rus.16', 'trial.sent.rus.624': 'trial.sketch.rus.18', 'trial.sent.rus.625': 'trial.sketch.rus.13', 'trial.sent.rus.626': 'trial.sketch.rus.16', 'trial.sent.rus.627': 'trial.sketch.rus.19', 'trial.sent.rus.628': 'trial.sketch.rus.19', 'trial.sent.rus.629': 'trial.sketch.rus.8', 'trial.sent.rus.630': 'trial.sketch.rus.14', 'trial.sent.rus.631': 'trial.sketch.rus.16', 'trial.sent.rus.632': 'trial.sketch.rus.16', 'trial.sent.rus.633': 'trial.sketch.rus.7', 'trial.sent.rus.634': 'trial.sketch.rus.6', 'trial.sent.rus.635': 'trial.sketch.rus.2', 'trial.sent.rus.636': 'trial.sketch.rus.10', 'trial.sent.rus.637': 'trial.sketch.rus.17', 'trial.sent.rus.638': 'trial.sketch.rus.17', 'trial.sent.rus.639': 'trial.sketch.rus.15', 'trial.sent.rus.640': 'trial.sketch.rus.15', 'trial.sent.rus.641': 'trial.sketch.rus.8', 'trial.sent.rus.642': 'trial.sketch.rus.19', 'trial.sent.rus.643': 'trial.sketch.rus.3', 'trial.sent.rus.644': 'trial.sketch.rus.5', 'trial.sent.rus.645': 'trial.sketch.rus.14', 'trial.sent.rus.646': 'trial.sketch.rus.17', 'trial.sent.rus.647': 'trial.sketch.rus.18', 'trial.sent.rus.648': 'trial.sketch.rus.1', 'trial.sent.rus.649': 'trial.sketch.rus.10', 'trial.sent.rus.650': 'trial.sketch.rus.5', 'trial.sent.rus.651': 'trial.sketch.rus.10', 'trial.sent.rus.652': 'trial.sketch.rus.7', 'trial.sent.rus.653': 'trial.sketch.rus.14', 'trial.sent.rus.654': 'trial.sketch.rus.13', 'trial.sent.rus.655': 'trial.sketch.rus.13', 'trial.sent.rus.656': 'trial.sketch.rus.2', 'trial.sent.rus.657': 'trial.sketch.rus.10', 'trial.sent.rus.658': 'trial.sketch.rus.3', 'trial.sent.rus.659': 'trial.sketch.rus.8', 'trial.sent.rus.660': 'trial.sketch.rus.1', 'trial.sent.rus.661': 'trial.sketch.rus.6', 'trial.sent.rus.662': 'trial.sketch.rus.14', 'trial.sent.rus.663': 'trial.sketch.rus.9', 'trial.sent.rus.664': 'trial.sketch.rus.12', 'trial.sent.rus.665': 'trial.sketch.rus.5', 'trial.sent.rus.666': 'trial.sketch.rus.16', 'trial.sent.rus.667': 'trial.sketch.rus.12', 'trial.sent.rus.668': 'trial.sketch.rus.15', 'trial.sent.rus.669': 'trial.sketch.rus.5', 'trial.sent.rus.670': 'trial.sketch.rus.11', 'trial.sent.rus.671': 'trial.sketch.rus.4', 'trial.sent.rus.672': 'trial.sketch.rus.13', 'trial.sent.rus.673': 'trial.sketch.rus.3', 'trial.sent.rus.674': 'trial.sketch.rus.2', 'trial.sent.rus.675': 'trial.sketch.rus.19', 'trial.sent.rus.676': 'trial.sketch.rus.14', 'trial.sent.rus.677': 'trial.sketch.rus.1', 'trial.sent.rus.678': 'trial.sketch.rus.19', 'trial.sent.rus.679': 'trial.sketch.rus.16', 'trial.sent.rus.680': 'trial.sketch.rus.2', 'trial.sent.rus.681': 'trial.sketch.rus.3', 'trial.sent.rus.682': 'trial.sketch.rus.3', 'trial.sent.rus.683': 'trial.sketch.rus.2', 'trial.sent.rus.684': 'trial.sketch.rus.13', 'trial.sent.rus.685': 'trial.sketch.rus.2', 'trial.sent.rus.686': 'trial.sketch.rus.7', 'trial.sent.rus.687': 'trial.sketch.rus.10', 'trial.sent.rus.688': 'trial.sketch.rus.11', 'trial.sent.rus.689': 'trial.sketch.rus.2', 'trial.sent.rus.690': 'trial.sketch.rus.7', 'trial.sent.rus.691': 'trial.sketch.rus.17', 'trial.sent.rus.692': 'trial.sketch.rus.1', 'trial.sent.rus.693': 'trial.sketch.rus.0', 'trial.sent.rus.694': 'trial.sketch.rus.7', 'trial.sent.rus.695': 'trial.sketch.rus.17', 'trial.sent.rus.696': 'trial.sketch.rus.4', 'trial.sent.rus.697': 'trial.sketch.rus.0', 'trial.sent.rus.698': 'trial.sketch.rus.19', 'trial.sent.rus.699': 'trial.sketch.rus.9', 'trial.sent.rus.700': 'trial.sketch.rus.9', 'trial.sent.rus.701': 'trial.sketch.rus.5', 'trial.sent.rus.702': 'trial.sketch.rus.9', 'trial.sent.rus.703': 'trial.sketch.rus.12', 'trial.sent.rus.704': 'trial.sketch.rus.4', 'trial.sent.rus.705': 'trial.sketch.rus.3', 'trial.sent.rus.706': 'trial.sketch.rus.3', 'trial.sent.rus.707': 'trial.sketch.rus.9', 'trial.sent.rus.708': 'trial.sketch.rus.3', 'trial.sent.rus.709': 'trial.sketch.rus.5', 'trial.sent.rus.710': 'trial.sketch.rus.17', 'trial.sent.rus.711': 'trial.sketch.rus.11', 'trial.sent.rus.712': 'trial.sketch.rus.19', 'trial.sent.rus.713': 'trial.sketch.rus.16', 'trial.sent.rus.714': 'trial.sketch.rus.14', 'trial.sent.rus.715': 'trial.sketch.rus.18', 'trial.sent.rus.716': 'trial.sketch.rus.3', 'trial.sent.rus.717': 'trial.sketch.rus.12', 'trial.sent.rus.718': 'trial.sketch.rus.7', 'trial.sent.rus.719': 'trial.sketch.rus.9', 'trial.sent.rus.720': 'trial.sketch.rus.11', 'trial.sent.rus.721': 'trial.sketch.rus.2', 'trial.sent.rus.722': 'trial.sketch.rus.10', 'trial.sent.rus.723': 'trial.sketch.rus.12', 'trial.sent.rus.724': 'trial.sketch.rus.3', 'trial.sent.rus.725': 'trial.sketch.rus.7', 'trial.sent.rus.726': 'trial.sketch.rus.10', 'trial.sent.rus.727': 'trial.sketch.rus.9', 'trial.sent.rus.728': 'trial.sketch.rus.5', 'trial.sent.rus.729': 'trial.sketch.rus.15', 'trial.sent.rus.730': 'trial.sketch.rus.3', 'trial.sent.rus.731': 'trial.sketch.rus.13', 'trial.sent.rus.732': 'trial.sketch.rus.13', 'trial.sent.rus.733': 'trial.sketch.rus.10', 'trial.sent.rus.734': 'trial.sketch.rus.15', 'trial.sent.rus.735': 'trial.sketch.rus.8', 'trial.sent.rus.736': 'trial.sketch.rus.2', 'trial.sent.rus.737': 'trial.sketch.rus.13', 'trial.sent.rus.738': 'trial.sketch.rus.8', 'trial.sent.rus.739': 'trial.sketch.rus.8', 'trial.sent.rus.740': 'trial.sketch.rus.18', 'trial.sent.rus.741': 'trial.sketch.rus.10', 'trial.sent.rus.742': 'trial.sketch.rus.3', 'trial.sent.rus.743': 'trial.sketch.rus.0', 'trial.sent.rus.744': 'trial.sketch.rus.15', 'trial.sent.rus.745': 'trial.sketch.rus.9', 'trial.sent.rus.746': 'trial.sketch.rus.5', 'trial.sent.rus.747': 'trial.sketch.rus.8', 'trial.sent.rus.748': 'trial.sketch.rus.7', 'trial.sent.rus.749': 'trial.sketch.rus.4', 'trial.sent.rus.750': 'trial.sketch.rus.6', 'trial.sent.rus.751': 'trial.sketch.rus.1', 'trial.sent.rus.752': 'trial.sketch.rus.12', 'trial.sent.rus.753': 'trial.sketch.rus.0', 'trial.sent.rus.754': 'trial.sketch.rus.19', 'trial.sent.rus.755': 'trial.sketch.rus.12', 'trial.sent.rus.756': 'trial.sketch.rus.18', 'trial.sent.rus.757': 'trial.sketch.rus.8', 'trial.sent.rus.758': 'trial.sketch.rus.17', 'trial.sent.rus.759': 'trial.sketch.rus.10', 'trial.sent.rus.760': 'trial.sketch.rus.0', 'trial.sent.rus.761': 'trial.sketch.rus.3', 'trial.sent.rus.762': 'trial.sketch.rus.15', 'trial.sent.rus.763': 'trial.sketch.rus.14', 'trial.sent.rus.764': 'trial.sketch.rus.17', 'trial.sent.rus.765': 'trial.sketch.rus.18', 'trial.sent.rus.766': 'trial.sketch.rus.15', 'trial.sent.rus.767': 'trial.sketch.rus.13', 'trial.sent.rus.768': 'trial.sketch.rus.0', 'trial.sent.rus.769': 'trial.sketch.rus.10', 'trial.sent.rus.770': 'trial.sketch.rus.1', 'trial.sent.rus.771': 'trial.sketch.rus.16', 'trial.sent.rus.772': 'trial.sketch.rus.9', 'trial.sent.rus.773': 'trial.sketch.rus.11', 'trial.sent.rus.774': 'trial.sketch.rus.12', 'trial.sent.rus.775': 'trial.sketch.rus.2', 'trial.sent.rus.776': 'trial.sketch.rus.10', 'trial.sent.rus.777': 'trial.sketch.rus.17', 'trial.sent.rus.778': 'trial.sketch.rus.19', 'trial.sent.rus.779': 'trial.sketch.rus.6', 'trial.sent.rus.780': 'trial.sketch.rus.9', 'trial.sent.rus.781': 'trial.sketch.rus.8', 'trial.sent.rus.782': 'trial.sketch.rus.14', 'trial.sent.rus.783': 'trial.sketch.rus.12', 'trial.sent.rus.784': 'trial.sketch.rus.0', 'trial.sent.rus.785': 'trial.sketch.rus.3', 'trial.sent.rus.786': 'trial.sketch.rus.6', 'trial.sent.rus.787': 'trial.sketch.rus.13', 'trial.sent.rus.788': 'trial.sketch.rus.13', 'trial.sent.rus.789': 'trial.sketch.rus.0', 'trial.sent.rus.790': 'trial.sketch.rus.15', 'trial.sent.rus.791': 'trial.sketch.rus.0', 'trial.sent.rus.792': 'trial.sketch.rus.2', 'trial.sent.rus.793': 'trial.sketch.rus.2', 'trial.sent.rus.794': 'trial.sketch.rus.12', 'trial.sent.rus.795': 'trial.sketch.rus.18', 'trial.sent.rus.796': 'trial.sketch.rus.18', 'trial.sent.rus.797': 'trial.sketch.rus.10', 'trial.sent.rus.798': 'trial.sketch.rus.6', 'trial.sent.rus.799': 'trial.sketch.rus.17', 'trial.sent.rus.800': 'trial.sketch.rus.0', 'trial.sent.rus.801': 'trial.sketch.rus.7', 'trial.sent.rus.802': 'trial.sketch.rus.13', 'trial.sent.rus.803': 'trial.sketch.rus.12', 'trial.sent.rus.804': 'trial.sketch.rus.16', 'trial.sent.rus.805': 'trial.sketch.rus.11', 'trial.sent.rus.806': 'trial.sketch.rus.6', 'trial.sent.rus.807': 'trial.sketch.rus.14', 'trial.sent.rus.808': 'trial.sketch.rus.13', 'trial.sent.rus.809': 'trial.sketch.rus.4', 'trial.sent.rus.810': 'trial.sketch.rus.2', 'trial.sent.rus.811': 'trial.sketch.rus.6', 'trial.sent.rus.812': 'trial.sketch.rus.13', 'trial.sent.rus.813': 'trial.sketch.rus.6', 'trial.sent.rus.814': 'trial.sketch.rus.11', 'trial.sent.rus.815': 'trial.sketch.rus.7', 'trial.sent.rus.816': 'trial.sketch.rus.2', 'trial.sent.rus.817': 'trial.sketch.rus.3', 'trial.sent.rus.818': 'trial.sketch.rus.10', 'trial.sent.rus.819': 'trial.sketch.rus.5', 'trial.sent.rus.820': 'trial.sketch.rus.10', 'trial.sent.rus.821': 'trial.sketch.rus.17', 'trial.sent.rus.822': 'trial.sketch.rus.16', 'trial.sent.rus.823': 'trial.sketch.rus.16', 'trial.sent.rus.824': 'trial.sketch.rus.10', 'trial.sent.rus.825': 'trial.sketch.rus.8', 'trial.sent.rus.826': 'trial.sketch.rus.4', 'trial.sent.rus.827': 'trial.sketch.rus.3', 'trial.sent.rus.828': 'trial.sketch.rus.7', 'trial.sent.rus.829': 'trial.sketch.rus.6', 'trial.sent.rus.830': 'trial.sketch.rus.2', 'trial.sent.rus.831': 'trial.sketch.rus.11', 'trial.sent.rus.832': 'trial.sketch.rus.5', 'trial.sent.rus.833': 'trial.sketch.rus.5', 'trial.sent.rus.834': 'trial.sketch.rus.12', 'trial.sent.rus.835': 'trial.sketch.rus.13', 'trial.sent.rus.836': 'trial.sketch.rus.4', 'trial.sent.rus.837': 'trial.sketch.rus.14', 'trial.sent.rus.838': 'trial.sketch.rus.7', 'trial.sent.rus.839': 'trial.sketch.rus.19', 'trial.sent.rus.840': 'trial.sketch.rus.18', 'trial.sent.rus.841': 'trial.sketch.rus.14', 'trial.sent.rus.842': 'trial.sketch.rus.18', 'trial.sent.rus.843': 'trial.sketch.rus.16', 'trial.sent.rus.844': 'trial.sketch.rus.7', 'trial.sent.rus.845': 'trial.sketch.rus.3', 'trial.sent.rus.846': 'trial.sketch.rus.15', 'trial.sent.rus.847': 'trial.sketch.rus.12', 'trial.sent.rus.848': 'trial.sketch.rus.4', 'trial.sent.rus.849': 'trial.sketch.rus.5', 'trial.sent.rus.850': 'trial.sketch.rus.6', 'trial.sent.rus.851': 'trial.sketch.rus.15', 'trial.sent.rus.852': 'trial.sketch.rus.0', 'trial.sent.rus.853': 'trial.sketch.rus.3', 'trial.sent.rus.854': 'trial.sketch.rus.14', 'trial.sent.rus.855': 'trial.sketch.rus.8', 'trial.sent.rus.856': 'trial.sketch.rus.2', 'trial.sent.rus.857': 'trial.sketch.rus.7', 'trial.sent.rus.858': 'trial.sketch.rus.6', 'trial.sent.rus.859': 'trial.sketch.rus.13', 'trial.sent.rus.860': 'trial.sketch.rus.17', 'trial.sent.rus.861': 'trial.sketch.rus.15', 'trial.sent.rus.862': 'trial.sketch.rus.11', 'trial.sent.rus.863': 'trial.sketch.rus.17', 'trial.sent.rus.864': 'trial.sketch.rus.18', 'trial.sent.rus.865': 'trial.sketch.rus.18', 'trial.sent.rus.866': 'trial.sketch.rus.11', 'trial.sent.rus.867': 'trial.sketch.rus.18', 'trial.sent.rus.868': 'trial.sketch.rus.19', 'trial.sent.rus.869': 'trial.sketch.rus.2', 'trial.sent.rus.870': 'trial.sketch.rus.14', 'trial.sent.rus.871': 'trial.sketch.rus.9', 'trial.sent.rus.872': 'trial.sketch.rus.19', 'trial.sent.rus.873': 'trial.sketch.rus.7', 'trial.sent.rus.874': 'trial.sketch.rus.11', 'trial.sent.rus.875': 'trial.sketch.rus.19', 'trial.sent.rus.876': 'trial.sketch.rus.11', 'trial.sent.rus.877': 'trial.sketch.rus.1', 'trial.sent.rus.878': 'trial.sketch.rus.17', 'trial.sent.rus.879': 'trial.sketch.rus.4', 'trial.sent.rus.880': 'trial.sketch.rus.18', 'trial.sent.rus.881': 'trial.sketch.rus.11', 'trial.sent.rus.882': 'trial.sketch.rus.17', 'trial.sent.rus.883': 'trial.sketch.rus.5', 'trial.sent.rus.884': 'trial.sketch.rus.11', 'trial.sent.rus.885': 'trial.sketch.rus.8', 'trial.sent.rus.886': 'trial.sketch.rus.4', 'trial.sent.rus.887': 'trial.sketch.rus.2', 'trial.sent.rus.888': 'trial.sketch.rus.7', 'trial.sent.rus.889': 'trial.sketch.rus.4', 'trial.sent.rus.890': 'trial.sketch.rus.7', 'trial.sent.rus.891': 'trial.sketch.rus.15', 'trial.sent.rus.892': 'trial.sketch.rus.19', 'trial.sent.rus.893': 'trial.sketch.rus.9', 'trial.sent.rus.894': 'trial.sketch.rus.15', 'trial.sent.rus.895': 'trial.sketch.rus.7', 'trial.sent.rus.896': 'trial.sketch.rus.2', 'trial.sent.rus.897': 'trial.sketch.rus.14', 'trial.sent.rus.898': 'trial.sketch.rus.16', 'trial.sent.rus.899': 'trial.sketch.rus.16', 'trial.sent.rus.900': 'trial.sketch.rus.14', 'trial.sent.rus.901': 'trial.sketch.rus.15', 'trial.sent.rus.902': 'trial.sketch.rus.5', 'trial.sent.rus.903': 'trial.sketch.rus.19', 'trial.sent.rus.904': 'trial.sketch.rus.8', 'trial.sent.rus.905': 'trial.sketch.rus.0', 'trial.sent.rus.906': 'trial.sketch.rus.5', 'trial.sent.rus.907': 'trial.sketch.rus.1', 'trial.sent.rus.908': 'trial.sketch.rus.2', 'trial.sent.rus.909': 'trial.sketch.rus.3', 'trial.sent.rus.910': 'trial.sketch.rus.17', 'trial.sent.rus.911': 'trial.sketch.rus.4', 'trial.sent.rus.912': 'trial.sketch.rus.13', 'trial.sent.rus.913': 'trial.sketch.rus.3', 'trial.sent.rus.914': 'trial.sketch.rus.2', 'trial.sent.rus.915': 'trial.sketch.rus.13', 'trial.sent.rus.916': 'trial.sketch.rus.6', 'trial.sent.rus.917': 'trial.sketch.rus.16', 'trial.sent.rus.918': 'trial.sketch.rus.6', 'trial.sent.rus.919': 'trial.sketch.rus.0', 'trial.sent.rus.920': 'trial.sketch.rus.1', 'trial.sent.rus.921': 'trial.sketch.rus.18', 'trial.sent.rus.922': 'trial.sketch.rus.0', 'trial.sent.rus.923': 'trial.sketch.rus.11', 'trial.sent.rus.924': 'trial.sketch.rus.15', 'trial.sent.rus.925': 'trial.sketch.rus.5', 'trial.sent.rus.926': 'trial.sketch.rus.16', 'trial.sent.rus.927': 'trial.sketch.rus.0', 'trial.sent.rus.928': 'trial.sketch.rus.0', 'trial.sent.rus.929': 'trial.sketch.rus.3', 'trial.sent.rus.930': 'trial.sketch.rus.7', 'trial.sent.rus.931': 'trial.sketch.rus.6', 'trial.sent.rus.932': 'trial.sketch.rus.16', 'trial.sent.rus.933': 'trial.sketch.rus.19', 'trial.sent.rus.934': 'trial.sketch.rus.6', 'trial.sent.rus.935': 'trial.sketch.rus.12', 'trial.sent.rus.936': 'trial.sketch.rus.3', 'trial.sent.rus.937': 'trial.sketch.rus.1', 'trial.sent.rus.938': 'trial.sketch.rus.5', 'trial.sent.rus.939': 'trial.sketch.rus.5', 'trial.sent.rus.940': 'trial.sketch.rus.7', 'trial.sent.rus.941': 'trial.sketch.rus.8', 'trial.sent.rus.942': 'trial.sketch.rus.0', 'trial.sent.rus.943': 'trial.sketch.rus.18', 'trial.sent.rus.944': 'trial.sketch.rus.10', 'trial.sent.rus.945': 'trial.sketch.rus.14', 'trial.sent.rus.946': 'trial.sketch.rus.15', 'trial.sent.rus.947': 'trial.sketch.rus.7', 'trial.sent.rus.948': 'trial.sketch.rus.3', 'trial.sent.rus.949': 'trial.sketch.rus.12', 'trial.sent.rus.950': 'trial.sketch.rus.8', 'trial.sent.rus.951': 'trial.sketch.rus.6', 'trial.sent.rus.952': 'trial.sketch.rus.8', 'trial.sent.rus.953': 'trial.sketch.rus.7', 'trial.sent.rus.954': 'trial.sketch.rus.8', 'trial.sent.rus.955': 'trial.sketch.rus.11', 'trial.sent.rus.956': 'trial.sketch.rus.11', 'trial.sent.rus.957': 'trial.sketch.rus.16', 'trial.sent.rus.958': 'trial.sketch.rus.3', 'trial.sent.rus.959': 'trial.sketch.rus.19', 'trial.sent.rus.960': 'trial.sketch.rus.14', 'trial.sent.rus.961': 'trial.sketch.rus.15', 'trial.sent.rus.962': 'trial.sketch.rus.2', 'trial.sent.rus.963': 'trial.sketch.rus.15', 'trial.sent.rus.964': 'trial.sketch.rus.2', 'trial.sent.rus.965': 'trial.sketch.rus.3', 'trial.sent.rus.966': 'trial.sketch.rus.11', 'trial.sent.rus.967': 'trial.sketch.rus.4', 'trial.sent.rus.968': 'trial.sketch.rus.11', 'trial.sent.rus.969': 'trial.sketch.rus.2', 'trial.sent.rus.970': 'trial.sketch.rus.7', 'trial.sent.rus.971': 'trial.sketch.rus.7', 'trial.sent.rus.972': 'trial.sketch.rus.4', 'trial.sent.rus.973': 'trial.sketch.rus.7', 'trial.sent.rus.974': 'trial.sketch.rus.5', 'trial.sent.rus.975': 'trial.sketch.rus.9', 'trial.sent.rus.976': 'trial.sketch.rus.12', 'trial.sent.rus.977': 'trial.sketch.rus.2', 'trial.sent.rus.978': 'trial.sketch.rus.3', 'trial.sent.rus.979': 'trial.sketch.rus.8', 'trial.sent.rus.980': 'trial.sketch.rus.9', 'trial.sent.rus.981': 'trial.sketch.rus.10', 'trial.sent.rus.982': 'trial.sketch.rus.4', 'trial.sent.rus.983': 'trial.sketch.rus.1', 'trial.sent.rus.984': 'trial.sketch.rus.4', 'trial.sent.rus.985': 'trial.sketch.rus.5', 'trial.sent.rus.986': 'trial.sketch.rus.15', 'trial.sent.rus.987': 'trial.sketch.rus.0', 'trial.sent.rus.988': 'trial.sketch.rus.1', 'trial.sent.rus.989': 'trial.sketch.rus.13', 'trial.sent.rus.990': 'trial.sketch.rus.4', 'trial.sent.rus.991': 'trial.sketch.rus.15', 'trial.sent.rus.992': 'trial.sketch.rus.18', 'trial.sent.rus.993': 'trial.sketch.rus.15', 'trial.sent.rus.994': 'trial.sketch.rus.8', 'trial.sent.rus.995': 'trial.sketch.rus.7', 'trial.sent.rus.996': 'trial.sketch.rus.3', 'trial.sent.rus.997': 'trial.sketch.rus.3', 'trial.sent.rus.998': 'trial.sketch.rus.4', 'trial.sent.rus.999': 'trial.sketch.rus.13', 'trial.sent.rus.1000': 'trial.sketch.rus.16', 'trial.sent.rus.1001': 'trial.sketch.rus.6', 'trial.sent.rus.1002': 'trial.sketch.rus.18', 'trial.sent.rus.1003': 'trial.sketch.rus.6', 'trial.sent.rus.1004': 'trial.sketch.rus.0', 'trial.sent.rus.1005': 'trial.sketch.rus.14', 'trial.sent.rus.1006': 'trial.sketch.rus.4', 'trial.sent.rus.1007': 'trial.sketch.rus.14', 'trial.sent.rus.1008': 'trial.sketch.rus.9', 'trial.sent.rus.1009': 'trial.sketch.rus.3', 'trial.sent.rus.1010': 'trial.sketch.rus.17', 'trial.sent.rus.1011': 'trial.sketch.rus.4', 'trial.sent.rus.1012': 'trial.sketch.rus.18', 'trial.sent.rus.1013': 'trial.sketch.rus.4', 'trial.sent.rus.1014': 'trial.sketch.rus.18', 'trial.sent.rus.1015': 'trial.sketch.rus.15', 'trial.sent.rus.1016': 'trial.sketch.rus.14', 'trial.sent.rus.1017': 'trial.sketch.rus.6', 'trial.sent.rus.1018': 'trial.sketch.rus.15', 'trial.sent.rus.1019': 'trial.sketch.rus.9', 'trial.sent.rus.1020': 'trial.sketch.rus.14', 'trial.sent.rus.1021': 'trial.sketch.rus.3', 'trial.sent.rus.1022': 'trial.sketch.rus.19', 'trial.sent.rus.1023': 'trial.sketch.rus.13', 'trial.sent.rus.1024': 'trial.sketch.rus.2', 'trial.sent.rus.1025': 'trial.sketch.rus.13', 'trial.sent.rus.1026': 'trial.sketch.rus.12', 'trial.sent.rus.1027': 'trial.sketch.rus.0', 'trial.sent.rus.1028': 'trial.sketch.rus.15', 'trial.sent.rus.1029': 'trial.sketch.rus.2', 'trial.sent.rus.1030': 'trial.sketch.rus.6', 'trial.sent.rus.1031': 'trial.sketch.rus.15', 'trial.sent.rus.1032': 'trial.sketch.rus.6', 'trial.sent.rus.1033': 'trial.sketch.rus.2', 'trial.sent.rus.1034': 'trial.sketch.rus.5', 'trial.sent.rus.1035': 'trial.sketch.rus.0', 'trial.sent.rus.1036': 'trial.sketch.rus.18', 'trial.sent.rus.1037': 'trial.sketch.rus.15', 'trial.sent.rus.1038': 'trial.sketch.rus.2', 'trial.sent.rus.1039': 'trial.sketch.rus.3', 'trial.sent.rus.1040': 'trial.sketch.rus.13', 'trial.sent.rus.1041': 'trial.sketch.rus.2', 'trial.sent.rus.1042': 'trial.sketch.rus.0', 'trial.sent.rus.1043': 'trial.sketch.rus.3', 'trial.sent.rus.1044': 'trial.sketch.rus.16', 'trial.sent.rus.1045': 'trial.sketch.rus.7', 'trial.sent.rus.1046': 'trial.sketch.rus.17', 'trial.sent.rus.1047': 'trial.sketch.rus.4', 'trial.sent.rus.1048': 'trial.sketch.rus.4', 'trial.sent.rus.1049': 'trial.sketch.rus.9', 'trial.sent.rus.1050': 'trial.sketch.rus.8', 'trial.sent.rus.1051': 'trial.sketch.rus.1', 'trial.sent.rus.1052': 'trial.sketch.rus.12', 'trial.sent.rus.1053': 'trial.sketch.rus.14', 'trial.sent.rus.1054': 'trial.sketch.rus.19', 'trial.sent.rus.1055': 'trial.sketch.rus.7', 'trial.sent.rus.1056': 'trial.sketch.rus.1', 'trial.sent.rus.1057': 'trial.sketch.rus.13', 'trial.sent.rus.1058': 'trial.sketch.rus.4', 'trial.sent.rus.1059': 'trial.sketch.rus.13', 'trial.sent.rus.1060': 'trial.sketch.rus.6', 'trial.sent.rus.1061': 'trial.sketch.rus.15', 'trial.sent.rus.1062': 'trial.sketch.rus.13', 'trial.sent.rus.1063': 'trial.sketch.rus.18', 'trial.sent.rus.1064': 'trial.sketch.rus.8', 'trial.sent.rus.1065': 'trial.sketch.rus.3', 'trial.sent.rus.1066': 'trial.sketch.rus.12', 'trial.sent.rus.1067': 'trial.sketch.rus.0', 'trial.sent.rus.1068': 'trial.sketch.rus.19', 'trial.sent.rus.1069': 'trial.sketch.rus.11', 'trial.sent.rus.1070': 'trial.sketch.rus.8', 'trial.sent.rus.1071': 'trial.sketch.rus.1', 'trial.sent.rus.1072': 'trial.sketch.rus.18', 'trial.sent.rus.1073': 'trial.sketch.rus.15', 'trial.sent.rus.1074': 'trial.sketch.rus.4', 'trial.sent.rus.1075': 'trial.sketch.rus.8', 'trial.sent.rus.1076': 'trial.sketch.rus.0', 'trial.sent.rus.1077': 'trial.sketch.rus.11', 'trial.sent.rus.1078': 'trial.sketch.rus.19', 'trial.sent.rus.1079': 'trial.sketch.rus.3', 'trial.sent.rus.1080': 'trial.sketch.rus.8', 'trial.sent.rus.1081': 'trial.sketch.rus.11', 'trial.sent.rus.1082': 'trial.sketch.rus.1', 'trial.sent.rus.1083': 'trial.sketch.rus.10', 'trial.sent.rus.1084': 'trial.sketch.rus.16', 'trial.sent.rus.1085': 'trial.sketch.rus.10', 'trial.sent.rus.1086': 'trial.sketch.rus.9', 'trial.sent.rus.1087': 'trial.sketch.rus.8', 'trial.sent.rus.1088': 'trial.sketch.rus.11', 'trial.sent.rus.1089': 'trial.sketch.rus.16', 'trial.sent.rus.1090': 'trial.sketch.rus.13', 'trial.sent.rus.1091': 'trial.sketch.rus.2', 'trial.sent.rus.1092': 'trial.sketch.rus.19', 'trial.sent.rus.1093': 'trial.sketch.rus.16', 'trial.sent.rus.1094': 'trial.sketch.rus.0', 'trial.sent.rus.1095': 'trial.sketch.rus.4', 'trial.sent.rus.1096': 'trial.sketch.rus.2', 'trial.sent.rus.1097': 'trial.sketch.rus.14', 'trial.sent.rus.1098': 'trial.sketch.rus.6', 'trial.sent.rus.1099': 'trial.sketch.rus.13', 'trial.sent.rus.1100': 'trial.sketch.rus.13', 'trial.sent.rus.1101': 'trial.sketch.rus.11', 'trial.sent.rus.1102': 'trial.sketch.rus.11', 'trial.sent.rus.1103': 'trial.sketch.rus.13', 'trial.sent.rus.1104': 'trial.sketch.rus.4', 'trial.sent.rus.1105': 'trial.sketch.rus.0', 'trial.sent.rus.1106': 'trial.sketch.rus.18', 'trial.sent.rus.1107': 'trial.sketch.rus.11', 'trial.sent.rus.1108': 'trial.sketch.rus.19', 'trial.sent.rus.1109': 'trial.sketch.rus.8', 'trial.sent.rus.1110': 'trial.sketch.rus.10', 'trial.sent.rus.1111': 'trial.sketch.rus.13', 'trial.sent.rus.1112': 'trial.sketch.rus.18', 'trial.sent.rus.1113': 'trial.sketch.rus.6', 'trial.sent.rus.1114': 'trial.sketch.rus.3', 'trial.sent.rus.1115': 'trial.sketch.rus.5', 'trial.sent.rus.1116': 'trial.sketch.rus.1', 'trial.sent.rus.1117': 'trial.sketch.rus.0', 'trial.sent.rus.1118': 'trial.sketch.rus.5', 'trial.sent.rus.1119': 'trial.sketch.rus.8', 'trial.sent.rus.1120': 'trial.sketch.rus.9', 'trial.sent.rus.1121': 'trial.sketch.rus.5', 'trial.sent.rus.1122': 'trial.sketch.rus.15', 'trial.sent.rus.1123': 'trial.sketch.rus.16', 'trial.sent.rus.1124': 'trial.sketch.rus.17', 'trial.sent.rus.1125': 'trial.sketch.rus.0', 'trial.sent.rus.1126': 'trial.sketch.rus.15', 'trial.sent.rus.1127': 'trial.sketch.rus.6', 'trial.sent.rus.1128': 'trial.sketch.rus.2', 'trial.sent.rus.1129': 'trial.sketch.rus.1', 'trial.sent.rus.1130': 'trial.sketch.rus.15', 'trial.sent.rus.1131': 'trial.sketch.rus.2', 'trial.sent.rus.1132': 'trial.sketch.rus.8', 'trial.sent.rus.1133': 'trial.sketch.rus.14', 'trial.sent.rus.1134': 'trial.sketch.rus.9', 'trial.sent.rus.1135': 'trial.sketch.rus.10', 'trial.sent.rus.1136': 'trial.sketch.rus.14', 'trial.sent.rus.1137': 'trial.sketch.rus.13', 'trial.sent.rus.1138': 'trial.sketch.rus.4', 'trial.sent.rus.1139': 'trial.sketch.rus.18', 'trial.sent.rus.1140': 'trial.sketch.rus.2', 'trial.sent.rus.1141': 'trial.sketch.rus.7', 'trial.sent.rus.1142': 'trial.sketch.rus.9', 'trial.sent.rus.1143': 'trial.sketch.rus.0', 'trial.sent.rus.1144': 'trial.sketch.rus.8', 'trial.sent.rus.1145': 'trial.sketch.rus.0', 'trial.sent.rus.1146': 'trial.sketch.rus.18', 'trial.sent.rus.1147': 'trial.sketch.rus.9', 'trial.sent.rus.1148': 'trial.sketch.rus.17', 'trial.sent.rus.1149': 'trial.sketch.rus.16', 'trial.sent.rus.1150': 'trial.sketch.rus.14', 'trial.sent.rus.1151': 'trial.sketch.rus.6', 'trial.sent.rus.1152': 'trial.sketch.rus.16', 'trial.sent.rus.1153': 'trial.sketch.rus.5', 'trial.sent.rus.1154': 'trial.sketch.rus.4', 'trial.sent.rus.1155': 'trial.sketch.rus.12', 'trial.sent.rus.1156': 'trial.sketch.rus.10', 'trial.sent.rus.1157': 'trial.sketch.rus.8', 'trial.sent.rus.1158': 'trial.sketch.rus.13', 'trial.sent.rus.1159': 'trial.sketch.rus.1', 'trial.sent.rus.1160': 'trial.sketch.rus.7', 'trial.sent.rus.1161': 'trial.sketch.rus.5', 'trial.sent.rus.1162': 'trial.sketch.rus.10', 'trial.sent.rus.1163': 'trial.sketch.rus.6', 'trial.sent.rus.1164': 'trial.sketch.rus.4', 'trial.sent.rus.1165': 'trial.sketch.rus.19', 'trial.sent.rus.1166': 'trial.sketch.rus.17', 'trial.sent.rus.1167': 'trial.sketch.rus.3', 'trial.sent.rus.1168': 'trial.sketch.rus.3', 'trial.sent.rus.1169': 'trial.sketch.rus.7', 'trial.sent.rus.1170': 'trial.sketch.rus.2', 'trial.sent.rus.1171': 'trial.sketch.rus.11', 'trial.sent.rus.1172': 'trial.sketch.rus.6', 'trial.sent.rus.1173': 'trial.sketch.rus.5', 'trial.sent.rus.1174': 'trial.sketch.rus.12', 'trial.sent.rus.1175': 'trial.sketch.rus.10', 'trial.sent.rus.1176': 'trial.sketch.rus.1', 'trial.sent.rus.1177': 'trial.sketch.rus.4', 'trial.sent.rus.1178': 'trial.sketch.rus.0', 'trial.sent.rus.1179': 'trial.sketch.rus.6', 'trial.sent.rus.1180': 'trial.sketch.rus.3', 'trial.sent.rus.1181': 'trial.sketch.rus.17', 'trial.sent.rus.1182': 'trial.sketch.rus.7', 'trial.sent.rus.1183': 'trial.sketch.rus.10', 'trial.sent.rus.1184': 'trial.sketch.rus.11', 'trial.sent.rus.1185': 'trial.sketch.rus.15', 'trial.sent.rus.1186': 'trial.sketch.rus.16', 'trial.sent.rus.1187': 'trial.sketch.rus.16', 'trial.sent.rus.1188': 'trial.sketch.rus.9', 'trial.sent.rus.1189': 'trial.sketch.rus.12', 'trial.sent.rus.1190': 'trial.sketch.rus.10', 'trial.sent.rus.1191': 'trial.sketch.rus.10', 'trial.sent.rus.1192': 'trial.sketch.rus.1', 'trial.sent.rus.1193': 'trial.sketch.rus.18', 'trial.sent.rus.1194': 'trial.sketch.rus.16', 'trial.sent.rus.1195': 'trial.sketch.rus.5', 'trial.sent.rus.1196': 'trial.sketch.rus.12', 'trial.sent.rus.1197': 'trial.sketch.rus.8', 'trial.sent.rus.1198': 'trial.sketch.rus.4', 'trial.sent.rus.1199': 'trial.sketch.rus.9', 'trial.sent.rus.1200': 'trial.sketch.rus.6', 'trial.sent.rus.1201': 'trial.sketch.rus.5', 'trial.sent.rus.1202': 'trial.sketch.rus.19', 'trial.sent.rus.1203': 'trial.sketch.rus.18', 'trial.sent.rus.1204': 'trial.sketch.rus.4', 'trial.sent.rus.1205': 'trial.sketch.rus.10', 'trial.sent.rus.1206': 'trial.sketch.rus.1', 'trial.sent.rus.1207': 'trial.sketch.rus.12', 'trial.sent.rus.1208': 'trial.sketch.rus.14', 'trial.sent.rus.1209': 'trial.sketch.rus.11', 'trial.sent.rus.1210': 'trial.sketch.rus.1', 'trial.sent.rus.1211': 'trial.sketch.rus.15', 'trial.sent.rus.1212': 'trial.sketch.rus.15', 'trial.sent.rus.1213': 'trial.sketch.rus.13', 'trial.sent.rus.1214': 'trial.sketch.rus.18', 'trial.sent.rus.1215': 'trial.sketch.rus.2', 'trial.sent.rus.1216': 'trial.sketch.rus.2', 'trial.sent.rus.1217': 'trial.sketch.rus.18', 'trial.sent.rus.1218': 'trial.sketch.rus.10', 'trial.sent.rus.1219': 'trial.sketch.rus.10', 'trial.sent.rus.1220': 'trial.sketch.rus.8', 'trial.sent.rus.1221': 'trial.sketch.rus.0', 'trial.sent.rus.1222': 'trial.sketch.rus.10', 'trial.sent.rus.1223': 'trial.sketch.rus.5', 'trial.sent.rus.1224': 'trial.sketch.rus.15', 'trial.sent.rus.1225': 'trial.sketch.rus.15', 'trial.sent.rus.1226': 'trial.sketch.rus.16', 'trial.sent.rus.1227': 'trial.sketch.rus.3', 'trial.sent.rus.1228': 'trial.sketch.rus.19', 'trial.sent.rus.1229': 'trial.sketch.rus.15', 'trial.sent.rus.1230': 'trial.sketch.rus.10', 'trial.sent.rus.1231': 'trial.sketch.rus.13', 'trial.sent.rus.1232': 'trial.sketch.rus.9', 'trial.sent.rus.1233': 'trial.sketch.rus.5', 'trial.sent.rus.1234': 'trial.sketch.rus.3', 'trial.sent.rus.1235': 'trial.sketch.rus.18', 'trial.sent.rus.1236': 'trial.sketch.rus.18', 'trial.sent.rus.1237': 'trial.sketch.rus.17', 'trial.sent.rus.1238': 'trial.sketch.rus.8', 'trial.sent.rus.1239': 'trial.sketch.rus.5', 'trial.sent.rus.1240': 'trial.sketch.rus.2', 'trial.sent.rus.1241': 'trial.sketch.rus.5', 'trial.sent.rus.1242': 'trial.sketch.rus.6', 'trial.sent.rus.1243': 'trial.sketch.rus.3', 'trial.sent.rus.1244': 'trial.sketch.rus.12', 'trial.sent.rus.1245': 'trial.sketch.rus.13', 'trial.sent.rus.1246': 'trial.sketch.rus.9', 'trial.sent.rus.1247': 'trial.sketch.rus.4', 'trial.sent.rus.1248': 'trial.sketch.rus.1', 'trial.sent.rus.1249': 'trial.sketch.rus.8', 'trial.sent.rus.1250': 'trial.sketch.rus.1', 'trial.sent.rus.1251': 'trial.sketch.rus.7', 'trial.sent.rus.1252': 'trial.sketch.rus.12', 'trial.sent.rus.1253': 'trial.sketch.rus.9', 'trial.sent.rus.1254': 'trial.sketch.rus.14', 'trial.sent.rus.1255': 'trial.sketch.rus.6', 'trial.sent.rus.1256': 'trial.sketch.rus.14', 'trial.sent.rus.1257': 'trial.sketch.rus.14', 'trial.sent.rus.1258': 'trial.sketch.rus.13', 'trial.sent.rus.1259': 'trial.sketch.rus.17', 'trial.sent.rus.1260': 'trial.sketch.rus.5', 'trial.sent.rus.1261': 'trial.sketch.rus.19', 'trial.sent.rus.1262': 'trial.sketch.rus.13', 'trial.sent.rus.1263': 'trial.sketch.rus.7', 'trial.sent.rus.1264': 'trial.sketch.rus.18', 'trial.sent.rus.1265': 'trial.sketch.rus.16', 'trial.sent.rus.1266': 'trial.sketch.rus.8', 'trial.sent.rus.1267': 'trial.sketch.rus.4', 'trial.sent.rus.1268': 'trial.sketch.rus.18', 'trial.sent.rus.1269': 'trial.sketch.rus.11', 'trial.sent.rus.1270': 'trial.sketch.rus.4', 'trial.sent.rus.1271': 'trial.sketch.rus.19', 'trial.sent.rus.1272': 'trial.sketch.rus.5', 'trial.sent.rus.1273': 'trial.sketch.rus.1', 'trial.sent.rus.1274': 'trial.sketch.rus.5', 'trial.sent.rus.1275': 'trial.sketch.rus.14', 'trial.sent.rus.1276': 'trial.sketch.rus.11', 'trial.sent.rus.1277': 'trial.sketch.rus.15', 'trial.sent.rus.1278': 'trial.sketch.rus.16', 'trial.sent.rus.1279': 'trial.sketch.rus.19', 'trial.sent.rus.1280': 'trial.sketch.rus.12', 'trial.sent.rus.1281': 'trial.sketch.rus.17', 'trial.sent.rus.1282': 'trial.sketch.rus.11', 'trial.sent.rus.1283': 'trial.sketch.rus.7', 'trial.sent.rus.1284': 'trial.sketch.rus.15', 'trial.sent.rus.1285': 'trial.sketch.rus.9', 'trial.sent.rus.1286': 'trial.sketch.rus.7', 'trial.sent.rus.1287': 'trial.sketch.rus.0', 'trial.sent.rus.1288': 'trial.sketch.rus.15', 'trial.sent.rus.1289': 'trial.sketch.rus.15', 'trial.sent.rus.1290': 'trial.sketch.rus.6', 'trial.sent.rus.1291': 'trial.sketch.rus.17', 'trial.sent.rus.1292': 'trial.sketch.rus.7', 'trial.sent.rus.1293': 'trial.sketch.rus.10', 'trial.sent.rus.1294': 'trial.sketch.rus.19', 'trial.sent.rus.1295': 'trial.sketch.rus.5', 'trial.sent.rus.1296': 'trial.sketch.rus.10', 'trial.sent.rus.1297': 'trial.sketch.rus.14', 'trial.sent.rus.1298': 'trial.sketch.rus.17', 'trial.sent.rus.1299': 'trial.sketch.rus.5', 'trial.sent.rus.1300': 'trial.sketch.rus.8', 'trial.sent.rus.1301': 'trial.sketch.rus.1', 'trial.sent.rus.1302': 'trial.sketch.rus.0', 'trial.sent.rus.1303': 'trial.sketch.rus.13', 'trial.sent.rus.1304': 'trial.sketch.rus.12', 'trial.sent.rus.1305': 'trial.sketch.rus.7', 'trial.sent.rus.1306': 'trial.sketch.rus.15', 'trial.sent.rus.1307': 'trial.sketch.rus.10', 'trial.sent.rus.1308': 'trial.sketch.rus.7', 'trial.sent.rus.1309': 'trial.sketch.rus.7', 'trial.sent.rus.1310': 'trial.sketch.rus.8', 'trial.sent.rus.1311': 'trial.sketch.rus.17', 'trial.sent.rus.1312': 'trial.sketch.rus.9', 'trial.sent.rus.1313': 'trial.sketch.rus.5', 'trial.sent.rus.1314': 'trial.sketch.rus.14', 'trial.sent.rus.1315': 'trial.sketch.rus.3', 'trial.sent.rus.1316': 'trial.sketch.rus.16', 'trial.sent.rus.1317': 'trial.sketch.rus.5', 'trial.sent.rus.1318': 'trial.sketch.rus.3', 'trial.sent.rus.1319': 'trial.sketch.rus.13', 'trial.sent.rus.1320': 'trial.sketch.rus.8', 'trial.sent.rus.1321': 'trial.sketch.rus.0', 'trial.sent.rus.1322': 'trial.sketch.rus.11', 'trial.sent.rus.1323': 'trial.sketch.rus.9', 'trial.sent.rus.1324': 'trial.sketch.rus.10', 'trial.sent.rus.1325': 'trial.sketch.rus.18', 'trial.sent.rus.1326': 'trial.sketch.rus.18', 'trial.sent.rus.1327': 'trial.sketch.rus.14', 'trial.sent.rus.1328': 'trial.sketch.rus.14', 'trial.sent.rus.1329': 'trial.sketch.rus.5', 'trial.sent.rus.1330': 'trial.sketch.rus.2', 'trial.sent.rus.1331': 'trial.sketch.rus.15', 'trial.sent.rus.1332': 'trial.sketch.rus.12', 'trial.sent.rus.1333': 'trial.sketch.rus.2', 'trial.sent.rus.1334': 'trial.sketch.rus.19', 'trial.sent.rus.1335': 'trial.sketch.rus.19', 'trial.sent.rus.1336': 'trial.sketch.rus.9', 'trial.sent.rus.1337': 'trial.sketch.rus.0', 'trial.sent.rus.1338': 'trial.sketch.rus.16', 'trial.sent.rus.1339': 'trial.sketch.rus.8', 'trial.sent.rus.1340': 'trial.sketch.rus.6', 'trial.sent.rus.1341': 'trial.sketch.rus.12', 'trial.sent.rus.1342': 'trial.sketch.rus.11', 'trial.sent.rus.1343': 'trial.sketch.rus.8', 'trial.sent.rus.1344': 'trial.sketch.rus.12', 'trial.sent.rus.1345': 'trial.sketch.rus.18', 'trial.sent.rus.1346': 'trial.sketch.rus.19', 'trial.sent.rus.1347': 'trial.sketch.rus.3', 'trial.sent.rus.1348': 'trial.sketch.rus.12', 'trial.sent.rus.1349': 'trial.sketch.rus.9', 'trial.sent.rus.1350': 'trial.sketch.rus.18', 'trial.sent.rus.1351': 'trial.sketch.rus.11', 'trial.sent.rus.1352': 'trial.sketch.rus.7', 'trial.sent.rus.1353': 'trial.sketch.rus.8', 'trial.sent.rus.1354': 'trial.sketch.rus.11', 'trial.sent.rus.1355': 'trial.sketch.rus.12', 'trial.sent.rus.1356': 'trial.sketch.rus.11', 'trial.sent.rus.1357': 'trial.sketch.rus.17', 'trial.sent.rus.1358': 'trial.sketch.rus.19', 'trial.sent.rus.1359': 'trial.sketch.rus.5', 'trial.sent.rus.1360': 'trial.sketch.rus.19', 'trial.sent.rus.1361': 'trial.sketch.rus.15', 'trial.sent.rus.1362': 'trial.sketch.rus.12', 'trial.sent.rus.1363': 'trial.sketch.rus.4', 'trial.sent.rus.1364': 'trial.sketch.rus.13', 'trial.sent.rus.1365': 'trial.sketch.rus.14', 'trial.sent.rus.1366': 'trial.sketch.rus.7', 'trial.sent.rus.1367': 'trial.sketch.rus.5', 'trial.sent.rus.1368': 'trial.sketch.rus.18', 'trial.sent.rus.1369': 'trial.sketch.rus.18', 'trial.sent.rus.1370': 'trial.sketch.rus.14', 'trial.sent.rus.1371': 'trial.sketch.rus.9', 'trial.sent.rus.1372': 'trial.sketch.rus.19', 'trial.sent.rus.1373': 'trial.sketch.rus.4', 'trial.sent.rus.1374': 'trial.sketch.rus.18', 'trial.sent.rus.1375': 'trial.sketch.rus.7', 'trial.sent.rus.1376': 'trial.sketch.rus.8', 'trial.sent.rus.1377': 'trial.sketch.rus.19', 'trial.sent.rus.1378': 'trial.sketch.rus.8', 'trial.sent.rus.1379': 'trial.sketch.rus.12', 'trial.sent.rus.1380': 'trial.sketch.rus.7', 'trial.sent.rus.1381': 'trial.sketch.rus.10', 'trial.sent.rus.1382': 'trial.sketch.rus.2', 'trial.sent.rus.1383': 'trial.sketch.rus.6', 'trial.sent.rus.1384': 'trial.sketch.rus.13', 'trial.sent.rus.1385': 'trial.sketch.rus.6', 'trial.sent.rus.1386': 'trial.sketch.rus.5', 'trial.sent.rus.1387': 'trial.sketch.rus.14', 'trial.sent.rus.1388': 'trial.sketch.rus.10', 'trial.sent.rus.1389': 'trial.sketch.rus.14', 'trial.sent.rus.1390': 'trial.sketch.rus.9', 'trial.sent.rus.1391': 'trial.sketch.rus.14', 'trial.sent.rus.1392': 'trial.sketch.rus.6', 'trial.sent.rus.1393': 'trial.sketch.rus.13', 'trial.sent.rus.1394': 'trial.sketch.rus.0', 'trial.sent.rus.1395': 'trial.sketch.rus.16', 'trial.sent.rus.1396': 'trial.sketch.rus.7', 'trial.sent.rus.1397': 'trial.sketch.rus.7', 'trial.sent.rus.1398': 'trial.sketch.rus.2', 'trial.sent.rus.1399': 'trial.sketch.rus.1', 'trial.sent.rus.1400': 'trial.sketch.rus.19', 'trial.sent.rus.1401': 'trial.sketch.rus.4', 'trial.sent.rus.1402': 'trial.sketch.rus.4', 'trial.sent.rus.1403': 'trial.sketch.rus.19', 'trial.sent.rus.1404': 'trial.sketch.rus.16', 'trial.sent.rus.1405': 'trial.sketch.rus.6', 'trial.sent.rus.1406': 'trial.sketch.rus.12', 'trial.sent.rus.1407': 'trial.sketch.rus.7', 'trial.sent.rus.1408': 'trial.sketch.rus.3', 'trial.sent.rus.1409': 'trial.sketch.rus.14', 'trial.sent.rus.1410': 'trial.sketch.rus.15', 'trial.sent.rus.1411': 'trial.sketch.rus.14', 'trial.sent.rus.1412': 'trial.sketch.rus.1', 'trial.sent.rus.1413': 'trial.sketch.rus.16', 'trial.sent.rus.1414': 'trial.sketch.rus.2', 'trial.sent.rus.1415': 'trial.sketch.rus.3', 'trial.sent.rus.1416': 'trial.sketch.rus.7', 'trial.sent.rus.1417': 'trial.sketch.rus.19', 'trial.sent.rus.1418': 'trial.sketch.rus.3', 'trial.sent.rus.1419': 'trial.sketch.rus.4', 'trial.sent.rus.1420': 'trial.sketch.rus.13', 'trial.sent.rus.1421': 'trial.sketch.rus.6', 'trial.sent.rus.1422': 'trial.sketch.rus.3', 'trial.sent.rus.1423': 'trial.sketch.rus.9', 'trial.sent.rus.1424': 'trial.sketch.rus.8', 'trial.sent.rus.1425': 'trial.sketch.rus.19', 'trial.sent.rus.1426': 'trial.sketch.rus.9', 'trial.sent.rus.1427': 'trial.sketch.rus.1', 'trial.sent.rus.1428': 'trial.sketch.rus.18', 'trial.sent.rus.1429': 'trial.sketch.rus.5', 'trial.sent.rus.1430': 'trial.sketch.rus.15', 'trial.sent.rus.1431': 'trial.sketch.rus.11', 'trial.sent.rus.1432': 'trial.sketch.rus.12', 'trial.sent.rus.1433': 'trial.sketch.rus.18', 'trial.sent.rus.1434': 'trial.sketch.rus.12', 'trial.sent.rus.1435': 'trial.sketch.rus.2', 'trial.sent.rus.1436': 'trial.sketch.rus.7', 'trial.sent.rus.1437': 'trial.sketch.rus.7', 'trial.sent.rus.1438': 'trial.sketch.rus.12', 'trial.sent.rus.1439': 'trial.sketch.rus.16', 'trial.sent.rus.1440': 'trial.sketch.rus.2', 'trial.sent.rus.1441': 'trial.sketch.rus.17', 'trial.sent.rus.1442': 'trial.sketch.rus.11', 'trial.sent.rus.1443': 'trial.sketch.rus.11', 'trial.sent.rus.1444': 'trial.sketch.rus.10', 'trial.sent.rus.1445': 'trial.sketch.rus.6', 'trial.sent.rus.1446': 'trial.sketch.rus.2', 'trial.sent.rus.1447': 'trial.sketch.rus.12', 'trial.sent.rus.1448': 'trial.sketch.rus.14', 'trial.sent.rus.1449': 'trial.sketch.rus.12', 'trial.sent.rus.1450': 'trial.sketch.rus.17', 'trial.sent.rus.1451': 'trial.sketch.rus.0', 'trial.sent.rus.1452': 'trial.sketch.rus.7', 'trial.sent.rus.1453': 'trial.sketch.rus.14', 'trial.sent.rus.1454': 'trial.sketch.rus.17', 'trial.sent.rus.1455': 'trial.sketch.rus.8', 'trial.sent.rus.1456': 'trial.sketch.rus.12', 'trial.sent.rus.1457': 'trial.sketch.rus.1', 'trial.sent.rus.1458': 'trial.sketch.rus.19', 'trial.sent.rus.1459': 'trial.sketch.rus.16', 'trial.sent.rus.1460': 'trial.sketch.rus.14', 'trial.sent.rus.1461': 'trial.sketch.rus.6', 'trial.sent.rus.1462': 'trial.sketch.rus.14', 'trial.sent.rus.1463': 'trial.sketch.rus.9', 'trial.sent.rus.1464': 'trial.sketch.rus.17', 'trial.sent.rus.1465': 'trial.sketch.rus.11', 'trial.sent.rus.1466': 'trial.sketch.rus.17', 'trial.sent.rus.1467': 'trial.sketch.rus.9', 'trial.sent.rus.1468': 'trial.sketch.rus.5', 'trial.sent.rus.1469': 'trial.sketch.rus.0', 'trial.sent.rus.1470': 'trial.sketch.rus.3', 'trial.sent.rus.1471': 'trial.sketch.rus.3', 'trial.sent.rus.1472': 'trial.sketch.rus.1', 'trial.sent.rus.1473': 'trial.sketch.rus.8', 'trial.sent.rus.1474': 'trial.sketch.rus.5', 'trial.sent.rus.1475': 'trial.sketch.rus.9', 'trial.sent.rus.1476': 'trial.sketch.rus.1', 'trial.sent.rus.1477': 'trial.sketch.rus.3', 'trial.sent.rus.1478': 'trial.sketch.rus.8', 'trial.sent.rus.1479': 'trial.sketch.rus.2', 'trial.sent.rus.1480': 'trial.sketch.rus.18', 'trial.sent.rus.1481': 'trial.sketch.rus.4', 'trial.sent.rus.1482': 'trial.sketch.rus.18', 'trial.sent.rus.1483': 'trial.sketch.rus.1', 'trial.sent.rus.1484': 'trial.sketch.rus.11', 'trial.sent.rus.1485': 'trial.sketch.rus.1', 'trial.sent.rus.1486': 'trial.sketch.rus.8', 'trial.sent.rus.1487': 'trial.sketch.rus.8', 'trial.sent.rus.1488': 'trial.sketch.rus.16', 'trial.sent.rus.1489': 'trial.sketch.rus.9', 'trial.sent.rus.1490': 'trial.sketch.rus.10', 'trial.sent.rus.1491': 'trial.sketch.rus.10', 'trial.sent.rus.1492': 'trial.sketch.rus.13', 'trial.sent.rus.1493': 'trial.sketch.rus.9', 'trial.sent.rus.1494': 'trial.sketch.rus.0', 'trial.sent.rus.1495': 'trial.sketch.rus.4', 'trial.sent.rus.1496': 'trial.sketch.rus.4', 'trial.sent.rus.1497': 'trial.sketch.rus.16', 'trial.sent.rus.1498': 'trial.sketch.rus.19', 'trial.sent.rus.1499': 'trial.sketch.rus.5', 'trial.sent.rus.1500': 'trial.sketch.rus.4', 'trial.sent.rus.1501': 'trial.sketch.rus.4', 'trial.sent.rus.1502': 'trial.sketch.rus.18', 'trial.sent.rus.1503': 'trial.sketch.rus.17', 'trial.sent.rus.1504': 'trial.sketch.rus.16', 'trial.sent.rus.1505': 'trial.sketch.rus.5', 'trial.sent.rus.1506': 'trial.sketch.rus.6', 'trial.sent.rus.1507': 'trial.sketch.rus.17', 'trial.sent.rus.1508': 'trial.sketch.rus.1', 'trial.sent.rus.1509': 'trial.sketch.rus.7', 'trial.sent.rus.1510': 'trial.sketch.rus.14', 'trial.sent.rus.1511': 'trial.sketch.rus.19', 'trial.sent.rus.1512': 'trial.sketch.rus.17', 'trial.sent.rus.1513': 'trial.sketch.rus.16', 'trial.sent.rus.1514': 'trial.sketch.rus.17', 'trial.sent.rus.1515': 'trial.sketch.rus.18', 'trial.sent.rus.1516': 'trial.sketch.rus.4', 'trial.sent.rus.1517': 'trial.sketch.rus.15', 'trial.sent.rus.1518': 'trial.sketch.rus.9', 'trial.sent.rus.1519': 'trial.sketch.rus.11', 'trial.sent.rus.1520': 'trial.sketch.rus.1', 'trial.sent.rus.1521': 'trial.sketch.rus.17', 'trial.sent.rus.1522': 'trial.sketch.rus.0', 'trial.sent.rus.1523': 'trial.sketch.rus.7', 'trial.sent.rus.1524': 'trial.sketch.rus.18', 'trial.sent.rus.1525': 'trial.sketch.rus.7', 'trial.sent.rus.1526': 'trial.sketch.rus.6', 'trial.sent.rus.1527': 'trial.sketch.rus.15', 'trial.sent.rus.1528': 'trial.sketch.rus.0', 'trial.sent.rus.1529': 'trial.sketch.rus.17', 'trial.sent.rus.1530': 'trial.sketch.rus.10', 'trial.sent.rus.1531': 'trial.sketch.rus.1', 'trial.sent.rus.1532': 'trial.sketch.rus.10', 'trial.sent.rus.1533': 'trial.sketch.rus.11', 'trial.sent.rus.1534': 'trial.sketch.rus.14', 'trial.sent.rus.1535': 'trial.sketch.rus.11', 'trial.sent.rus.1536': 'trial.sketch.rus.9', 'trial.sent.rus.1537': 'trial.sketch.rus.3', 'trial.sent.rus.1538': 'trial.sketch.rus.18', 'trial.sent.rus.1539': 'trial.sketch.rus.17', 'trial.sent.rus.1540': 'trial.sketch.rus.15', 'trial.sent.rus.1541': 'trial.sketch.rus.18', 'trial.sent.rus.1542': 'trial.sketch.rus.15', 'trial.sent.rus.1543': 'trial.sketch.rus.1', 'trial.sent.rus.1544': 'trial.sketch.rus.4', 'trial.sent.rus.1545': 'trial.sketch.rus.16', 'trial.sent.rus.1546': 'trial.sketch.rus.14', 'trial.sent.rus.1547': 'trial.sketch.rus.10', 'trial.sent.rus.1548': 'trial.sketch.rus.0', 'trial.sent.rus.1549': 'trial.sketch.rus.8', 'trial.sent.rus.1550': 'trial.sketch.rus.18', 'trial.sent.rus.1551': 'trial.sketch.rus.4', 'trial.sent.rus.1552': 'trial.sketch.rus.4', 'trial.sent.rus.1553': 'trial.sketch.rus.2', 'trial.sent.rus.1554': 'trial.sketch.rus.8', 'trial.sent.rus.1555': 'trial.sketch.rus.19', 'trial.sent.rus.1556': 'trial.sketch.rus.4', 'trial.sent.rus.1557': 'trial.sketch.rus.11', 'trial.sent.rus.1558': 'trial.sketch.rus.12', 'trial.sent.rus.1559': 'trial.sketch.rus.0', 'trial.sent.rus.1560': 'trial.sketch.rus.3', 'trial.sent.rus.1561': 'trial.sketch.rus.14', 'trial.sent.rus.1562': 'trial.sketch.rus.19', 'trial.sent.rus.1563': 'trial.sketch.rus.15', 'trial.sent.rus.1564': 'trial.sketch.rus.9', 'trial.sent.rus.1565': 'trial.sketch.rus.10', 'trial.sent.rus.1566': 'trial.sketch.rus.17', 'trial.sent.rus.1567': 'trial.sketch.rus.11', 'trial.sent.rus.1568': 'trial.sketch.rus.2', 'trial.sent.rus.1569': 'trial.sketch.rus.19', 'trial.sent.rus.1570': 'trial.sketch.rus.14', 'trial.sent.rus.1571': 'trial.sketch.rus.6', 'trial.sent.rus.1572': 'trial.sketch.rus.9', 'trial.sent.rus.1573': 'trial.sketch.rus.13', 'trial.sent.rus.1574': 'trial.sketch.rus.7', 'trial.sent.rus.1575': 'trial.sketch.rus.14', 'trial.sent.rus.1576': 'trial.sketch.rus.1', 'trial.sent.rus.1577': 'trial.sketch.rus.9', 'trial.sent.rus.1578': 'trial.sketch.rus.2', 'trial.sent.rus.1579': 'trial.sketch.rus.18', 'trial.sent.rus.1580': 'trial.sketch.rus.13', 'trial.sent.rus.1581': 'trial.sketch.rus.19', 'trial.sent.rus.1582': 'trial.sketch.rus.4', 'trial.sent.rus.1583': 'trial.sketch.rus.19', 'trial.sent.rus.1584': 'trial.sketch.rus.1', 'trial.sent.rus.1585': 'trial.sketch.rus.9', 'trial.sent.rus.1586': 'trial.sketch.rus.10', 'trial.sent.rus.1587': 'trial.sketch.rus.10', 'trial.sent.rus.1588': 'trial.sketch.rus.7', 'trial.sent.rus.1589': 'trial.sketch.rus.13', 'trial.sent.rus.1590': 'trial.sketch.rus.5', 'trial.sent.rus.1591': 'trial.sketch.rus.12', 'trial.sent.rus.1592': 'trial.sketch.rus.13', 'trial.sent.rus.1593': 'trial.sketch.rus.16', 'trial.sent.rus.1594': 'trial.sketch.rus.5', 'trial.sent.rus.1595': 'trial.sketch.rus.7', 'trial.sent.rus.1596': 'trial.sketch.rus.19', 'trial.sent.rus.1597': 'trial.sketch.rus.12', 'trial.sent.rus.1598': 'trial.sketch.rus.6', 'trial.sent.rus.1599': 'trial.sketch.rus.4', 'trial.sent.rus.1600': 'trial.sketch.rus.12', 'trial.sent.rus.1601': 'trial.sketch.rus.13', 'trial.sent.rus.1602': 'trial.sketch.rus.1', 'trial.sent.rus.1603': 'trial.sketch.rus.13', 'trial.sent.rus.1604': 'trial.sketch.rus.16', 'trial.sent.rus.1605': 'trial.sketch.rus.2', 'trial.sent.rus.1606': 'trial.sketch.rus.15', 'trial.sent.rus.1607': 'trial.sketch.rus.5', 'trial.sent.rus.1608': 'trial.sketch.rus.19', 'trial.sent.rus.1609': 'trial.sketch.rus.5', 'trial.sent.rus.1610': 'trial.sketch.rus.11', 'trial.sent.rus.1611': 'trial.sketch.rus.16', 'trial.sent.rus.1612': 'trial.sketch.rus.7', 'trial.sent.rus.1613': 'trial.sketch.rus.2', 'trial.sent.rus.1614': 'trial.sketch.rus.8', 'trial.sent.rus.1615': 'trial.sketch.rus.19', 'trial.sent.rus.1616': 'trial.sketch.rus.8', 'trial.sent.rus.1617': 'trial.sketch.rus.19', 'trial.sent.rus.1618': 'trial.sketch.rus.15', 'trial.sent.rus.1619': 'trial.sketch.rus.2', 'trial.sent.rus.1620': 'trial.sketch.rus.5', 'trial.sent.rus.1621': 'trial.sketch.rus.13', 'trial.sent.rus.1622': 'trial.sketch.rus.6', 'trial.sent.rus.1623': 'trial.sketch.rus.10', 'trial.sent.rus.1624': 'trial.sketch.rus.9', 'trial.sent.rus.1625': 'trial.sketch.rus.19', 'trial.sent.rus.1626': 'trial.sketch.rus.6', 'trial.sent.rus.1627': 'trial.sketch.rus.9', 'trial.sent.rus.1628': 'trial.sketch.rus.8', 'trial.sent.rus.1629': 'trial.sketch.rus.18', 'trial.sent.rus.1630': 'trial.sketch.rus.16', 'trial.sent.rus.1631': 'trial.sketch.rus.8', 'trial.sent.rus.1632': 'trial.sketch.rus.11', 'trial.sent.rus.1633': 'trial.sketch.rus.12', 'trial.sent.rus.1634': 'trial.sketch.rus.15', 'trial.sent.rus.1635': 'trial.sketch.rus.11', 'trial.sent.rus.1636': 'trial.sketch.rus.1', 'trial.sent.rus.1637': 'trial.sketch.rus.0', 'trial.sent.rus.1638': 'trial.sketch.rus.8', 'trial.sent.rus.1639': 'trial.sketch.rus.5', 'trial.sent.rus.1640': 'trial.sketch.rus.18', 'trial.sent.rus.1641': 'trial.sketch.rus.6', 'trial.sent.rus.1642': 'trial.sketch.rus.1', 'trial.sent.rus.1643': 'trial.sketch.rus.16', 'trial.sent.rus.1644': 'trial.sketch.rus.1', 'trial.sent.rus.1645': 'trial.sketch.rus.7', 'trial.sent.rus.1646': 'trial.sketch.rus.8', 'trial.sent.rus.1647': 'trial.sketch.rus.6', 'trial.sent.rus.1648': 'trial.sketch.rus.9', 'trial.sent.rus.1649': 'trial.sketch.rus.11', 'trial.sent.rus.1650': 'trial.sketch.rus.17', 'trial.sent.rus.1651': 'trial.sketch.rus.5', 'trial.sent.rus.1652': 'trial.sketch.rus.17', 'trial.sent.rus.1653': 'trial.sketch.rus.9', 'trial.sent.rus.1654': 'trial.sketch.rus.6', 'trial.sent.rus.1655': 'trial.sketch.rus.9', 'trial.sent.rus.1656': 'trial.sketch.rus.14', 'trial.sent.rus.1657': 'trial.sketch.rus.14', 'trial.sent.rus.1658': 'trial.sketch.rus.3', 'trial.sent.rus.1659': 'trial.sketch.rus.9', 'trial.sent.rus.1660': 'trial.sketch.rus.0', 'trial.sent.rus.1661': 'trial.sketch.rus.14', 'trial.sent.rus.1662': 'trial.sketch.rus.11', 'trial.sent.rus.1663': 'trial.sketch.rus.14', 'trial.sent.rus.1664': 'trial.sketch.rus.5', 'trial.sent.rus.1665': 'trial.sketch.rus.3', 'trial.sent.rus.1666': 'trial.sketch.rus.2', 'trial.sent.rus.1667': 'trial.sketch.rus.19', 'trial.sent.rus.1668': 'trial.sketch.rus.3', 'trial.sent.rus.1669': 'trial.sketch.rus.8', 'trial.sent.rus.1670': 'trial.sketch.rus.6', 'trial.sent.rus.1671': 'trial.sketch.rus.17', 'trial.sent.rus.1672': 'trial.sketch.rus.10', 'trial.sent.rus.1673': 'trial.sketch.rus.13', 'trial.sent.rus.1674': 'trial.sketch.rus.1', 'trial.sent.rus.1675': 'trial.sketch.rus.17', 'trial.sent.rus.1676': 'trial.sketch.rus.5', 'trial.sent.rus.1677': 'trial.sketch.rus.11', 'trial.sent.rus.1678': 'trial.sketch.rus.10', 'trial.sent.rus.1679': 'trial.sketch.rus.15', 'trial.sent.rus.1680': 'trial.sketch.rus.2', 'trial.sent.rus.1681': 'trial.sketch.rus.19', 'trial.sent.rus.1682': 'trial.sketch.rus.4', 'trial.sent.rus.1683': 'trial.sketch.rus.13', 'trial.sent.rus.1684': 'trial.sketch.rus.15', 'trial.sent.rus.1685': 'trial.sketch.rus.12', 'trial.sent.rus.1686': 'trial.sketch.rus.9', 'trial.sent.rus.1687': 'trial.sketch.rus.5', 'trial.sent.rus.1688': 'trial.sketch.rus.1', 'trial.sent.rus.1689': 'trial.sketch.rus.8', 'trial.sent.rus.1690': 'trial.sketch.rus.16', 'trial.sent.rus.1691': 'trial.sketch.rus.1', 'trial.sent.rus.1692': 'trial.sketch.rus.7', 'trial.sent.rus.1693': 'trial.sketch.rus.1', 'trial.sent.rus.1694': 'trial.sketch.rus.7', 'trial.sent.rus.1695': 'trial.sketch.rus.12', 'trial.sent.rus.1696': 'trial.sketch.rus.18', 'trial.sent.rus.1697': 'trial.sketch.rus.15', 'trial.sent.rus.1698': 'trial.sketch.rus.3', 'trial.sent.rus.1699': 'trial.sketch.rus.7', 'trial.sent.rus.1700': 'trial.sketch.rus.6', 'trial.sent.rus.1701': 'trial.sketch.rus.15', 'trial.sent.rus.1702': 'trial.sketch.rus.9', 'trial.sent.rus.1703': 'trial.sketch.rus.15', 'trial.sent.rus.1704': 'trial.sketch.rus.9', 'trial.sent.rus.1705': 'trial.sketch.rus.7', 'trial.sent.rus.1706': 'trial.sketch.rus.17', 'trial.sent.rus.1707': 'trial.sketch.rus.19', 'trial.sent.rus.1708': 'trial.sketch.rus.4', 'trial.sent.rus.1709': 'trial.sketch.rus.1', 'trial.sent.rus.1710': 'trial.sketch.rus.5', 'trial.sent.rus.1711': 'trial.sketch.rus.11', 'trial.sent.rus.1712': 'trial.sketch.rus.9', 'trial.sent.rus.1713': 'trial.sketch.rus.17', 'trial.sent.rus.1714': 'trial.sketch.rus.10', 'trial.sent.rus.1715': 'trial.sketch.rus.6', 'trial.sent.rus.1716': 'trial.sketch.rus.17', 'trial.sent.rus.1717': 'trial.sketch.rus.13', 'trial.sent.rus.1718': 'trial.sketch.rus.6', 'trial.sent.rus.1719': 'trial.sketch.rus.2', 'trial.sent.rus.1720': 'trial.sketch.rus.10', 'trial.sent.rus.1721': 'trial.sketch.rus.7', 'trial.sent.rus.1722': 'trial.sketch.rus.17', 'trial.sent.rus.1723': 'trial.sketch.rus.19', 'trial.sent.rus.1724': 'trial.sketch.rus.6', 'trial.sent.rus.1725': 'trial.sketch.rus.5', 'trial.sent.rus.1726': 'trial.sketch.rus.18', 'trial.sent.rus.1727': 'trial.sketch.rus.4', 'trial.sent.rus.1728': 'trial.sketch.rus.18', 'trial.sent.rus.1729': 'trial.sketch.rus.11', 'trial.sent.rus.1730': 'trial.sketch.rus.19', 'trial.sent.rus.1731': 'trial.sketch.rus.12', 'trial.sent.rus.1732': 'trial.sketch.rus.10', 'trial.sent.rus.1733': 'trial.sketch.rus.14', 'trial.sent.rus.1734': 'trial.sketch.rus.9', 'trial.sent.rus.1735': 'trial.sketch.rus.13', 'trial.sent.rus.1736': 'trial.sketch.rus.6', 'trial.sent.rus.1737': 'trial.sketch.rus.12', 'trial.sent.rus.1738': 'trial.sketch.rus.11', 'trial.sent.rus.1739': 'trial.sketch.rus.13', 'trial.sent.rus.1740': 'trial.sketch.rus.0', 'trial.sent.rus.1741': 'trial.sketch.rus.4', 'trial.sent.rus.1742': 'trial.sketch.rus.15', 'trial.sent.rus.1743': 'trial.sketch.rus.10', 'trial.sent.rus.1744': 'trial.sketch.rus.14', 'trial.sent.rus.1745': 'trial.sketch.rus.4', 'trial.sent.rus.1746': 'trial.sketch.rus.4', 'trial.sent.rus.1747': 'trial.sketch.rus.19', 'trial.sent.rus.1748': 'trial.sketch.rus.14', 'trial.sent.rus.1749': 'trial.sketch.rus.8', 'trial.sent.rus.1750': 'trial.sketch.rus.6', 'trial.sent.rus.1751': 'trial.sketch.rus.16', 'trial.sent.rus.1752': 'trial.sketch.rus.18', 'trial.sent.rus.1753': 'trial.sketch.rus.16', 'trial.sent.rus.1754': 'trial.sketch.rus.7', 'trial.sent.rus.1755': 'trial.sketch.rus.4', 'trial.sent.rus.1756': 'trial.sketch.rus.10', 'trial.sent.rus.1757': 'trial.sketch.rus.7', 'trial.sent.rus.1758': 'trial.sketch.rus.16', 'trial.sent.rus.1759': 'trial.sketch.rus.18', 'trial.sent.rus.1760': 'trial.sketch.rus.8', 'trial.sent.rus.1761': 'trial.sketch.rus.3', 'trial.sent.rus.1762': 'trial.sketch.rus.10', 'trial.sent.rus.1763': 'trial.sketch.rus.0', 'trial.sent.rus.1764': 'trial.sketch.rus.16', 'trial.sent.rus.1765': 'trial.sketch.rus.17', 'trial.sent.rus.1766': 'trial.sketch.rus.0', 'trial.sent.rus.1767': 'trial.sketch.rus.12', 'trial.sent.rus.1768': 'trial.sketch.rus.15', 'trial.sent.rus.1769': 'trial.sketch.rus.1', 'trial.sent.rus.1770': 'trial.sketch.rus.19', 'trial.sent.rus.1771': 'trial.sketch.rus.3', 'trial.sent.rus.1772': 'trial.sketch.rus.14', 'trial.sent.rus.1773': 'trial.sketch.rus.10', 'trial.sent.rus.1774': 'trial.sketch.rus.17', 'trial.sent.rus.1775': 'trial.sketch.rus.16', 'trial.sent.rus.1776': 'trial.sketch.rus.3', 'trial.sent.rus.1777': 'trial.sketch.rus.4', 'trial.sent.rus.1778': 'trial.sketch.rus.18', 'trial.sent.rus.1779': 'trial.sketch.rus.11', 'trial.sent.rus.1780': 'trial.sketch.rus.11', 'trial.sent.rus.1781': 'trial.sketch.rus.10', 'trial.sent.rus.1782': 'trial.sketch.rus.9', 'trial.sent.rus.1783': 'trial.sketch.rus.10', 'trial.sent.rus.1784': 'trial.sketch.rus.5', 'trial.sent.rus.1785': 'trial.sketch.rus.9', 'trial.sent.rus.1786': 'trial.sketch.rus.8', 'trial.sent.rus.1787': 'trial.sketch.rus.17', 'trial.sent.rus.1788': 'trial.sketch.rus.15', 'trial.sent.rus.1789': 'trial.sketch.rus.3', 'trial.sent.rus.1790': 'trial.sketch.rus.7', 'trial.sent.rus.1791': 'trial.sketch.rus.0', 'trial.sent.rus.1792': 'trial.sketch.rus.15', 'trial.sent.rus.1793': 'trial.sketch.rus.1', 'trial.sent.rus.1794': 'trial.sketch.rus.18', 'trial.sent.rus.1795': 'trial.sketch.rus.2', 'trial.sent.rus.1796': 'trial.sketch.rus.2', 'trial.sent.rus.1797': 'trial.sketch.rus.6', 'trial.sent.rus.1798': 'trial.sketch.rus.17', 'trial.sent.rus.1799': 'trial.sketch.rus.14', 'trial.sent.rus.1800': 'trial.sketch.rus.0', 'trial.sent.rus.1801': 'trial.sketch.rus.13', 'trial.sent.rus.1802': 'trial.sketch.rus.1', 'trial.sent.rus.1803': 'trial.sketch.rus.7', 'trial.sent.rus.1804': 'trial.sketch.rus.13', 'trial.sent.rus.1805': 'trial.sketch.rus.8', 'trial.sent.rus.1806': 'trial.sketch.rus.1', 'trial.sent.rus.1807': 'trial.sketch.rus.17', 'trial.sent.rus.1808': 'trial.sketch.rus.15', 'trial.sent.rus.1809': 'trial.sketch.rus.13', 'trial.sent.rus.1810': 'trial.sketch.rus.11', 'trial.sent.rus.1811': 'trial.sketch.rus.16', 'trial.sent.rus.1812': 'trial.sketch.rus.15', 'trial.sent.rus.1813': 'trial.sketch.rus.12', 'trial.sent.rus.1814': 'trial.sketch.rus.0', 'trial.sent.rus.1815': 'trial.sketch.rus.10', 'trial.sent.rus.1816': 'trial.sketch.rus.3', 'trial.sent.rus.1817': 'trial.sketch.rus.14', 'trial.sent.rus.1818': 'trial.sketch.rus.13', 'trial.sent.rus.1819': 'trial.sketch.rus.2', 'trial.sent.rus.1820': 'trial.sketch.rus.17', 'trial.sent.rus.1821': 'trial.sketch.rus.19', 'trial.sent.rus.1822': 'trial.sketch.rus.8', 'trial.sent.rus.1823': 'trial.sketch.rus.14', 'trial.sent.rus.1824': 'trial.sketch.rus.16', 'trial.sent.rus.1825': 'trial.sketch.rus.18', 'trial.sent.rus.1826': 'trial.sketch.rus.4', 'trial.sent.rus.1827': 'trial.sketch.rus.0', 'trial.sent.rus.1828': 'trial.sketch.rus.6', 'trial.sent.rus.1829': 'trial.sketch.rus.2', 'trial.sent.rus.1830': 'trial.sketch.rus.0', 'trial.sent.rus.1831': 'trial.sketch.rus.1', 'trial.sent.rus.1832': 'trial.sketch.rus.16', 'trial.sent.rus.1833': 'trial.sketch.rus.19', 'trial.sent.rus.1834': 'trial.sketch.rus.19', 'trial.sent.rus.1835': 'trial.sketch.rus.9', 'trial.sent.rus.1836': 'trial.sketch.rus.7', 'trial.sent.rus.1837': 'trial.sketch.rus.6', 'trial.sent.rus.1838': 'trial.sketch.rus.11', 'trial.sent.rus.1839': 'trial.sketch.rus.15', 'trial.sent.rus.1840': 'trial.sketch.rus.12', 'trial.sent.rus.1841': 'trial.sketch.rus.13', 'trial.sent.rus.1842': 'trial.sketch.rus.19', 'trial.sent.rus.1843': 'trial.sketch.rus.17', 'trial.sent.rus.1844': 'trial.sketch.rus.1', 'trial.sent.rus.1845': 'trial.sketch.rus.14', 'trial.sent.rus.1846': 'trial.sketch.rus.12', 'trial.sent.rus.1847': 'trial.sketch.rus.0', 'trial.sent.rus.1848': 'trial.sketch.rus.0', 'trial.sent.rus.1849': 'trial.sketch.rus.17', 'trial.sent.rus.1850': 'trial.sketch.rus.2', 'trial.sent.rus.1851': 'trial.sketch.rus.15', 'trial.sent.rus.1852': 'trial.sketch.rus.4', 'trial.sent.rus.1853': 'trial.sketch.rus.9', 'trial.sent.rus.1854': 'trial.sketch.rus.17', 'trial.sent.rus.1855': 'trial.sketch.rus.9', 'trial.sent.rus.1856': 'trial.sketch.rus.0', 'trial.sent.rus.1857': 'trial.sketch.rus.11', 'trial.sent.rus.1858': 'trial.sketch.rus.6', 'trial.sent.rus.1859': 'trial.sketch.rus.5', 'trial.sent.rus.1860': 'trial.sketch.rus.2', 'trial.sent.rus.1861': 'trial.sketch.rus.4', 'trial.sent.rus.1862': 'trial.sketch.rus.19', 'trial.sent.rus.1863': 'trial.sketch.rus.8', 'trial.sent.rus.1864': 'trial.sketch.rus.7', 'trial.sent.rus.1865': 'trial.sketch.rus.16', 'trial.sent.rus.1866': 'trial.sketch.rus.9', 'trial.sent.rus.1867': 'trial.sketch.rus.10', 'trial.sent.rus.1868': 'trial.sketch.rus.12', 'trial.sent.rus.1869': 'trial.sketch.rus.11', 'trial.sent.rus.1870': 'trial.sketch.rus.4', 'trial.sent.rus.1871': 'trial.sketch.rus.10', 'trial.sent.rus.1872': 'trial.sketch.rus.2', 'trial.sent.rus.1873': 'trial.sketch.rus.5', 'trial.sent.rus.1874': 'trial.sketch.rus.1', 'trial.sent.rus.1875': 'trial.sketch.rus.7', 'trial.sent.rus.1876': 'trial.sketch.rus.2', 'trial.sent.rus.1877': 'trial.sketch.rus.12', 'trial.sent.rus.1878': 'trial.sketch.rus.10', 'trial.sent.rus.1879': 'trial.sketch.rus.8', 'trial.sent.rus.1880': 'trial.sketch.rus.11', 'trial.sent.rus.1881': 'trial.sketch.rus.16', 'trial.sent.rus.1882': 'trial.sketch.rus.5', 'trial.sent.rus.1883': 'trial.sketch.rus.2', 'trial.sent.rus.1884': 'trial.sketch.rus.9', 'trial.sent.rus.1885': 'trial.sketch.rus.18', 'trial.sent.rus.1886': 'trial.sketch.rus.4', 'trial.sent.rus.1887': 'trial.sketch.rus.9', 'trial.sent.rus.1888': 'trial.sketch.rus.12', 'trial.sent.rus.1889': 'trial.sketch.rus.7', 'trial.sent.rus.1890': 'trial.sketch.rus.6', 'trial.sent.rus.1891': 'trial.sketch.rus.19', 'trial.sent.rus.1892': 'trial.sketch.rus.1', 'trial.sent.rus.1893': 'trial.sketch.rus.11', 'trial.sent.rus.1894': 'trial.sketch.rus.0', 'trial.sent.rus.1895': 'trial.sketch.rus.4', 'trial.sent.rus.1896': 'trial.sketch.rus.18', 'trial.sent.rus.1897': 'trial.sketch.rus.10', 'trial.sent.rus.1898': 'trial.sketch.rus.18', 'trial.sent.rus.1899': 'trial.sketch.rus.2', 'trial.sent.rus.1900': 'trial.sketch.rus.9', 'trial.sent.rus.1901': 'trial.sketch.rus.3', 'trial.sent.rus.1902': 'trial.sketch.rus.12', 'trial.sent.rus.1903': 'trial.sketch.rus.0', 'trial.sent.rus.1904': 'trial.sketch.rus.4', 'trial.sent.rus.1905': 'trial.sketch.rus.19', 'trial.sent.rus.1906': 'trial.sketch.rus.11', 'trial.sent.rus.1907': 'trial.sketch.rus.3', 'trial.sent.rus.1908': 'trial.sketch.rus.13', 'trial.sent.rus.1909': 'trial.sketch.rus.10', 'trial.sent.rus.1910': 'trial.sketch.rus.18', 'trial.sent.rus.1911': 'trial.sketch.rus.19', 'trial.sent.rus.1912': 'trial.sketch.rus.2', 'trial.sent.rus.1913': 'trial.sketch.rus.15', 'trial.sent.rus.1914': 'trial.sketch.rus.6', 'trial.sent.rus.1915': 'trial.sketch.rus.14', 'trial.sent.rus.1916': 'trial.sketch.rus.0', 'trial.sent.rus.1917': 'trial.sketch.rus.19', 'trial.sent.rus.1918': 'trial.sketch.rus.13', 'trial.sent.rus.1919': 'trial.sketch.rus.10', 'trial.sent.rus.1920': 'trial.sketch.rus.5', 'trial.sent.rus.1921': 'trial.sketch.rus.17', 'trial.sent.rus.1922': 'trial.sketch.rus.14', 'trial.sent.rus.1923': 'trial.sketch.rus.12', 'trial.sent.rus.1924': 'trial.sketch.rus.5', 'trial.sent.rus.1925': 'trial.sketch.rus.18', 'trial.sent.rus.1926': 'trial.sketch.rus.14', 'trial.sent.rus.1927': 'trial.sketch.rus.11', 'trial.sent.rus.1928': 'trial.sketch.rus.17', 'trial.sent.rus.1929': 'trial.sketch.rus.1', 'trial.sent.rus.1930': 'trial.sketch.rus.1', 'trial.sent.rus.1931': 'trial.sketch.rus.13', 'trial.sent.rus.1932': 'trial.sketch.rus.3', 'trial.sent.rus.1933': 'trial.sketch.rus.0', 'trial.sent.rus.1934': 'trial.sketch.rus.13', 'trial.sent.rus.1935': 'trial.sketch.rus.5', 'trial.sent.rus.1936': 'trial.sketch.rus.4', 'trial.sent.rus.1937': 'trial.sketch.rus.17', 'trial.sent.rus.1938': 'trial.sketch.rus.10', 'trial.sent.rus.1939': 'trial.sketch.rus.14', 'trial.sent.rus.1940': 'trial.sketch.rus.2', 'trial.sent.rus.1941': 'trial.sketch.rus.18', 'trial.sent.rus.1942': 'trial.sketch.rus.19', 'trial.sent.rus.1943': 'trial.sketch.rus.14', 'trial.sent.rus.1944': 'trial.sketch.rus.17', 'trial.sent.rus.1945': 'trial.sketch.rus.18', 'trial.sent.rus.1946': 'trial.sketch.rus.6', 'trial.sent.rus.1947': 'trial.sketch.rus.8', 'trial.sent.rus.1948': 'trial.sketch.rus.8', 'trial.sent.rus.1949': 'trial.sketch.rus.17', 'trial.sent.rus.1950': 'trial.sketch.rus.18', 'trial.sent.rus.1951': 'trial.sketch.rus.17', 'trial.sent.rus.1952': 'trial.sketch.rus.4', 'trial.sent.rus.1953': 'trial.sketch.rus.2', 'trial.sent.rus.1954': 'trial.sketch.rus.19', 'trial.sent.rus.1955': 'trial.sketch.rus.12', 'trial.sent.rus.1956': 'trial.sketch.rus.1', 'trial.sent.rus.1957': 'trial.sketch.rus.19', 'trial.sent.rus.1958': 'trial.sketch.rus.16', 'trial.sent.rus.1959': 'trial.sketch.rus.1', 'trial.sent.rus.1960': 'trial.sketch.rus.16', 'trial.sent.rus.1961': 'trial.sketch.rus.16', 'trial.sent.rus.1962': 'trial.sketch.rus.19', 'trial.sent.rus.1963': 'trial.sketch.rus.13', 'trial.sent.rus.1964': 'trial.sketch.rus.1', 'trial.sent.rus.1965': 'trial.sketch.rus.7', 'trial.sent.rus.1966': 'trial.sketch.rus.1', 'trial.sent.rus.1967': 'trial.sketch.rus.2', 'trial.sent.rus.1968': 'trial.sketch.rus.10', 'trial.sent.rus.1969': 'trial.sketch.rus.3', 'trial.sent.rus.1970': 'trial.sketch.rus.11', 'trial.sent.rus.1971': 'trial.sketch.rus.18', 'trial.sent.rus.1972': 'trial.sketch.rus.10', 'trial.sent.rus.1973': 'trial.sketch.rus.13', 'trial.sent.rus.1974': 'trial.sketch.rus.7', 'trial.sent.rus.1975': 'trial.sketch.rus.18', 'trial.sent.rus.1976': 'trial.sketch.rus.16', 'trial.sent.rus.1977': 'trial.sketch.rus.5', 'trial.sent.rus.1978': 'trial.sketch.rus.15', 'trial.sent.rus.1979': 'trial.sketch.rus.12', 'trial.sent.rus.1980': 'trial.sketch.rus.4', 'trial.sent.rus.1981': 'trial.sketch.rus.1', 'trial.sent.rus.1982': 'trial.sketch.rus.3', 'trial.sent.rus.1983': 'trial.sketch.rus.11', 'trial.sent.rus.1984': 'trial.sketch.rus.2', 'trial.sent.rus.1985': 'trial.sketch.rus.18', 'trial.sent.rus.1986': 'trial.sketch.rus.12', 'trial.sent.rus.1987': 'trial.sketch.rus.0', 'trial.sent.rus.1988': 'trial.sketch.rus.7', 'trial.sent.rus.1989': 'trial.sketch.rus.8', 'trial.sent.rus.1990': 'trial.sketch.rus.6', 'trial.sent.rus.1991': 'trial.sketch.rus.2', 'trial.sent.rus.1992': 'trial.sketch.rus.18', 'trial.sent.rus.1993': 'trial.sketch.rus.13', 'trial.sent.rus.1994': 'trial.sketch.rus.12', 'trial.sent.rus.1995': 'trial.sketch.rus.7', 'trial.sent.rus.1996': 'trial.sketch.rus.0', 'trial.sent.rus.1997': 'trial.sketch.rus.14', 'trial.sent.rus.1998': 'trial.sketch.rus.10', 'trial.sent.rus.1999': 'trial.sketch.rus.8'}\n"
          ],
          "name": "stdout"
        }
      ]
    },
    {
      "cell_type": "markdown",
      "metadata": {
        "id": "hI0gKoMTAWSv"
      },
      "source": [
        "## Implication of the algorithm\r\n",
        "\r\n",
        "*Algorithm details:* The algoritm relies on count of sketch words ocurrences in MLM predictions for masked  versions of the original sentence. "
      ]
    },
    {
      "cell_type": "markdown",
      "metadata": {
        "id": "fphNbTIOA6Dh"
      },
      "source": [
        "### Sentence parsing and choosing candidates to be masked\r\n",
        "\r\n",
        "In this part we parse the sentence, find the predicate in it, and then mask only direct dependencies avoiding punctuation [PUNCT], adpositions [ADP], coordinating conjunctions [CCONJ], and particles [PART]. In the previous trials, we tried masking all words in the predicate's subtree but it does not bring much success. Please pay attention that sometimes the parser makes wrong predictions and cycles may appear in the final graph."
      ]
    },
    {
      "cell_type": "code",
      "metadata": {
        "id": "HaOTvZry5m1D"
      },
      "source": [
        "def parse_to_graph(dependency: str) -> DependencyGraph:\r\n",
        "  lines = dependency.split('\\n')\r\n",
        "  lines = [line.replace('\\troot\\t', '\\tROOT\\t') for line in lines if not line.startswith('#') and line]\r\n",
        "  return DependencyGraph(tree_str='\\n'.join(lines))"
      ],
      "execution_count": null,
      "outputs": []
    },
    {
      "cell_type": "code",
      "metadata": {
        "id": "PAd4oQqn5myQ"
      },
      "source": [
        "def find_candidates_to_mask(predicate, context):\r\n",
        "  '''\r\n",
        "  Returns list of words in the context to be masked for a given predicate.\r\n",
        "  '''\r\n",
        "  list_of_ctags_to_skip = ['PUNCT', 'ADP', 'CCONJ', 'PART']\r\n",
        "  conllu = pipeline.process(context)\r\n",
        "  try:\r\n",
        "    graph = parse_to_graph(conllu)\r\n",
        "  except:\r\n",
        "    return []\r\n",
        "  children_list = []\r\n",
        "  candidate_list = []\r\n",
        "\r\n",
        "  for i, node in graph.nodes.items():             # goes though all nodes in the graph\r\n",
        "    if node['word'] == predicate:\r\n",
        "      for dep_type, ids in node['deps'].items():  # goes though all types of dependencies for one node\r\n",
        "        children_list.extend(ids)\r\n",
        "      \r\n",
        "  error_counter = 0    # helps to avoid cycles\r\n",
        "  while children_list:\r\n",
        "    error_counter += 1\r\n",
        "    for i, node in graph.nodes.items(): \r\n",
        "      if node['address'] in children_list:        # node['address'] - current node\r\n",
        "        children_list.remove(node['address'])\r\n",
        "        if not (node['ctag'] in list_of_ctags_to_skip): # node['ctag'] - dependency type\r\n",
        "          candidate_list.append(node['word'])\r\n",
        "        for dep_type, ids in node['deps'].items():\r\n",
        "          children_list.extend(ids)\r\n",
        "    if error_counter > len(context.split()):      # in case there are cycles in the graph, we mask all words in the context\r\n",
        "      return []\r\n",
        "  return candidate_list"
      ],
      "execution_count": null,
      "outputs": []
    },
    {
      "cell_type": "code",
      "metadata": {
        "id": "4rP47GLb5mur"
      },
      "source": [
        "def get_masked_sentences_for_words(token_to_skip, probe_text):\r\n",
        "    '''\r\n",
        "    Returns sentence with masked candidates in the right format for Bert.\r\n",
        "    In case there are no potential candidates for masking, masks all words except predicate.\r\n",
        "    '''\r\n",
        "    candidates_to_be_masked = find_candidates_to_mask(token_to_skip, probe_text)\r\n",
        "    pt_encoded_ix = tokenizer(probe_text, return_tensors=\"pt\")[\"input_ids\"][0]\r\n",
        "    pt_encoded_toks = tokenizer.convert_ids_to_tokens(pt_encoded_ix)\r\n",
        "\r\n",
        "    tokens_ixes = [subtok_ix \r\n",
        "                   for subtok_ix, subtok in enumerate(pt_encoded_toks) \r\n",
        "                   if not subtok.startswith(\"##\")]\r\n",
        "\r\n",
        "    tokens_spans = [(start_ix, end_ix)\r\n",
        "                    for start_ix, end_ix in zip(tokens_ixes, \r\n",
        "                                                tokens_ixes[1:] + [len(pt_encoded_toks)])]\r\n",
        "    masked_sents = []\r\n",
        "    for token_start, token_end in tokens_spans:\r\n",
        "        token_text = ''.join([subtok.replace(\"##\", '')\r\n",
        "                              for subtok in pt_encoded_toks[token_start:token_end]])\r\n",
        "        \r\n",
        "        if token_text in candidates_to_be_masked:\r\n",
        "            masked_tokens_ix = torch.cat((pt_encoded_ix[:token_start],\r\n",
        "                                        torch.tensor([tokenizer.mask_token_id]),\r\n",
        "                                        pt_encoded_ix[token_end:]))\r\n",
        "            masked_toks = tokenizer.convert_ids_to_tokens(masked_tokens_ix)\r\n",
        "            masked_sents.append(masked_toks)\r\n",
        "        elif not candidates_to_be_masked and token_text != token_to_skip:\r\n",
        "            masked_tokens_ix = torch.cat((pt_encoded_ix[:token_start],\r\n",
        "                                        torch.tensor([tokenizer.mask_token_id]),\r\n",
        "                                        pt_encoded_ix[token_end:]))\r\n",
        "            masked_toks = tokenizer.convert_ids_to_tokens(masked_tokens_ix)\r\n",
        "            masked_sents.append(masked_toks)\r\n",
        "    return masked_sents"
      ],
      "execution_count": null,
      "outputs": []
    },
    {
      "cell_type": "markdown",
      "metadata": {
        "id": "6ay7w3DcKqgP"
      },
      "source": [
        "**Example**\r\n",
        "\r\n",
        "Context: \"Старый я, песенка моя спета, и нет у меня больше надежды снова стать на ноги.\"\r\n",
        "\r\n",
        "Predicate: \"стать\"\r\n"
      ]
    },
    {
      "cell_type": "code",
      "metadata": {
        "colab": {
          "base_uri": "https://localhost:8080/",
          "height": 891
        },
        "id": "LxUOek_a5mrz",
        "outputId": "792f9d6f-37aa-4ee5-c106-17ba941f8d96"
      },
      "source": [
        "examp_context = 'Старый я, песенка моя спета, и нет у меня больше надежды снова стать на ноги.'\r\n",
        "examp_predicate = 'стать'\r\n",
        "\r\n",
        "conllu = pipeline.process(examp_context)\r\n",
        "graph = parse_to_graph(conllu)\r\n",
        "graph"
      ],
      "execution_count": null,
      "outputs": [
        {
          "output_type": "execute_result",
          "data": {
            "text/plain": [
              "<DependencyGraph with 19 nodes>"
            ],
            "image/svg+xml": "<?xml version=\"1.0\" encoding=\"UTF-8\" standalone=\"no\"?>\n<!DOCTYPE svg PUBLIC \"-//W3C//DTD SVG 1.1//EN\"\n \"http://www.w3.org/Graphics/SVG/1.1/DTD/svg11.dtd\">\n<!-- Generated by graphviz version 2.40.1 (20161225.0304)\n -->\n<!-- Title: G Pages: 1 -->\n<svg width=\"541pt\" height=\"653pt\"\n viewBox=\"0.00 0.00 541.00 653.00\" xmlns=\"http://www.w3.org/2000/svg\" xmlns:xlink=\"http://www.w3.org/1999/xlink\">\n<g id=\"graph0\" class=\"graph\" transform=\"scale(1 1) rotate(0) translate(4 649)\">\n<title>G</title>\n<polygon fill=\"#ffffff\" stroke=\"transparent\" points=\"-4,4 -4,-649 537,-649 537,4 -4,4\"/>\n<!-- 0 -->\n<g id=\"node1\" class=\"node\">\n<title>0</title>\n<text text-anchor=\"middle\" x=\"196.5\" y=\"-623.3\" font-family=\"Times,serif\" font-size=\"14.00\" fill=\"#000000\">0 (None)</text>\n</g>\n<!-- 2 -->\n<g id=\"node2\" class=\"node\">\n<title>2</title>\n<text text-anchor=\"middle\" x=\"196.5\" y=\"-536.3\" font-family=\"Times,serif\" font-size=\"14.00\" fill=\"#000000\">2 (я)</text>\n</g>\n<!-- 0&#45;&gt;2 -->\n<g id=\"edge1\" class=\"edge\">\n<title>0&#45;&gt;2</title>\n<path fill=\"none\" stroke=\"#000000\" d=\"M196.5,-608.9735C196.5,-597.1918 196.5,-581.5607 196.5,-568.1581\"/>\n<polygon fill=\"#000000\" stroke=\"#000000\" points=\"200.0001,-568.0033 196.5,-558.0034 193.0001,-568.0034 200.0001,-568.0033\"/>\n<text text-anchor=\"middle\" x=\"216.5\" y=\"-579.8\" font-family=\"Times,serif\" font-size=\"14.00\" fill=\"#000000\">ROOT</text>\n</g>\n<!-- 1 -->\n<g id=\"node3\" class=\"node\">\n<title>1</title>\n<text text-anchor=\"middle\" x=\"41.5\" y=\"-449.3\" font-family=\"Times,serif\" font-size=\"14.00\" fill=\"#000000\">1 (Старый)</text>\n</g>\n<!-- 2&#45;&gt;1 -->\n<g id=\"edge2\" class=\"edge\">\n<title>2&#45;&gt;1</title>\n<path fill=\"none\" stroke=\"#000000\" d=\"M169.3342,-525.6587C157.1098,-519.1397 142.5287,-511.2731 129.5,-504 113.6673,-495.1616 96.3772,-485.2079 81.3463,-476.4557\"/>\n<polygon fill=\"#000000\" stroke=\"#000000\" points=\"82.7133,-473.201 72.3126,-471.1822 79.1843,-479.2464 82.7133,-473.201\"/>\n<text text-anchor=\"middle\" x=\"146\" y=\"-492.8\" font-family=\"Times,serif\" font-size=\"14.00\" fill=\"#000000\">amod</text>\n</g>\n<!-- 4 -->\n<g id=\"node4\" class=\"node\">\n<title>4</title>\n<text text-anchor=\"middle\" x=\"142.5\" y=\"-449.3\" font-family=\"Times,serif\" font-size=\"14.00\" fill=\"#000000\">4 (песенка)</text>\n</g>\n<!-- 2&#45;&gt;4 -->\n<g id=\"edge3\" class=\"edge\">\n<title>2&#45;&gt;4</title>\n<path fill=\"none\" stroke=\"#000000\" d=\"M185.3112,-521.9735C177.7087,-509.7252 167.524,-493.3165 158.9958,-479.5766\"/>\n<polygon fill=\"#000000\" stroke=\"#000000\" points=\"161.9219,-477.654 153.6745,-471.0034 155.9744,-481.3456 161.9219,-477.654\"/>\n<text text-anchor=\"middle\" x=\"186\" y=\"-492.8\" font-family=\"Times,serif\" font-size=\"14.00\" fill=\"#000000\">conj</text>\n</g>\n<!-- 9 -->\n<g id=\"node5\" class=\"node\">\n<title>9</title>\n<text text-anchor=\"middle\" x=\"230.5\" y=\"-449.3\" font-family=\"Times,serif\" font-size=\"14.00\" fill=\"#000000\">9 (нет)</text>\n</g>\n<!-- 2&#45;&gt;9 -->\n<g id=\"edge4\" class=\"edge\">\n<title>2&#45;&gt;9</title>\n<path fill=\"none\" stroke=\"#000000\" d=\"M203.5448,-521.9735C208.2404,-509.9585 214.5004,-493.9401 219.8058,-480.3646\"/>\n<polygon fill=\"#000000\" stroke=\"#000000\" points=\"223.0841,-481.5914 223.4642,-471.0034 216.5643,-479.0434 223.0841,-481.5914\"/>\n<text text-anchor=\"middle\" x=\"229\" y=\"-492.8\" font-family=\"Times,serif\" font-size=\"14.00\" fill=\"#000000\">conj</text>\n</g>\n<!-- 18 -->\n<g id=\"node6\" class=\"node\">\n<title>18</title>\n<text text-anchor=\"middle\" x=\"303.5\" y=\"-449.3\" font-family=\"Times,serif\" font-size=\"14.00\" fill=\"#000000\">18 (.)</text>\n</g>\n<!-- 2&#45;&gt;18 -->\n<g id=\"edge5\" class=\"edge\">\n<title>2&#45;&gt;18</title>\n<path fill=\"none\" stroke=\"#000000\" d=\"M221.9992,-521.9166C229.6601,-516.3105 238.0152,-510.0211 245.5,-504 255.7027,-495.7924 266.5615,-486.4252 276.0911,-477.9775\"/>\n<polygon fill=\"#000000\" stroke=\"#000000\" points=\"278.6148,-480.4162 283.7398,-471.1433 273.9508,-475.1963 278.6148,-480.4162\"/>\n<text text-anchor=\"middle\" x=\"280\" y=\"-492.8\" font-family=\"Times,serif\" font-size=\"14.00\" fill=\"#000000\">punct</text>\n</g>\n<!-- 3 -->\n<g id=\"node7\" class=\"node\">\n<title>3</title>\n<text text-anchor=\"middle\" x=\"63.5\" y=\"-362.3\" font-family=\"Times,serif\" font-size=\"14.00\" fill=\"#000000\">3 (,)</text>\n</g>\n<!-- 4&#45;&gt;3 -->\n<g id=\"edge6\" class=\"edge\">\n<title>4&#45;&gt;3</title>\n<path fill=\"none\" stroke=\"#000000\" d=\"M122.8946,-434.7061C117.1576,-429.1461 110.9628,-422.9348 105.5,-417 98.2757,-409.1515 90.7574,-400.2748 84.1121,-392.1527\"/>\n<polygon fill=\"#000000\" stroke=\"#000000\" points=\"86.8105,-389.9233 77.8011,-384.3482 81.3675,-394.3248 86.8105,-389.9233\"/>\n<text text-anchor=\"middle\" x=\"122\" y=\"-405.8\" font-family=\"Times,serif\" font-size=\"14.00\" fill=\"#000000\">punct</text>\n</g>\n<!-- 6 -->\n<g id=\"node8\" class=\"node\">\n<title>6</title>\n<text text-anchor=\"middle\" x=\"142.5\" y=\"-362.3\" font-family=\"Times,serif\" font-size=\"14.00\" fill=\"#000000\">6 (спета)</text>\n</g>\n<!-- 4&#45;&gt;6 -->\n<g id=\"edge7\" class=\"edge\">\n<title>4&#45;&gt;6</title>\n<path fill=\"none\" stroke=\"#000000\" d=\"M142.5,-434.9735C142.5,-423.1918 142.5,-407.5607 142.5,-394.1581\"/>\n<polygon fill=\"#000000\" stroke=\"#000000\" points=\"146.0001,-394.0033 142.5,-384.0034 139.0001,-394.0034 146.0001,-394.0033\"/>\n<text text-anchor=\"middle\" x=\"159.5\" y=\"-405.8\" font-family=\"Times,serif\" font-size=\"14.00\" fill=\"#000000\">nmod</text>\n</g>\n<!-- 7 -->\n<g id=\"node10\" class=\"node\">\n<title>7</title>\n<text text-anchor=\"middle\" x=\"221.5\" y=\"-362.3\" font-family=\"Times,serif\" font-size=\"14.00\" fill=\"#000000\">7 (,)</text>\n</g>\n<!-- 9&#45;&gt;7 -->\n<g id=\"edge9\" class=\"edge\">\n<title>9&#45;&gt;7</title>\n<path fill=\"none\" stroke=\"#000000\" d=\"M228.6352,-434.9735C227.4164,-423.1918 225.7994,-407.5607 224.4129,-394.1581\"/>\n<polygon fill=\"#000000\" stroke=\"#000000\" points=\"227.8729,-393.5901 223.3624,-384.0034 220.9101,-394.3105 227.8729,-393.5901\"/>\n<text text-anchor=\"middle\" x=\"244\" y=\"-405.8\" font-family=\"Times,serif\" font-size=\"14.00\" fill=\"#000000\">punct</text>\n</g>\n<!-- 8 -->\n<g id=\"node11\" class=\"node\">\n<title>8</title>\n<text text-anchor=\"middle\" x=\"293.5\" y=\"-362.3\" font-family=\"Times,serif\" font-size=\"14.00\" fill=\"#000000\">8 (и)</text>\n</g>\n<!-- 9&#45;&gt;8 -->\n<g id=\"edge10\" class=\"edge\">\n<title>9&#45;&gt;8</title>\n<path fill=\"none\" stroke=\"#000000\" d=\"M249.3963,-434.6949C254.5771,-429.2363 260.0007,-423.0818 264.5,-417 269.986,-409.5844 275.2197,-401.033 279.6932,-393.0775\"/>\n<polygon fill=\"#000000\" stroke=\"#000000\" points=\"282.8638,-394.5733 284.565,-384.1159 276.7138,-391.23 282.8638,-394.5733\"/>\n<text text-anchor=\"middle\" x=\"281\" y=\"-405.8\" font-family=\"Times,serif\" font-size=\"14.00\" fill=\"#000000\">cc</text>\n</g>\n<!-- 12 -->\n<g id=\"node12\" class=\"node\">\n<title>12</title>\n<text text-anchor=\"middle\" x=\"383.5\" y=\"-362.3\" font-family=\"Times,serif\" font-size=\"14.00\" fill=\"#000000\">12 (больше)</text>\n</g>\n<!-- 9&#45;&gt;12 -->\n<g id=\"edge11\" class=\"edge\">\n<title>9&#45;&gt;12</title>\n<path fill=\"none\" stroke=\"#000000\" d=\"M258.5626,-437.0429C282.2023,-423.6006 316.3252,-404.1974 342.9387,-389.0643\"/>\n<polygon fill=\"#000000\" stroke=\"#000000\" points=\"344.6874,-392.0963 351.6502,-384.1107 341.2272,-386.0112 344.6874,-392.0963\"/>\n<text text-anchor=\"middle\" x=\"332.5\" y=\"-405.8\" font-family=\"Times,serif\" font-size=\"14.00\" fill=\"#000000\">nsubj</text>\n</g>\n<!-- 5 -->\n<g id=\"node9\" class=\"node\">\n<title>5</title>\n<text text-anchor=\"middle\" x=\"142.5\" y=\"-275.3\" font-family=\"Times,serif\" font-size=\"14.00\" fill=\"#000000\">5 (моя)</text>\n</g>\n<!-- 6&#45;&gt;5 -->\n<g id=\"edge8\" class=\"edge\">\n<title>6&#45;&gt;5</title>\n<path fill=\"none\" stroke=\"#000000\" d=\"M142.5,-347.9735C142.5,-336.1918 142.5,-320.5607 142.5,-307.1581\"/>\n<polygon fill=\"#000000\" stroke=\"#000000\" points=\"146.0001,-307.0033 142.5,-297.0034 139.0001,-307.0034 146.0001,-307.0033\"/>\n<text text-anchor=\"middle\" x=\"151.5\" y=\"-318.8\" font-family=\"Times,serif\" font-size=\"14.00\" fill=\"#000000\">det</text>\n</g>\n<!-- 11 -->\n<g id=\"node14\" class=\"node\">\n<title>11</title>\n<text text-anchor=\"middle\" x=\"339.5\" y=\"-275.3\" font-family=\"Times,serif\" font-size=\"14.00\" fill=\"#000000\">11 (меня)</text>\n</g>\n<!-- 12&#45;&gt;11 -->\n<g id=\"edge13\" class=\"edge\">\n<title>12&#45;&gt;11</title>\n<path fill=\"none\" stroke=\"#000000\" d=\"M374.3832,-347.9735C368.2476,-335.8418 360.0478,-319.6287 353.1399,-305.9698\"/>\n<polygon fill=\"#000000\" stroke=\"#000000\" points=\"356.2416,-304.3474 348.6051,-297.0034 349.995,-307.5066 356.2416,-304.3474\"/>\n<text text-anchor=\"middle\" x=\"374\" y=\"-318.8\" font-family=\"Times,serif\" font-size=\"14.00\" fill=\"#000000\">obl</text>\n</g>\n<!-- 13 -->\n<g id=\"node15\" class=\"node\">\n<title>13</title>\n<text text-anchor=\"middle\" x=\"443.5\" y=\"-275.3\" font-family=\"Times,serif\" font-size=\"14.00\" fill=\"#000000\">13 (надежды)</text>\n</g>\n<!-- 12&#45;&gt;13 -->\n<g id=\"edge14\" class=\"edge\">\n<title>12&#45;&gt;13</title>\n<path fill=\"none\" stroke=\"#000000\" d=\"M395.932,-347.9735C404.3792,-335.7252 415.6955,-319.3165 425.1713,-305.5766\"/>\n<polygon fill=\"#000000\" stroke=\"#000000\" points=\"428.2878,-307.2226 431.0839,-297.0034 422.5253,-303.2484 428.2878,-307.2226\"/>\n<text text-anchor=\"middle\" x=\"427\" y=\"-318.8\" font-family=\"Times,serif\" font-size=\"14.00\" fill=\"#000000\">obl</text>\n</g>\n<!-- 10 -->\n<g id=\"node13\" class=\"node\">\n<title>10</title>\n<text text-anchor=\"middle\" x=\"339.5\" y=\"-188.3\" font-family=\"Times,serif\" font-size=\"14.00\" fill=\"#000000\">10 (у)</text>\n</g>\n<!-- 11&#45;&gt;10 -->\n<g id=\"edge12\" class=\"edge\">\n<title>11&#45;&gt;10</title>\n<path fill=\"none\" stroke=\"#000000\" d=\"M339.5,-260.9735C339.5,-249.1918 339.5,-233.5607 339.5,-220.1581\"/>\n<polygon fill=\"#000000\" stroke=\"#000000\" points=\"343.0001,-220.0033 339.5,-210.0034 336.0001,-220.0034 343.0001,-220.0033\"/>\n<text text-anchor=\"middle\" x=\"351.5\" y=\"-231.8\" font-family=\"Times,serif\" font-size=\"14.00\" fill=\"#000000\">case</text>\n</g>\n<!-- 15 -->\n<g id=\"node16\" class=\"node\">\n<title>15</title>\n<text text-anchor=\"middle\" x=\"443.5\" y=\"-188.3\" font-family=\"Times,serif\" font-size=\"14.00\" fill=\"#000000\">15 (стать)</text>\n</g>\n<!-- 13&#45;&gt;15 -->\n<g id=\"edge15\" class=\"edge\">\n<title>13&#45;&gt;15</title>\n<path fill=\"none\" stroke=\"#000000\" d=\"M443.5,-260.9735C443.5,-249.1918 443.5,-233.5607 443.5,-220.1581\"/>\n<polygon fill=\"#000000\" stroke=\"#000000\" points=\"447.0001,-220.0033 443.5,-210.0034 440.0001,-220.0034 447.0001,-220.0033\"/>\n<text text-anchor=\"middle\" x=\"453\" y=\"-231.8\" font-family=\"Times,serif\" font-size=\"14.00\" fill=\"#000000\">obl</text>\n</g>\n<!-- 14 -->\n<g id=\"node17\" class=\"node\">\n<title>14</title>\n<text text-anchor=\"middle\" x=\"402.5\" y=\"-101.3\" font-family=\"Times,serif\" font-size=\"14.00\" fill=\"#000000\">14 (снова)</text>\n</g>\n<!-- 15&#45;&gt;14 -->\n<g id=\"edge16\" class=\"edge\">\n<title>15&#45;&gt;14</title>\n<path fill=\"none\" stroke=\"#000000\" d=\"M426.1289,-173.6622C421.798,-168.2985 417.5307,-162.201 414.5,-156 411.0401,-148.9209 408.5477,-140.7931 406.7642,-133.1369\"/>\n<polygon fill=\"#000000\" stroke=\"#000000\" points=\"410.1545,-132.2429 404.7473,-123.1317 403.2925,-133.6262 410.1545,-132.2429\"/>\n<text text-anchor=\"middle\" x=\"438.5\" y=\"-144.8\" font-family=\"Times,serif\" font-size=\"14.00\" fill=\"#000000\">advmod</text>\n</g>\n<!-- 17 -->\n<g id=\"node18\" class=\"node\">\n<title>17</title>\n<text text-anchor=\"middle\" x=\"496.5\" y=\"-101.3\" font-family=\"Times,serif\" font-size=\"14.00\" fill=\"#000000\">17 (ноги)</text>\n</g>\n<!-- 15&#45;&gt;17 -->\n<g id=\"edge17\" class=\"edge\">\n<title>15&#45;&gt;17</title>\n<path fill=\"none\" stroke=\"#000000\" d=\"M454.4816,-173.9735C461.9433,-161.7252 471.9394,-145.3165 480.3097,-131.5766\"/>\n<polygon fill=\"#000000\" stroke=\"#000000\" points=\"483.3188,-133.3644 485.5324,-123.0034 477.3408,-129.7225 483.3188,-133.3644\"/>\n<text text-anchor=\"middle\" x=\"483\" y=\"-144.8\" font-family=\"Times,serif\" font-size=\"14.00\" fill=\"#000000\">obl</text>\n</g>\n<!-- 16 -->\n<g id=\"node19\" class=\"node\">\n<title>16</title>\n<text text-anchor=\"middle\" x=\"496.5\" y=\"-14.3\" font-family=\"Times,serif\" font-size=\"14.00\" fill=\"#000000\">16 (на)</text>\n</g>\n<!-- 17&#45;&gt;16 -->\n<g id=\"edge18\" class=\"edge\">\n<title>17&#45;&gt;16</title>\n<path fill=\"none\" stroke=\"#000000\" d=\"M496.5,-86.9735C496.5,-75.1918 496.5,-59.5607 496.5,-46.1581\"/>\n<polygon fill=\"#000000\" stroke=\"#000000\" points=\"500.0001,-46.0033 496.5,-36.0034 493.0001,-46.0034 500.0001,-46.0033\"/>\n<text text-anchor=\"middle\" x=\"508.5\" y=\"-57.8\" font-family=\"Times,serif\" font-size=\"14.00\" fill=\"#000000\">case</text>\n</g>\n</g>\n</svg>\n"
          },
          "metadata": {
            "tags": []
          },
          "execution_count": 20
        }
      ]
    },
    {
      "cell_type": "code",
      "metadata": {
        "colab": {
          "base_uri": "https://localhost:8080/"
        },
        "id": "kqHSIUmT5mpF",
        "outputId": "e80df758-945b-4e09-c2b1-1ba0f96229bd"
      },
      "source": [
        "from pprint import pprint\r\n",
        "pprint(get_masked_sentences_for_words(\"стать\", \"Старый я, песенка моя спета, и нет у меня больше надежды снова стать на ноги\"), \r\n",
        "       width=120, compact=True)"
      ],
      "execution_count": null,
      "outputs": [
        {
          "output_type": "stream",
          "text": [
            "[['[CLS]', 'стар', '##ы', '##и', 'я', ',', 'песен', '##ка', 'моя', 'спе', '##та', ',', 'и', 'нет', 'у', 'меня',\n",
            "  'больше', 'надежды', '[MASK]', 'стать', 'на', 'ноги', '[SEP]'],\n",
            " ['[CLS]', 'стар', '##ы', '##и', 'я', ',', 'песен', '##ка', 'моя', 'спе', '##та', ',', 'и', 'нет', 'у', 'меня',\n",
            "  'больше', 'надежды', 'снова', 'стать', 'на', '[MASK]', '[SEP]']]\n"
          ],
          "name": "stdout"
        }
      ]
    },
    {
      "cell_type": "code",
      "metadata": {
        "colab": {
          "base_uri": "https://localhost:8080/",
          "height": 158,
          "referenced_widgets": [
            "0eadda0269b94fea9157df4248df8364",
            "f7dbcd511ee248eb80e0a510497f8806",
            "20b4db89f8834cc5abd4e8b27f42be7c",
            "0a393f44027649619f2d98161c3ed5a0",
            "0173cffa4c7d4910b293f4d0eb13dfed",
            "affe7359076544a99fb4b19723a853bd",
            "2aeebbeac00f46109370f96604474cd1",
            "157e6d251b5244be9b763e4776fccdfa"
          ]
        },
        "id": "qDejI_U05mld",
        "outputId": "9a6c5650-f7b2-43f6-a72a-a0e1ac5480cd"
      },
      "source": [
        "masked_contexts_candidates = []\r\n",
        "for row_ix, row in tqdm(contexts_trial_df.iterrows(), total=len(contexts_trial_df)):\r\n",
        "    masked_sentences = get_masked_sentences_for_words(row[\"instance\"], row[\"sentence\"])\r\n",
        "    for masked_sentence_tokenized in masked_sentences:\r\n",
        "        new_row = deepcopy(row)\r\n",
        "        new_row[\"sent_mask_tok\"] = masked_sentence_tokenized\r\n",
        "        new_row[\"sent_code\"] = row_ix\r\n",
        "        masked_contexts_candidates.append(new_row)\r\n",
        "\r\n",
        "masked_contexts_candidates_df = pd.DataFrame(masked_contexts_candidates)\r\n",
        "masked_contexts_candidates_df.head(2)"
      ],
      "execution_count": null,
      "outputs": [
        {
          "output_type": "display_data",
          "data": {
            "application/vnd.jupyter.widget-view+json": {
              "model_id": "0eadda0269b94fea9157df4248df8364",
              "version_minor": 0,
              "version_major": 2
            },
            "text/plain": [
              "HBox(children=(FloatProgress(value=0.0, max=2000.0), HTML(value='')))"
            ]
          },
          "metadata": {
            "tags": []
          }
        },
        {
          "output_type": "stream",
          "text": [
            "\n"
          ],
          "name": "stdout"
        },
        {
          "output_type": "execute_result",
          "data": {
            "text/html": [
              "<div>\n",
              "<style scoped>\n",
              "    .dataframe tbody tr th:only-of-type {\n",
              "        vertical-align: middle;\n",
              "    }\n",
              "\n",
              "    .dataframe tbody tr th {\n",
              "        vertical-align: top;\n",
              "    }\n",
              "\n",
              "    .dataframe thead th {\n",
              "        text-align: right;\n",
              "    }\n",
              "</style>\n",
              "<table border=\"1\" class=\"dataframe\">\n",
              "  <thead>\n",
              "    <tr style=\"text-align: right;\">\n",
              "      <th></th>\n",
              "      <th>instance</th>\n",
              "      <th>start</th>\n",
              "      <th>end</th>\n",
              "      <th>sentence</th>\n",
              "      <th>sent_mask_tok</th>\n",
              "      <th>sent_code</th>\n",
              "    </tr>\n",
              "  </thead>\n",
              "  <tbody>\n",
              "    <tr>\n",
              "      <th>trial.sent.rus.0</th>\n",
              "      <td>стать</td>\n",
              "      <td>63</td>\n",
              "      <td>68</td>\n",
              "      <td>Старый я, песенка моя спета, и нет у меня боль...</td>\n",
              "      <td>[[CLS], стар, ##ы, ##и, я, ,, песен, ##ка, моя...</td>\n",
              "      <td>trial.sent.rus.0</td>\n",
              "    </tr>\n",
              "    <tr>\n",
              "      <th>trial.sent.rus.0</th>\n",
              "      <td>стать</td>\n",
              "      <td>63</td>\n",
              "      <td>68</td>\n",
              "      <td>Старый я, песенка моя спета, и нет у меня боль...</td>\n",
              "      <td>[[CLS], стар, ##ы, ##и, я, ,, песен, ##ка, моя...</td>\n",
              "      <td>trial.sent.rus.0</td>\n",
              "    </tr>\n",
              "  </tbody>\n",
              "</table>\n",
              "</div>"
            ],
            "text/plain": [
              "                 instance  ...         sent_code\n",
              "trial.sent.rus.0    стать  ...  trial.sent.rus.0\n",
              "trial.sent.rus.0    стать  ...  trial.sent.rus.0\n",
              "\n",
              "[2 rows x 6 columns]"
            ]
          },
          "metadata": {
            "tags": []
          },
          "execution_count": 22
        }
      ]
    },
    {
      "cell_type": "markdown",
      "metadata": {
        "id": "WuKboX3HMAdN"
      },
      "source": [
        "### Collecting BERT MLM mask candidates for each sentence"
      ]
    },
    {
      "cell_type": "code",
      "metadata": {
        "id": "yraMRbfM5mg4"
      },
      "source": [
        "def pad(pre_batch, pad_symbol):\r\n",
        "    # adds padding to the begingn of the passed texts\r\n",
        "    max_len = max(map(len, pre_batch))\r\n",
        "    ress = [[pad_symbol]*(max_len-len(el)) + el for el in pre_batch]\r\n",
        "    return ress\r\n",
        "\r\n",
        "\r\n",
        "def top_n_tokens_in_mlm(probe_text_masked_tokenized_long_batch, N=1000):\r\n",
        "    # tokenized (e.g. ['[CLS]', 'кошка', 'ест', 'карто', '##шку', '[MASK]'])\r\n",
        "    # tokenized text transforms into a list of tokens [100, 123, 53, 213, 423, 100]]\r\n",
        "    # and this happens with every item in the list of tokenized texts\r\n",
        "    probe_text_masked_tokenized_long_batch = list(map(tokenizer.convert_tokens_to_ids,\r\n",
        "                                                  probe_text_masked_tokenized_long_batch.tolist()))\r\n",
        "    \r\n",
        "    padded_batch = pad(probe_text_masked_tokenized_long_batch, tokenizer.pad_token_id)\r\n",
        "\r\n",
        "    probe_text_masked_tokenized_long_batch = torch.LongTensor(padded_batch).to(DEVICE)\r\n",
        "    outputs = model(input_ids=probe_text_masked_tokenized_long_batch)\r\n",
        "    mask_token_indices = torch.where(probe_text_masked_tokenized_long_batch \r\n",
        "                                     == tokenizer.mask_token_id)  # про каждый элт батча на какой позиции в нём маска\r\n",
        "    \r\n",
        "    token_logits = outputs[\"logits\"]    \r\n",
        "    indices = torch.topk(token_logits[mask_token_indices],N).indices\r\n",
        "    decoded = list(map(tokenizer.convert_ids_to_tokens, indices))\r\n",
        "    \r\n",
        "    return decoded\r\n",
        "\r\n",
        "def indices_of_w_in_mlm(word_of_interest, probe_text_masked_tokenized, N=1000): #\r\n",
        "    top_n_tokens = top_n_tokens_in_mlm(probe_text_masked_tokenized, N)\r\n",
        "\r\n",
        "    return top_n_tokens.index(word_of_interest) if word_of_interest in top_n_tokens else -1"
      ],
      "execution_count": null,
      "outputs": []
    },
    {
      "cell_type": "code",
      "metadata": {
        "colab": {
          "base_uri": "https://localhost:8080/",
          "height": 67,
          "referenced_widgets": [
            "318496f4e2a64000ac8689c3246c5093",
            "08abd3336313495bb505d85495ade092",
            "30a425b706bf4d7b98e4db03a5f61a84",
            "958a8fdee47f49be852f3a986fc70d0c",
            "cfbc5a42a0fc484eb8212bbf4da63fd2",
            "bc87882d20994737a3c9561ca7f9ba11",
            "9185bb587ab3464c8dc158485ec3cc49",
            "931801a374e54273b4b1406d66fa112a"
          ]
        },
        "id": "QH_gJarYMQxn",
        "outputId": "f1582ea5-a52e-4423-ddbf-fcfeda519386"
      },
      "source": [
        "batch_size = 32\r\n",
        "col_to_process = masked_contexts_candidates_df[\"sent_mask_tok\"]\r\n",
        "n_batches = math.ceil(len(col_to_process) / batch_size)\r\n",
        "\r\n",
        "preds_col = []\r\n",
        "for batch in tqdm(np.array_split(col_to_process, n_batches)):\r\n",
        "    preds_col.extend(top_n_tokens_in_mlm(batch, N=100))\r\n",
        "\r\n",
        "masked_contexts_candidates_df[\"top words\"] = preds_col"
      ],
      "execution_count": null,
      "outputs": [
        {
          "output_type": "display_data",
          "data": {
            "application/vnd.jupyter.widget-view+json": {
              "model_id": "318496f4e2a64000ac8689c3246c5093",
              "version_minor": 0,
              "version_major": 2
            },
            "text/plain": [
              "HBox(children=(FloatProgress(value=0.0, max=623.0), HTML(value='')))"
            ]
          },
          "metadata": {
            "tags": []
          }
        },
        {
          "output_type": "stream",
          "text": [
            "\n"
          ],
          "name": "stdout"
        }
      ]
    },
    {
      "cell_type": "code",
      "metadata": {
        "id": "_SKEGbc1OP33"
      },
      "source": [
        "sent2word2ix = defaultdict(lambda: defaultdict(list))\r\n",
        "for row in masked_contexts_candidates_df.to_dict(orient=\"records\"):\r\n",
        "    for word_ix, word in enumerate(row[\"top words\"]):\r\n",
        "        sent2word2ix[row[\"sent_code\"]][word].append(word_ix)"
      ],
      "execution_count": null,
      "outputs": []
    },
    {
      "cell_type": "markdown",
      "metadata": {
        "id": "ElwsxXmhNBuR"
      },
      "source": [
        "### Use MLM candidates to estimate sketches relevance for sentences"
      ]
    },
    {
      "cell_type": "code",
      "metadata": {
        "id": "yR_EdSzaMQpp"
      },
      "source": [
        "def concatenate_lists(*lists):\r\n",
        "    return list(itertools.chain(*lists))\r\n",
        "\r\n",
        "\r\n",
        "def get_all_words_hypotheses(words_hypotheses_di, words_to_look_for):\r\n",
        "    return concatenate_lists(words_hypotheses_di[word] for word in words_to_look_for)\r\n",
        "\r\n",
        "\r\n",
        "def get_words_ixes(sketch_cell_text):\r\n",
        "    sketch_cell_tokens = sketch_cell_text.split()\r\n",
        "\r\n",
        "    return {sent_id: get_all_words_hypotheses(words_hypotheses_for_sent, sketch_cell_tokens)\r\n",
        "            for sent_id, words_hypotheses_for_sent in sent2word2ix.items()}"
      ],
      "execution_count": null,
      "outputs": []
    },
    {
      "cell_type": "code",
      "metadata": {
        "colab": {
          "base_uri": "https://localhost:8080/",
          "height": 67,
          "referenced_widgets": [
            "f8519b04fa7741b38f90228e9671418b",
            "d5163ddf1c404b7492367ceea550385b",
            "3884f3a5bccb46dbbe97c1408b8739df",
            "ec20a9fcff4149f0bb46a2de437bc9cb",
            "fac26a052f054392aea44873945c706a",
            "17ecf53b1cc84d2aa9be6667f805ad30",
            "e094855d2a964449b9523225d8c3f81e",
            "d94f7128a4a04419b91e602b7f97e439"
          ]
        },
        "id": "y7RMJuMwMQmV",
        "outputId": "ec1d63aa-cdf2-4a2e-83ec-751d956e348f"
      },
      "source": [
        "word2sentence_ix2freq = dict()\r\n",
        "sketch_to_plot = dict()\r\n",
        "for sketch_name, sketch in tqdm(sketches_dfs.items(), total=len(sketches_dfs)):\r\n",
        "    cells = []\r\n",
        "    for row_ix in sketch.index:\r\n",
        "        for col_ix, colname in enumerate(sketch.columns):\r\n",
        "            word = sketch[colname][row_ix]\r\n",
        "            word_freqs = word2sentence_ix2freq.setdefault(word, get_words_ixes(word))\r\n",
        "            cells.append((word, row_ix, col_ix, colname, word_freqs))\r\n",
        "    \r\n",
        "    sketch_to_plot[sketch_name] = cells"
      ],
      "execution_count": null,
      "outputs": [
        {
          "output_type": "display_data",
          "data": {
            "application/vnd.jupyter.widget-view+json": {
              "model_id": "f8519b04fa7741b38f90228e9671418b",
              "version_minor": 0,
              "version_major": 2
            },
            "text/plain": [
              "HBox(children=(FloatProgress(value=0.0, max=20.0), HTML(value='')))"
            ]
          },
          "metadata": {
            "tags": []
          }
        },
        {
          "output_type": "stream",
          "text": [
            "\n"
          ],
          "name": "stdout"
        }
      ]
    },
    {
      "cell_type": "code",
      "metadata": {
        "colab": {
          "base_uri": "https://localhost:8080/",
          "height": 67,
          "referenced_widgets": [
            "40e7bcdd5f324897919a395a139eeb29",
            "5d06f8c05be3446c9bbf7782068dd39b",
            "a33bedb2f9be4a758e4d0bcf78c6090a",
            "3a06e50fb68f46a8b2fdaf8382f75897",
            "3c9c2aded6c943e0aa7b616249f8c200",
            "452bef0577c7484cacd893d622c90071",
            "d551e40e5b0949f8936802336a500e2e",
            "d236a4ccf8c840d1ba0dc592ddf4554a"
          ]
        },
        "id": "I8auQpwo5mbV",
        "outputId": "8f1ab73d-29ad-4f34-fdc5-96aeea230872"
      },
      "source": [
        "cells_pretty = []\r\n",
        "for sketch, cells in tqdm(sketch_to_plot.items(), total=len(sketch_to_plot)):\r\n",
        "    for word, row_ix, col_ix, colname, word_freqs in cells:\r\n",
        "        nrows_written = 0\r\n",
        "        for sent, li in word_freqs.items():\r\n",
        "            sent_text = contexts_trial_df.loc[sent][\"sentence\"]\r\n",
        "            ok_sketch = sent2sketch.get(sent, '') == sketch\r\n",
        "            base_sketch_di = {\r\n",
        "                \"word\": word, \r\n",
        "                \"row_ix\": row_ix, \"col_ix\": col_ix, \"colname\": colname,\r\n",
        "                \"sent\": sent, \r\n",
        "                \"ix\": \"REPLACEME\",\r\n",
        "                \"sketch\": sketch,\r\n",
        "                'predicted_sketch': sent2sketch.get(sent, ''),\r\n",
        "                \"sent_text\": sent_text,\r\n",
        "                \"ok_sketch\": ok_sketch\r\n",
        "            }\r\n",
        "            for el in li:\r\n",
        "                el_sketch_di = base_sketch_di.copy()\r\n",
        "                el_sketch_di[\"ix\"] = el if el else pd.NA\r\n",
        "                cells_pretty.append(el_sketch_di)\r\n",
        "                nrows_written += 1\r\n",
        "            if not li:\r\n",
        "                sketch_di = base_sketch_di.copy()\r\n",
        "                sketch_di[\"ix\"] = pd.NA\r\n",
        "                cells_pretty.append(sketch_di)\r\n",
        "cells_df = pd.DataFrame(cells_pretty)"
      ],
      "execution_count": null,
      "outputs": [
        {
          "output_type": "display_data",
          "data": {
            "application/vnd.jupyter.widget-view+json": {
              "model_id": "40e7bcdd5f324897919a395a139eeb29",
              "version_minor": 0,
              "version_major": 2
            },
            "text/plain": [
              "HBox(children=(FloatProgress(value=0.0, max=20.0), HTML(value='')))"
            ]
          },
          "metadata": {
            "tags": []
          }
        },
        {
          "output_type": "stream",
          "text": [
            "\n"
          ],
          "name": "stdout"
        }
      ]
    },
    {
      "cell_type": "code",
      "metadata": {
        "colab": {
          "base_uri": "https://localhost:8080/",
          "height": 352
        },
        "id": "rDjhaVwM5mXY",
        "outputId": "3d83c01c-ca7c-4622-eb91-a3248dc62ce2"
      },
      "source": [
        "cells_df.head(10)"
      ],
      "execution_count": null,
      "outputs": [
        {
          "output_type": "execute_result",
          "data": {
            "text/html": [
              "<div>\n",
              "<style scoped>\n",
              "    .dataframe tbody tr th:only-of-type {\n",
              "        vertical-align: middle;\n",
              "    }\n",
              "\n",
              "    .dataframe tbody tr th {\n",
              "        vertical-align: top;\n",
              "    }\n",
              "\n",
              "    .dataframe thead th {\n",
              "        text-align: right;\n",
              "    }\n",
              "</style>\n",
              "<table border=\"1\" class=\"dataframe\">\n",
              "  <thead>\n",
              "    <tr style=\"text-align: right;\">\n",
              "      <th></th>\n",
              "      <th>word</th>\n",
              "      <th>row_ix</th>\n",
              "      <th>col_ix</th>\n",
              "      <th>colname</th>\n",
              "      <th>sent</th>\n",
              "      <th>ix</th>\n",
              "      <th>sketch</th>\n",
              "      <th>predicted_sketch</th>\n",
              "      <th>sent_text</th>\n",
              "      <th>ok_sketch</th>\n",
              "    </tr>\n",
              "  </thead>\n",
              "  <tbody>\n",
              "    <tr>\n",
              "      <th>0</th>\n",
              "      <td>в карты</td>\n",
              "      <td>0</td>\n",
              "      <td>0</td>\n",
              "      <td>Sphere_Special</td>\n",
              "      <td>trial.sent.rus.0</td>\n",
              "      <td>[34]</td>\n",
              "      <td>trial.sketch.rus.0</td>\n",
              "      <td>trial.sketch.rus.8</td>\n",
              "      <td>Старый я, песенка моя спета, и нет у меня боль...</td>\n",
              "      <td>False</td>\n",
              "    </tr>\n",
              "    <tr>\n",
              "      <th>1</th>\n",
              "      <td>в карты</td>\n",
              "      <td>0</td>\n",
              "      <td>0</td>\n",
              "      <td>Sphere_Special</td>\n",
              "      <td>trial.sent.rus.0</td>\n",
              "      <td>NaN</td>\n",
              "      <td>trial.sketch.rus.0</td>\n",
              "      <td>trial.sketch.rus.8</td>\n",
              "      <td>Старый я, песенка моя спета, и нет у меня боль...</td>\n",
              "      <td>False</td>\n",
              "    </tr>\n",
              "    <tr>\n",
              "      <th>2</th>\n",
              "      <td>в карты</td>\n",
              "      <td>0</td>\n",
              "      <td>0</td>\n",
              "      <td>Sphere_Special</td>\n",
              "      <td>trial.sent.rus.1</td>\n",
              "      <td>[16, 5]</td>\n",
              "      <td>trial.sketch.rus.0</td>\n",
              "      <td>trial.sketch.rus.4</td>\n",
              "      <td>Но не вызвала</td>\n",
              "      <td>False</td>\n",
              "    </tr>\n",
              "    <tr>\n",
              "      <th>3</th>\n",
              "      <td>в карты</td>\n",
              "      <td>0</td>\n",
              "      <td>0</td>\n",
              "      <td>Sphere_Special</td>\n",
              "      <td>trial.sent.rus.1</td>\n",
              "      <td>NaN</td>\n",
              "      <td>trial.sketch.rus.0</td>\n",
              "      <td>trial.sketch.rus.4</td>\n",
              "      <td>Но не вызвала</td>\n",
              "      <td>False</td>\n",
              "    </tr>\n",
              "    <tr>\n",
              "      <th>4</th>\n",
              "      <td>в карты</td>\n",
              "      <td>0</td>\n",
              "      <td>0</td>\n",
              "      <td>Sphere_Special</td>\n",
              "      <td>trial.sent.rus.2</td>\n",
              "      <td>[63, 50, 40]</td>\n",
              "      <td>trial.sketch.rus.0</td>\n",
              "      <td>trial.sketch.rus.6</td>\n",
              "      <td>А может, и вовсе поменяет конституцию и пойдет...</td>\n",
              "      <td>False</td>\n",
              "    </tr>\n",
              "    <tr>\n",
              "      <th>5</th>\n",
              "      <td>в карты</td>\n",
              "      <td>0</td>\n",
              "      <td>0</td>\n",
              "      <td>Sphere_Special</td>\n",
              "      <td>trial.sent.rus.2</td>\n",
              "      <td>NaN</td>\n",
              "      <td>trial.sketch.rus.0</td>\n",
              "      <td>trial.sketch.rus.6</td>\n",
              "      <td>А может, и вовсе поменяет конституцию и пойдет...</td>\n",
              "      <td>False</td>\n",
              "    </tr>\n",
              "    <tr>\n",
              "      <th>6</th>\n",
              "      <td>в карты</td>\n",
              "      <td>0</td>\n",
              "      <td>0</td>\n",
              "      <td>Sphere_Special</td>\n",
              "      <td>trial.sent.rus.3</td>\n",
              "      <td>[8]</td>\n",
              "      <td>trial.sketch.rus.0</td>\n",
              "      <td>trial.sketch.rus.2</td>\n",
              "      <td>Я не стану отрекаться, – объяснил он</td>\n",
              "      <td>False</td>\n",
              "    </tr>\n",
              "    <tr>\n",
              "      <th>7</th>\n",
              "      <td>в карты</td>\n",
              "      <td>0</td>\n",
              "      <td>0</td>\n",
              "      <td>Sphere_Special</td>\n",
              "      <td>trial.sent.rus.3</td>\n",
              "      <td>NaN</td>\n",
              "      <td>trial.sketch.rus.0</td>\n",
              "      <td>trial.sketch.rus.2</td>\n",
              "      <td>Я не стану отрекаться, – объяснил он</td>\n",
              "      <td>False</td>\n",
              "    </tr>\n",
              "    <tr>\n",
              "      <th>8</th>\n",
              "      <td>в карты</td>\n",
              "      <td>0</td>\n",
              "      <td>0</td>\n",
              "      <td>Sphere_Special</td>\n",
              "      <td>trial.sent.rus.4</td>\n",
              "      <td>[74, 22, 24, 15]</td>\n",
              "      <td>trial.sketch.rus.0</td>\n",
              "      <td>trial.sketch.rus.15</td>\n",
              "      <td>В этом случае профиль сечения ППЭ реакции зави...</td>\n",
              "      <td>False</td>\n",
              "    </tr>\n",
              "    <tr>\n",
              "      <th>9</th>\n",
              "      <td>в карты</td>\n",
              "      <td>0</td>\n",
              "      <td>0</td>\n",
              "      <td>Sphere_Special</td>\n",
              "      <td>trial.sent.rus.4</td>\n",
              "      <td>NaN</td>\n",
              "      <td>trial.sketch.rus.0</td>\n",
              "      <td>trial.sketch.rus.15</td>\n",
              "      <td>В этом случае профиль сечения ППЭ реакции зави...</td>\n",
              "      <td>False</td>\n",
              "    </tr>\n",
              "  </tbody>\n",
              "</table>\n",
              "</div>"
            ],
            "text/plain": [
              "      word  ...  ok_sketch\n",
              "0  в карты  ...      False\n",
              "1  в карты  ...      False\n",
              "2  в карты  ...      False\n",
              "3  в карты  ...      False\n",
              "4  в карты  ...      False\n",
              "5  в карты  ...      False\n",
              "6  в карты  ...      False\n",
              "7  в карты  ...      False\n",
              "8  в карты  ...      False\n",
              "9  в карты  ...      False\n",
              "\n",
              "[10 rows x 10 columns]"
            ]
          },
          "metadata": {
            "tags": []
          },
          "execution_count": 56
        }
      ]
    },
    {
      "cell_type": "code",
      "metadata": {
        "id": "noedbh4t5mTz"
      },
      "source": [
        "cells_df.to_csv(\"cells_df.csv\", index=False)"
      ],
      "execution_count": null,
      "outputs": []
    },
    {
      "cell_type": "markdown",
      "metadata": {
        "id": "Ls98ABANOuYg"
      },
      "source": [
        "## Creating submission file and calculating accuracy on trial data"
      ]
    },
    {
      "cell_type": "code",
      "metadata": {
        "id": "bUb2Qc61S1gH"
      },
      "source": [
        "cells_df = pd.read_csv(\"cells_df.csv\")"
      ],
      "execution_count": null,
      "outputs": []
    },
    {
      "cell_type": "code",
      "metadata": {
        "id": "o8KFsL_YbkAN"
      },
      "source": [
        "correctly_identified_sketches_num = 0\r\n",
        "for sent_text, sent_sks_df in cells_df.groupby(by=[\"sent_text\"]):\r\n",
        "    sketches_skores = sent_sks_df.dropna().groupby(by=\"sketch\")\\\r\n",
        "                    .agg({\"ix\": \"count\", \"ok_sketch\": \"first\"})\r\n",
        "    if sketches_skores.nlargest(1, \"ix\").ok_sketch.any():\r\n",
        "        correctly_identified_sketches_num += 1"
      ],
      "execution_count": null,
      "outputs": []
    },
    {
      "cell_type": "code",
      "metadata": {
        "colab": {
          "base_uri": "https://localhost:8080/"
        },
        "id": "95AH6gRePyQh",
        "outputId": "b5bc40c7-0006-4825-d31f-0158f2c8f800"
      },
      "source": [
        "print('Accuracy on a trial data:', correctly_identified_sketches_num / 2000)"
      ],
      "execution_count": null,
      "outputs": [
        {
          "output_type": "stream",
          "text": [
            "Accuracy on a trial data: 0.1535\n"
          ],
          "name": "stdout"
        }
      ]
    },
    {
      "cell_type": "code",
      "metadata": {
        "id": "JXoCHJE8Pz5j"
      },
      "source": [
        "# Saving answers in the submission format\r\n",
        "import json\r\n",
        "\r\n",
        "predictions_df = cells_df[['sent', 'predicted_sketch']].copy()\r\n",
        "predict_dict = predictions_df.set_index('sent').to_dict()['predicted_sketch']\r\n",
        "predict_json = json.dumps(predict_dict)"
      ],
      "execution_count": null,
      "outputs": []
    },
    {
      "cell_type": "markdown",
      "metadata": {
        "id": "VoLyPDnWXHCd"
      },
      "source": [
        "##  Sketches scores visualization\r\n",
        "(see viz.pdf for results)"
      ]
    },
    {
      "cell_type": "code",
      "metadata": {
        "id": "LQoTsDqTXk5I"
      },
      "source": [
        "%load_ext rpy2.ipython"
      ],
      "execution_count": null,
      "outputs": []
    },
    {
      "cell_type": "code",
      "metadata": {
        "colab": {
          "base_uri": "https://localhost:8080/"
        },
        "id": "UXCPSoMMWY8u",
        "outputId": "d4f71d03-cbc5-458b-dbf5-6fed4f8bb8c6"
      },
      "source": [
        "%%R\r\n",
        "library(ggplot2)\r\n",
        "library(dplyr)\r\n",
        "library(stringr)\r\n",
        "\r\n",
        "mytable<-read.csv(\"cells_df.csv\",header=TRUE,stringsAsFactors=FALSE)\r\n",
        "\r\n",
        "cairo_pdf(\"viz.pdf\", family=\"DejaVu Sans\", onefile=T)\r\n",
        "for (sent_code in head(unique(mytable$sent), 2)){\r\n",
        "    first_sent = mytable[mytable$sent == sent_code,]\r\n",
        "    print(paste(sent_code, \"done\"))\r\n",
        "\r\n",
        "    for (curr_sketch_name in unique(first_sent$sketch_pretty_name)) { \r\n",
        "        sketch_df = first_sent[(first_sent$sketch_pretty_name == curr_sketch_name),]\r\n",
        "        sketch_name = sketch_df$sketch[1]\r\n",
        "        sent_text = sketch_df$sent_text[1]\r\n",
        "\r\n",
        "        color = ifelse(sketch_df$ok_sketch[1] == \"True\", \"lightgreen\", \"lightpink\")\r\n",
        "        # print(nrow(sketch_df[!is.na(sketch_df$ix) ,]) == 0,)\r\n",
        "        if(nrow(sketch_df[!is.na(sketch_df$ix) ,]) == 0){\r\n",
        "        }else{\r\n",
        "            fig = sketch_df %>% ggplot(aes(x=ix)) +\r\n",
        "            xlim(0,1000) + ylim(0,10) +  # all the histograms will share these axes limits \r\n",
        "            geom_histogram(bins=10) +  # all the histograms will be of 10 bins\r\n",
        "            facet_grid(row_ix ~ colname) + \r\n",
        "            labs(title=paste(curr_sketch_name, sketch_name), subtitle = sent_text) + \r\n",
        "            geom_text(data = sketch_df,\r\n",
        "                      mapping = aes(x = 500, y = 4,  # 500, 4 is nearly the center of the histogram\r\n",
        "                                    label = word %>% str_replace_all('[\\\\s-]', '\\n')),\r\n",
        "                      size=2) +  # size stands for fontsize\r\n",
        "            theme(strip.background = element_rect(fill=color),\r\n",
        "                  axis.text.x = element_text(angle = 90, hjust = 1))  # rotate x-ticks\r\n",
        "        \r\n",
        "            print(fig)  # prints as another page to PDF\r\n",
        "        }\r\n",
        "    }\r\n",
        "}\r\n",
        "\r\n",
        "dev.off()"
      ],
      "execution_count": null,
      "outputs": [
        {
          "output_type": "stream",
          "text": [
            "R[write to console]: \n",
            "Attaching package: ‘dplyr’\n",
            "\n",
            "\n",
            "R[write to console]: The following objects are masked from ‘package:stats’:\n",
            "\n",
            "    filter, lag\n",
            "\n",
            "\n",
            "R[write to console]: The following objects are masked from ‘package:base’:\n",
            "\n",
            "    intersect, setdiff, setequal, union\n",
            "\n",
            "\n"
          ],
          "name": "stderr"
        },
        {
          "output_type": "stream",
          "text": [
            "[1] \"trial.sent.rus.0 done\"\n",
            "[1] \"trial.sent.rus.1 done\"\n",
            "png \n",
            "  2 \n"
          ],
          "name": "stdout"
        }
      ]
    },
    {
      "cell_type": "code",
      "metadata": {
        "id": "mRZh0GmcXZf7"
      },
      "source": [
        ""
      ],
      "execution_count": null,
      "outputs": []
    }
  ]
}